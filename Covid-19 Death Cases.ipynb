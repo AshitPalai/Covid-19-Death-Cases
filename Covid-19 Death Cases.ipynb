{
 "cells": [
  {
   "cell_type": "markdown",
   "id": "15bf64d5",
   "metadata": {},
   "source": [
    "### Importing libraries"
   ]
  },
  {
   "cell_type": "code",
   "execution_count": 1,
   "id": "c96ffe8d",
   "metadata": {},
   "outputs": [
    {
     "name": "stdout",
     "output_type": "stream",
     "text": [
      "\u001b[34mAll Libraries Imported Successfully!\n"
     ]
    }
   ],
   "source": [
    "import os\n",
    "import warnings \n",
    "\n",
    "import numpy as np\n",
    "import pandas as pd\n",
    "\n",
    "import matplotlib.pyplot as plt \n",
    "import seaborn as sns \n",
    "import plotly.express as px #for plotting unique charts\n",
    "import plotly.io as pio\n",
    "\n",
    "import colorama # built in python module to express texts in different colors\n",
    "from colorama import Fore, Style\n",
    "warnings.simplefilter(action='ignore', category=FutureWarning)\n",
    "print(Fore.BLUE + \"All Libraries Imported Successfully!\")"
   ]
  },
  {
   "cell_type": "code",
   "execution_count": 2,
   "id": "c5e642d3",
   "metadata": {},
   "outputs": [],
   "source": [
    "mydata=pd.read_csv(\"file:///C:/Users/hp/Downloads/coviddeathbycountry.csv\")"
   ]
  },
  {
   "cell_type": "markdown",
   "id": "01423c45",
   "metadata": {},
   "source": [
    "### Loading dataset"
   ]
  },
  {
   "cell_type": "code",
   "execution_count": 3,
   "id": "028d5d84",
   "metadata": {},
   "outputs": [
    {
     "data": {
      "text/html": [
       "<div>\n",
       "<style scoped>\n",
       "    .dataframe tbody tr th:only-of-type {\n",
       "        vertical-align: middle;\n",
       "    }\n",
       "\n",
       "    .dataframe tbody tr th {\n",
       "        vertical-align: top;\n",
       "    }\n",
       "\n",
       "    .dataframe thead th {\n",
       "        text-align: right;\n",
       "    }\n",
       "</style>\n",
       "<table border=\"1\" class=\"dataframe\">\n",
       "  <thead>\n",
       "    <tr style=\"text-align: right;\">\n",
       "      <th></th>\n",
       "      <th>Country</th>\n",
       "      <th>Deaths</th>\n",
       "      <th>Cases</th>\n",
       "    </tr>\n",
       "  </thead>\n",
       "  <tbody>\n",
       "    <tr>\n",
       "      <th>0</th>\n",
       "      <td>Peru</td>\n",
       "      <td>213769</td>\n",
       "      <td>3729879</td>\n",
       "    </tr>\n",
       "    <tr>\n",
       "      <th>1</th>\n",
       "      <td>Bulgaria</td>\n",
       "      <td>37289</td>\n",
       "      <td>1183877</td>\n",
       "    </tr>\n",
       "    <tr>\n",
       "      <th>2</th>\n",
       "      <td>Bosnia and Herzegovina</td>\n",
       "      <td>15817</td>\n",
       "      <td>380749</td>\n",
       "    </tr>\n",
       "    <tr>\n",
       "      <th>3</th>\n",
       "      <td>Hungary</td>\n",
       "      <td>46696</td>\n",
       "      <td>1940824</td>\n",
       "    </tr>\n",
       "    <tr>\n",
       "      <th>4</th>\n",
       "      <td>Georgia</td>\n",
       "      <td>16847</td>\n",
       "      <td>1667453</td>\n",
       "    </tr>\n",
       "  </tbody>\n",
       "</table>\n",
       "</div>"
      ],
      "text/plain": [
       "                  Country  Deaths    Cases\n",
       "0                    Peru  213769  3729879\n",
       "1                Bulgaria   37289  1183877\n",
       "2  Bosnia and Herzegovina   15817   380749\n",
       "3                 Hungary   46696  1940824\n",
       "4                 Georgia   16847  1667453"
      ]
     },
     "execution_count": 3,
     "metadata": {},
     "output_type": "execute_result"
    }
   ],
   "source": [
    "mydata.head()"
   ]
  },
  {
   "cell_type": "code",
   "execution_count": 4,
   "id": "055f55a6",
   "metadata": {},
   "outputs": [
    {
     "data": {
      "text/plain": [
       "(217, 3)"
      ]
     },
     "execution_count": 4,
     "metadata": {},
     "output_type": "execute_result"
    }
   ],
   "source": [
    "mydata.shape"
   ]
  },
  {
   "cell_type": "code",
   "execution_count": 5,
   "id": "0634107d",
   "metadata": {},
   "outputs": [
    {
     "name": "stdout",
     "output_type": "stream",
     "text": [
      "<class 'pandas.core.frame.DataFrame'>\n",
      "RangeIndex: 217 entries, 0 to 216\n",
      "Data columns (total 3 columns):\n",
      " #   Column   Non-Null Count  Dtype \n",
      "---  ------   --------------  ----- \n",
      " 0   Country  217 non-null    object\n",
      " 1   Deaths   217 non-null    object\n",
      " 2   Cases    217 non-null    int64 \n",
      "dtypes: int64(1), object(2)\n",
      "memory usage: 5.2+ KB\n"
     ]
    }
   ],
   "source": [
    "mydata.info()"
   ]
  },
  {
   "cell_type": "code",
   "execution_count": 6,
   "id": "3934b233",
   "metadata": {},
   "outputs": [
    {
     "data": {
      "text/plain": [
       "Country    0\n",
       "Deaths     0\n",
       "Cases      0\n",
       "dtype: int64"
      ]
     },
     "execution_count": 6,
     "metadata": {},
     "output_type": "execute_result"
    }
   ],
   "source": [
    "mydata.isnull().sum()"
   ]
  },
  {
   "cell_type": "code",
   "execution_count": 11,
   "id": "e26cdc64",
   "metadata": {},
   "outputs": [
    {
     "data": {
      "text/plain": [
       "Country    object\n",
       "Deaths     object\n",
       "Cases       int64\n",
       "dtype: object"
      ]
     },
     "execution_count": 11,
     "metadata": {},
     "output_type": "execute_result"
    }
   ],
   "source": [
    "mydata.dtypes"
   ]
  },
  {
   "cell_type": "code",
   "execution_count": 7,
   "id": "8991ddfb",
   "metadata": {},
   "outputs": [
    {
     "data": {
      "text/html": [
       "<div>\n",
       "<style scoped>\n",
       "    .dataframe tbody tr th:only-of-type {\n",
       "        vertical-align: middle;\n",
       "    }\n",
       "\n",
       "    .dataframe tbody tr th {\n",
       "        vertical-align: top;\n",
       "    }\n",
       "\n",
       "    .dataframe thead th {\n",
       "        text-align: right;\n",
       "    }\n",
       "</style>\n",
       "<table border=\"1\" class=\"dataframe\">\n",
       "  <thead>\n",
       "    <tr style=\"text-align: right;\">\n",
       "      <th></th>\n",
       "      <th>Cases</th>\n",
       "    </tr>\n",
       "  </thead>\n",
       "  <tbody>\n",
       "    <tr>\n",
       "      <th>count</th>\n",
       "      <td>2.170000e+02</td>\n",
       "    </tr>\n",
       "    <tr>\n",
       "      <th>mean</th>\n",
       "      <td>3.300453e+06</td>\n",
       "    </tr>\n",
       "    <tr>\n",
       "      <th>std</th>\n",
       "      <td>1.320264e+07</td>\n",
       "    </tr>\n",
       "    <tr>\n",
       "      <th>min</th>\n",
       "      <td>1.000000e+00</td>\n",
       "    </tr>\n",
       "    <tr>\n",
       "      <th>25%</th>\n",
       "      <td>2.838900e+04</td>\n",
       "    </tr>\n",
       "    <tr>\n",
       "      <th>50%</th>\n",
       "      <td>2.348800e+05</td>\n",
       "    </tr>\n",
       "    <tr>\n",
       "      <th>75%</th>\n",
       "      <td>1.287088e+06</td>\n",
       "    </tr>\n",
       "    <tr>\n",
       "      <th>max</th>\n",
       "      <td>1.547888e+08</td>\n",
       "    </tr>\n",
       "  </tbody>\n",
       "</table>\n",
       "</div>"
      ],
      "text/plain": [
       "              Cases\n",
       "count  2.170000e+02\n",
       "mean   3.300453e+06\n",
       "std    1.320264e+07\n",
       "min    1.000000e+00\n",
       "25%    2.838900e+04\n",
       "50%    2.348800e+05\n",
       "75%    1.287088e+06\n",
       "max    1.547888e+08"
      ]
     },
     "execution_count": 7,
     "metadata": {},
     "output_type": "execute_result"
    }
   ],
   "source": [
    "mydata.describe()"
   ]
  },
  {
   "cell_type": "code",
   "execution_count": 8,
   "id": "db1fa80b",
   "metadata": {},
   "outputs": [
    {
     "name": "stdout",
     "output_type": "stream",
     "text": [
      "\u001b[34mThere are 217 unique Countries in our Dataset\n"
     ]
    }
   ],
   "source": [
    "int = mydata[\"Country\"].nunique()\n",
    "print(Fore.BLUE + \"There are\" + \" \" + str(int) + \" \" + \"unique Countries in our Dataset\")"
   ]
  },
  {
   "cell_type": "code",
   "execution_count": 12,
   "id": "1d5c0fa1",
   "metadata": {},
   "outputs": [],
   "source": [
    "mydata['Deaths'] = mydata['Deaths'].str.replace('—','0')"
   ]
  },
  {
   "cell_type": "code",
   "execution_count": 13,
   "id": "260162c3",
   "metadata": {},
   "outputs": [],
   "source": [
    "mydata[\"Deaths\"] = pd.to_numeric(mydata[\"Deaths\"])"
   ]
  },
  {
   "cell_type": "code",
   "execution_count": 14,
   "id": "c81c05e6",
   "metadata": {},
   "outputs": [
    {
     "data": {
      "text/plain": [
       "Country    object\n",
       "Deaths      int64\n",
       "Cases       int64\n",
       "dtype: object"
      ]
     },
     "execution_count": 14,
     "metadata": {},
     "output_type": "execute_result"
    }
   ],
   "source": [
    "mydata.dtypes"
   ]
  },
  {
   "cell_type": "code",
   "execution_count": 31,
   "id": "1603b44a",
   "metadata": {},
   "outputs": [
    {
     "data": {
      "image/png": "[encoded data removed]",
      "text/plain": [
       "<Figure size 1080x720 with 1 Axes>"
      ]
     },
     "metadata": {
      "needs_background": "light"
     },
     "output_type": "display_data"
    }
   ],
   "source": [
    "dfa = mydata.sort_values('Deaths', ascending = False)\n",
    "plt.figure(figsize=(15,10))\n",
    "ax_1 = sns.barplot(x='Country', y='Deaths', data=dfa.head(10), palette='rocket')\n",
    "\n",
    "plt.xticks(fontsize=13, color='black', rotation=90)\n",
    "plt.yticks(fontsize=13, color='black')\n",
    "plt.xlabel('Countries', size = 18, color='red')\n",
    "plt.ylabel('Deaths', size = 17 , color='red')\n",
    "plt.title('Top 10 countries with high covid-19 death rates', size = 22 , color='black')\n",
    "plt.show()"
   ]
  },
  {
   "cell_type": "code",
   "execution_count": 33,
   "id": "218a00ca",
   "metadata": {},
   "outputs": [
    {
     "data": {
      "image/png": "[encoded data removed]",
      "text/plain": [
       "<Figure size 1080x720 with 1 Axes>"
      ]
     },
     "metadata": {
      "needs_background": "light"
     },
     "output_type": "display_data"
    }
   ],
   "source": [
    "dfa_case = mydata.sort_values('Cases', ascending = False)\n",
    "\n",
    "plt.figure(figsize=(15,10))\n",
    "ax_1 = sns.barplot(x='Country', y='Cases', data=dfa_case.head(10), palette='rocket')\n",
    "\n",
    "plt.xticks(fontsize=13, color='black', rotation=90)\n",
    "plt.yticks(fontsize=13, color='black')\n",
    "plt.xlabel('Countries', size = 18, color='red')\n",
    "plt.ylabel('Cases', size = 17 , color='red')\n",
    "plt.title('Top 10 countries with high covid-19 death rates', size = 22 , color='black')\n",
    "plt.show()"
   ]
  },
  {
   "cell_type": "markdown",
   "id": "89d84dd6",
   "metadata": {},
   "source": [
    "### Scatter plot of cross cases & deaths"
   ]
  },
  {
   "cell_type": "code",
   "execution_count": 35,
   "id": "1133b9f9",
   "metadata": {},
   "outputs": [
    {
     "data": {
      "application/vnd.plotly.v1+json": {
       "config": {
        "plotlyServerURL": "https://plot.ly"
       },
       "data": [
        {
         "customdata": [
          [
           "Peru"
          ],
          [
           "Bulgaria"
          ],
          [
           "Bosnia and Herzegovina"
          ],
          [
           "Hungary"
          ],
          [
           "Georgia"
          ],
          [
           "North Macedonia"
          ],
          [
           "Montenegro"
          ],
          [
           "Croatia"
          ],
          [
           "Czech Republic"
          ],
          [
           "Moldova"
          ],
          [
           "Slovakia"
          ],
          [
           "San Marino"
          ],
          [
           "Romania"
          ],
          [
           "Lithuania"
          ],
          [
           "Gibraltar"
          ],
          [
           "Brazil"
          ],
          [
           "Slovenia"
          ],
          [
           "Latvia"
          ],
          [
           "Armenia"
          ],
          [
           "Poland"
          ],
          [
           "United States"
          ],
          [
           "Chile"
          ],
          [
           "Greece"
          ],
          [
           "Italy"
          ],
          [
           "Argentina"
          ],
          [
           "Paraguay"
          ],
          [
           "Belgium"
          ],
          [
           "Colombia"
          ],
          [
           "United Kingdom"
          ],
          [
           "Ukraine"
          ],
          [
           "Trinidad and Tobago"
          ],
          [
           "Russia"
          ],
          [
           "Mexico"
          ],
          [
           "European Union[b]"
          ],
          [
           "Portugal"
          ],
          [
           "Serbia"
          ],
          [
           "Tunisia"
          ],
          [
           "Spain"
          ],
          [
           "Austria"
          ],
          [
           "Suriname"
          ],
          [
           "France"
          ],
          [
           "Bermuda"
          ],
          [
           "Liechtenstein"
          ],
          [
           "Uruguay"
          ],
          [
           "Saint Lucia"
          ],
          [
           "French Polynesia"
          ],
          [
           "Aruba"
          ],
          [
           "British Virgin Islands"
          ],
          [
           "Bahamas"
          ],
          [
           "Ecuador"
          ],
          [
           "Estonia"
          ],
          [
           "Andorra"
          ],
          [
           "Panama"
          ],
          [
           "Lebanon"
          ],
          [
           "Grenada"
          ],
          [
           "Sweden"
          ],
          [
           "Bolivia"
          ],
          [
           "Montserrat"
          ],
          [
           "Kosovo"
          ],
          [
           "Luxembourg"
          ],
          [
           "South Africa"
          ],
          [
           "Germany"
          ],
          [
           "Barbados"
          ],
          [
           "Belize"
          ],
          [
           "Costa Rica"
          ],
          [
           "Monaco"
          ],
          [
           "Iran"
          ],
          [
           "Namibia"
          ],
          [
           "Switzerland"
          ],
          [
           "Guyana"
          ],
          [
           "Seychelles"
          ],
          [
           "Antigua and Barbuda"
          ],
          [
           "Republic of Ireland"
          ],
          [
           "Curaçao"
          ],
          [
           "Malta"
          ],
          [
           "Caribbean Netherlands"
          ],
          [
           "Isle of Man"
          ],
          [
           "Netherlands"
          ],
          [
           "Jordan"
          ],
          [
           "Hong Kong"
          ],
          [
           "Albania"
          ],
          [
           "Cyprus"
          ],
          [
           "Israel"
          ],
          [
           "Eswatini"
          ],
          [
           "Turkey"
          ],
          [
           "Canada"
          ],
          [
           "Jamaica"
          ],
          [
           "Denmark"
          ],
          [
           "Palestine"
          ],
          [
           "Saint Vincent and the Grenadines"
          ],
          [
           "New Caledonia"
          ],
          [
           "Malaysia"
          ],
          [
           "Guatemala"
          ],
          [
           "Botswana"
          ],
          [
           "Honduras"
          ],
          [
           "Bahrain"
          ],
          [
           "Oman"
          ],
          [
           "Kazakhstan"
          ],
          [
           "Libya"
          ],
          [
           "Saint Kitts and Nevis"
          ],
          [
           "Azerbaijan"
          ],
          [
           "Fiji"
          ],
          [
           "Dominica"
          ],
          [
           "Finland"
          ],
          [
           "Turks and Caicos Islands"
          ],
          [
           "Mauritius"
          ],
          [
           "Sri Lanka"
          ],
          [
           "Cuba"
          ],
          [
           "Belarus"
          ],
          [
           "Cabo Verde"
          ],
          [
           "El Salvador"
          ],
          [
           "Norway"
          ],
          [
           "Mongolia"
          ],
          [
           "Wallis and Futuna"
          ],
          [
           "Kuwait"
          ],
          [
           "Maldives"
          ],
          [
           "Iraq"
          ],
          [
           "Indonesia"
          ],
          [
           "Anguilla"
          ],
          [
           "Philippines"
          ],
          [
           "Faroe Islands"
          ],
          [
           "Brunei"
          ],
          [
           "Iceland"
          ],
          [
           "South Korea"
          ],
          [
           "Kyrgyzstan"
          ],
          [
           "Vietnam"
          ],
          [
           "Morocco"
          ],
          [
           "Thailand"
          ],
          [
           "Cayman Islands"
          ],
          [
           "Australia"
          ],
          [
           "Nepal"
          ],
          [
           "Dominican Republic"
          ],
          [
           "India"
          ],
          [
           "Greenland"
          ],
          [
           "Myanmar"
          ],
          [
           "Zimbabwe"
          ],
          [
           "New Zealand"
          ],
          [
           "Taiwan"
          ],
          [
           "Palau"
          ],
          [
           "Sao Tome and Principe"
          ],
          [
           "Lesotho"
          ],
          [
           "Singapore"
          ],
          [
           "Saudi Arabia"
          ],
          [
           "Japan"
          ],
          [
           "Qatar"
          ],
          [
           "United Arab Emirates"
          ],
          [
           "Egypt"
          ],
          [
           "Solomon Islands"
          ],
          [
           "Mauritania"
          ],
          [
           "Zambia"
          ],
          [
           "Venezuela"
          ],
          [
           "Comoros"
          ],
          [
           "Afghanistan"
          ],
          [
           "Cambodia"
          ],
          [
           "Bangladesh"
          ],
          [
           "Djibouti"
          ],
          [
           "Saint Pierre and Miquelon"
          ],
          [
           "Algeria"
          ],
          [
           "Syria"
          ],
          [
           "Gambia"
          ],
          [
           "Malawi"
          ],
          [
           "Samoa"
          ],
          [
           "Pakistan"
          ],
          [
           "Gabon"
          ],
          [
           "Senegal"
          ],
          [
           "Tonga"
          ],
          [
           "Equatorial Guinea"
          ],
          [
           "Rwanda"
          ],
          [
           "Sudan"
          ],
          [
           "Kenya"
          ],
          [
           "Laos"
          ],
          [
           "Kiribati"
          ],
          [
           "Timor-Leste"
          ],
          [
           "Guinea-Bissau"
          ],
          [
           "Somalia"
          ],
          [
           "Uganda"
          ],
          [
           "Haiti"
          ],
          [
           "Cameroon"
          ],
          [
           "Mozambique"
          ],
          [
           "Papua New Guinea"
          ],
          [
           "Republic of the Congo"
          ],
          [
           "Yemen"
          ],
          [
           "Ethiopia"
          ],
          [
           "Cook Islands"
          ],
          [
           "Liberia"
          ],
          [
           "Angola"
          ],
          [
           "Madagascar"
          ],
          [
           "Uzbekistan"
          ],
          [
           "Ghana"
          ],
          [
           "Vanuatu"
          ],
          [
           "Nicaragua"
          ],
          [
           "Mali"
          ],
          [
           "Guinea"
          ],
          [
           "Togo"
          ],
          [
           "Ivory Coast"
          ],
          [
           "Eritrea"
          ],
          [
           "Bhutan"
          ],
          [
           "Central African Republic"
          ],
          [
           "Burkina Faso"
          ],
          [
           "Sierra Leone"
          ],
          [
           "Nigeria"
          ],
          [
           "Democratic Republic of the Congo"
          ],
          [
           "Tanzania"
          ],
          [
           "South Sudan"
          ],
          [
           "Tajikistan"
          ],
          [
           "Benin"
          ],
          [
           "Niger"
          ],
          [
           "Chad"
          ],
          [
           "Macau"
          ],
          [
           "China[c]"
          ],
          [
           "Burundi"
          ],
          [
           "North Korea"
          ],
          [
           "Vatican City"
          ],
          [
           "Falkland Islands"
          ],
          [
           "Saint Helena, Ascension and Tristan da Cunha"
          ],
          [
           "Federated States of Micronesia"
          ],
          [
           "Marshall Islands"
          ]
         ],
         "hovertemplate": "Cases=%{x}<br>Deaths=%{marker.color}<br>Country=%{customdata[0]}<extra></extra>",
         "legendgroup": "",
         "marker": {
          "color": [
           213769,
           37289,
           15817,
           46696,
           16847,
           9339,
           2730,
           16143,
           40350,
           11584,
           20169,
           116,
           65805,
           9188,
           105,
           675090,
           6666,
           5875,
           8629,
           116470,
           1023736,
           58990,
           30476,
           169735,
           129145,
           19083,
           32051,
           140365,
           181761,
           116422,
           4036,
           374062,
           326420,
           1110232,
           24381,
           16166,
           28823,
           109348,
           20163,
           1377,
           150483,
           141,
           85,
           7373,
           385,
           649,
           224,
           63,
           822,
           35769,
           2608,
           153,
           8386,
           10485,
           233,
           19203,
           21979,
           8,
           3146,
           1103,
           101895,
           142533,
           479,
           680,
           8525,
           60,
           141477,
           4068,
           13857,
           1264,
           167,
           143,
           7571,
           280,
           768,
           37,
           110,
           22509,
           14069,
           9432,
           3517,
           1086,
           11101,
           1417,
           99088,
           43510,
           3166,
           6551,
           5662,
           115,
           314,
           35844,
           18782,
           2760,
           10912,
           1505,
           4628,
           19020,
           6430,
           45,
           9717,
           869,
           68,
           5012,
           36,
           1008,
           16527,
           8529,
           7118,
           409,
           4171,
           3504,
           2119,
           7,
           2556,
           307,
           25263,
           156833,
           9,
           60641,
           28,
           225,
           179,
           24728,
           2991,
           43090,
           16173,
           30958,
           29,
           10659,
           11952,
           4383,
           525660,
           21,
           19434,
           5566,
           1741,
           8031,
           6,
           74,
           702,
           1447,
           9229,
           31561,
           680,
           2325,
           24725,
           153,
           986,
           4009,
           5745,
           160,
           7729,
           3056,
           29225,
           189,
           1,
           6875,
           3150,
           365,
           2652,
           29,
           30438,
           306,
           1968,
           12,
           183,
           1462,
           4955,
           5668,
           757,
           13,
           133,
           171,
           1361,
           3627,
           837,
           1931,
           2215,
           662,
           386,
           2149,
           7561,
           1,
           294,
           1909,
           1403,
           1637,
           1456,
           14,
           244,
           737,
           445,
           275,
           806,
           103,
           21,
           113,
           387,
           125,
           3144,
           1376,
           841,
           138,
           125,
           163,
           311,
           193,
           5,
           5226,
           38,
           6,
           0,
           0,
           0,
           0,
           0
          ],
          "coloraxis": "coloraxis",
          "size": [
           213769,
           37289,
           15817,
           46696,
           16847,
           9339,
           2730,
           16143,
           40350,
           11584,
           20169,
           116,
           65805,
           9188,
           105,
           675090,
           6666,
           5875,
           8629,
           116470,
           1023736,
           58990,
           30476,
           169735,
           129145,
           19083,
           32051,
           140365,
           181761,
           116422,
           4036,
           374062,
           326420,
           1110232,
           24381,
           16166,
           28823,
           109348,
           20163,
           1377,
           150483,
           141,
           85,
           7373,
           385,
           649,
           224,
           63,
           822,
           35769,
           2608,
           153,
           8386,
           10485,
           233,
           19203,
           21979,
           8,
           3146,
           1103,
           101895,
           142533,
           479,
           680,
           8525,
           60,
           141477,
           4068,
           13857,
           1264,
           167,
           143,
           7571,
           280,
           768,
           37,
           110,
           22509,
           14069,
           9432,
           3517,
           1086,
           11101,
           1417,
           99088,
           43510,
           3166,
           6551,
           5662,
           115,
           314,
           35844,
           18782,
           2760,
           10912,
           1505,
           4628,
           19020,
           6430,
           45,
           9717,
           869,
           68,
           5012,
           36,
           1008,
           16527,
           8529,
           7118,
           409,
           4171,
           3504,
           2119,
           7,
           2556,
           307,
           25263,
           156833,
           9,
           60641,
           28,
           225,
           179,
           24728,
           2991,
           43090,
           16173,
           30958,
           29,
           10659,
           11952,
           4383,
           525660,
           21,
           19434,
           5566,
           1741,
           8031,
           6,
           74,
           702,
           1447,
           9229,
           31561,
           680,
           2325,
           24725,
           153,
           986,
           4009,
           5745,
           160,
           7729,
           3056,
           29225,
           189,
           1,
           6875,
           3150,
           365,
           2652,
           29,
           30438,
           306,
           1968,
           12,
           183,
           1462,
           4955,
           5668,
           757,
           13,
           133,
           171,
           1361,
           3627,
           837,
           1931,
           2215,
           662,
           386,
           2149,
           7561,
           1,
           294,
           1909,
           1403,
           1637,
           1456,
           14,
           244,
           737,
           445,
           275,
           806,
           103,
           21,
           113,
           387,
           125,
           3144,
           1376,
           841,
           138,
           125,
           163,
           311,
           193,
           5,
           5226,
           38,
           6,
           0,
           0,
           0,
           0,
           0
          ],
          "sizemode": "area",
          "sizeref": 2775.58,
          "symbol": "circle"
         },
         "mode": "markers",
         "name": "",
         "orientation": "v",
         "showlegend": false,
         "type": "scatter",
         "x": [
          3729879,
          1183877,
          380749,
          1940824,
          1667453,
          318138,
          245896,
          1165478,
          3951803,
          523034,
          2562431,
          19132,
          2958051,
          1168585,
          19862,
          33250117,
          1057817,
          844980,
          423771,
          6029947,
          89453076,
          4122401,
          3843142,
          19985479,
          9426171,
          688820,
          4349050,
          6223497,
          23160756,
          5289732,
          169028,
          18211383,
          6408443,
          154788776,
          5273845,
          2052116,
          1087030,
          13090476,
          4618853,
          80919,
          32737629,
          16722,
          18335,
          965370,
          27464,
          74022,
          41787,
          7131,
          36354,
          927700,
          585143,
          44671,
          938791,
          1135565,
          18640,
          2528166,
          960779,
          1025,
          234880,
          275512,
          3998466,
          29692989,
          87219,
          65994,
          904934,
          13739,
          7270023,
          169253,
          3861756,
          68730,
          45185,
          8704,
          1628745,
          44782,
          110501,
          10567,
          37239,
          8284784,
          1702661,
          1287088,
          293917,
          545896,
          4498027,
          73235,
          15297539,
          4024060,
          144489,
          3203739,
          662588,
          9183,
          66732,
          4613998,
          977539,
          324841,
          430672,
          646695,
          391641,
          1402871,
          502289,
          6367,
          793388,
          66713,
          14852,
          1171034,
          6255,
          233082,
          664389,
          1106666,
          994037,
          61776,
          180970,
          1452521,
          930677,
          456,
          648216,
          183491,
          2399795,
          6127084,
          3496,
          3727970,
          34658,
          182950,
          199611,
          18721415,
          201414,
          10759145,
          1248856,
          4554976,
          28389,
          8734573,
          981142,
          621047,
          43730071,
          11971,
          613798,
          256083,
          1494272,
          4215200,
          5308,
          6079,
          34040,
          1579946,
          802586,
          10102454,
          392916,
          970586,
          515645,
          21544,
          61763,
          327994,
          529384,
          8209,
          183407,
          136421,
          1994433,
          15690,
          2970,
          266392,
          55973,
          12009,
          86900,
          15155,
          1545647,
          48289,
          86679,
          12382,
          16584,
          131832,
          62795,
          336578,
          210462,
          3236,
          22976,
          8400,
          26900,
          168629,
          32070,
          120068,
          228972,
          44761,
          24604,
          11832,
          490925,
          5831,
          7504,
          101901,
          66098,
          242043,
          167215,
          11722,
          14751,
          31196,
          37358,
          37745,
          84451,
          9852,
          59940,
          14712,
          21128,
          7721,
          258934,
          91737,
          37510,
          17733,
          17786,
          27216,
          9096,
          7427,
          711,
          894689,
          43222,
          1,
          29,
          1831,
          4,
          38,
          49
         ],
         "xaxis": "x",
         "y": [
          213769,
          37289,
          15817,
          46696,
          16847,
          9339,
          2730,
          16143,
          40350,
          11584,
          20169,
          116,
          65805,
          9188,
          105,
          675090,
          6666,
          5875,
          8629,
          116470,
          1023736,
          58990,
          30476,
          169735,
          129145,
          19083,
          32051,
          140365,
          181761,
          116422,
          4036,
          374062,
          326420,
          1110232,
          24381,
          16166,
          28823,
          109348,
          20163,
          1377,
          150483,
          141,
          85,
          7373,
          385,
          649,
          224,
          63,
          822,
          35769,
          2608,
          153,
          8386,
          10485,
          233,
          19203,
          21979,
          8,
          3146,
          1103,
          101895,
          142533,
          479,
          680,
          8525,
          60,
          141477,
          4068,
          13857,
          1264,
          167,
          143,
          7571,
          280,
          768,
          37,
          110,
          22509,
          14069,
          9432,
          3517,
          1086,
          11101,
          1417,
          99088,
          43510,
          3166,
          6551,
          5662,
          115,
          314,
          35844,
          18782,
          2760,
          10912,
          1505,
          4628,
          19020,
          6430,
          45,
          9717,
          869,
          68,
          5012,
          36,
          1008,
          16527,
          8529,
          7118,
          409,
          4171,
          3504,
          2119,
          7,
          2556,
          307,
          25263,
          156833,
          9,
          60641,
          28,
          225,
          179,
          24728,
          2991,
          43090,
          16173,
          30958,
          29,
          10659,
          11952,
          4383,
          525660,
          21,
          19434,
          5566,
          1741,
          8031,
          6,
          74,
          702,
          1447,
          9229,
          31561,
          680,
          2325,
          24725,
          153,
          986,
          4009,
          5745,
          160,
          7729,
          3056,
          29225,
          189,
          1,
          6875,
          3150,
          365,
          2652,
          29,
          30438,
          306,
          1968,
          12,
          183,
          1462,
          4955,
          5668,
          757,
          13,
          133,
          171,
          1361,
          3627,
          837,
          1931,
          2215,
          662,
          386,
          2149,
          7561,
          1,
          294,
          1909,
          1403,
          1637,
          1456,
          14,
          244,
          737,
          445,
          275,
          806,
          103,
          21,
          113,
          387,
          125,
          3144,
          1376,
          841,
          138,
          125,
          163,
          311,
          193,
          5,
          5226,
          38,
          6,
          0,
          0,
          0,
          0,
          0
         ],
         "yaxis": "y"
        }
       ],
       "layout": {
        "coloraxis": {
         "colorbar": {
          "title": {
           "text": "Deaths"
          }
         },
         "colorscale": [
          [
           0,
           "#0d0887"
          ],
          [
           0.1111111111111111,
           "#46039f"
          ],
          [
           0.2222222222222222,
           "#7201a8"
          ],
          [
           0.3333333333333333,
           "#9c179e"
          ],
          [
           0.4444444444444444,
           "#bd3786"
          ],
          [
           0.5555555555555556,
           "#d8576b"
          ],
          [
           0.6666666666666666,
           "#ed7953"
          ],
          [
           0.7777777777777778,
           "#fb9f3a"
          ],
          [
           0.8888888888888888,
           "#fdca26"
          ],
          [
           1,
           "#f0f921"
          ]
         ]
        },
        "legend": {
         "itemsizing": "constant",
         "tracegroupgap": 0
        },
        "template": {
         "data": {
          "bar": [
           {
            "error_x": {
             "color": "#2a3f5f"
            },
            "error_y": {
             "color": "#2a3f5f"
            },
            "marker": {
             "line": {
              "color": "white",
              "width": 0.5
             },
             "pattern": {
              "fillmode": "overlay",
              "size": 10,
              "solidity": 0.2
             }
            },
            "type": "bar"
           }
          ],
          "barpolar": [
           {
            "marker": {
             "line": {
              "color": "white",
              "width": 0.5
             },
             "pattern": {
              "fillmode": "overlay",
              "size": 10,
              "solidity": 0.2
             }
            },
            "type": "barpolar"
           }
          ],
          "carpet": [
           {
            "aaxis": {
             "endlinecolor": "#2a3f5f",
             "gridcolor": "#C8D4E3",
             "linecolor": "#C8D4E3",
             "minorgridcolor": "#C8D4E3",
             "startlinecolor": "#2a3f5f"
            },
            "baxis": {
             "endlinecolor": "#2a3f5f",
             "gridcolor": "#C8D4E3",
             "linecolor": "#C8D4E3",
             "minorgridcolor": "#C8D4E3",
             "startlinecolor": "#2a3f5f"
            },
            "type": "carpet"
           }
          ],
          "choropleth": [
           {
            "colorbar": {
             "outlinewidth": 0,
             "ticks": ""
            },
            "type": "choropleth"
           }
          ],
          "contour": [
           {
            "colorbar": {
             "outlinewidth": 0,
             "ticks": ""
            },
            "colorscale": [
             [
              0,
              "#0d0887"
             ],
             [
              0.1111111111111111,
              "#46039f"
             ],
             [
              0.2222222222222222,
              "#7201a8"
             ],
             [
              0.3333333333333333,
              "#9c179e"
             ],
             [
              0.4444444444444444,
              "#bd3786"
             ],
             [
              0.5555555555555556,
              "#d8576b"
             ],
             [
              0.6666666666666666,
              "#ed7953"
             ],
             [
              0.7777777777777778,
              "#fb9f3a"
             ],
             [
              0.8888888888888888,
              "#fdca26"
             ],
             [
              1,
              "#f0f921"
             ]
            ],
            "type": "contour"
           }
          ],
          "contourcarpet": [
           {
            "colorbar": {
             "outlinewidth": 0,
             "ticks": ""
            },
            "type": "contourcarpet"
           }
          ],
          "heatmap": [
           {
            "colorbar": {
             "outlinewidth": 0,
             "ticks": ""
            },
            "colorscale": [
             [
              0,
              "#0d0887"
             ],
             [
              0.1111111111111111,
              "#46039f"
             ],
             [
              0.2222222222222222,
              "#7201a8"
             ],
             [
              0.3333333333333333,
              "#9c179e"
             ],
             [
              0.4444444444444444,
              "#bd3786"
             ],
             [
              0.5555555555555556,
              "#d8576b"
             ],
             [
              0.6666666666666666,
              "#ed7953"
             ],
             [
              0.7777777777777778,
              "#fb9f3a"
             ],
             [
              0.8888888888888888,
              "#fdca26"
             ],
             [
              1,
              "#f0f921"
             ]
            ],
            "type": "heatmap"
           }
          ],
          "heatmapgl": [
           {
            "colorbar": {
             "outlinewidth": 0,
             "ticks": ""
            },
            "colorscale": [
             [
              0,
              "#0d0887"
             ],
             [
              0.1111111111111111,
              "#46039f"
             ],
             [
              0.2222222222222222,
              "#7201a8"
             ],
             [
              0.3333333333333333,
              "#9c179e"
             ],
             [
              0.4444444444444444,
              "#bd3786"
             ],
             [
              0.5555555555555556,
              "#d8576b"
             ],
             [
              0.6666666666666666,
              "#ed7953"
             ],
             [
              0.7777777777777778,
              "#fb9f3a"
             ],
             [
              0.8888888888888888,
              "#fdca26"
             ],
             [
              1,
              "#f0f921"
             ]
            ],
            "type": "heatmapgl"
           }
          ],
          "histogram": [
           {
            "marker": {
             "pattern": {
              "fillmode": "overlay",
              "size": 10,
              "solidity": 0.2
             }
            },
            "type": "histogram"
           }
          ],
          "histogram2d": [
           {
            "colorbar": {
             "outlinewidth": 0,
             "ticks": ""
            },
            "colorscale": [
             [
              0,
              "#0d0887"
             ],
             [
              0.1111111111111111,
              "#46039f"
             ],
             [
              0.2222222222222222,
              "#7201a8"
             ],
             [
              0.3333333333333333,
              "#9c179e"
             ],
             [
              0.4444444444444444,
              "#bd3786"
             ],
             [
              0.5555555555555556,
              "#d8576b"
             ],
             [
              0.6666666666666666,
              "#ed7953"
             ],
             [
              0.7777777777777778,
              "#fb9f3a"
             ],
             [
              0.8888888888888888,
              "#fdca26"
             ],
             [
              1,
              "#f0f921"
             ]
            ],
            "type": "histogram2d"
           }
          ],
          "histogram2dcontour": [
           {
            "colorbar": {
             "outlinewidth": 0,
             "ticks": ""
            },
            "colorscale": [
             [
              0,
              "#0d0887"
             ],
             [
              0.1111111111111111,
              "#46039f"
             ],
             [
              0.2222222222222222,
              "#7201a8"
             ],
             [
              0.3333333333333333,
              "#9c179e"
             ],
             [
              0.4444444444444444,
              "#bd3786"
             ],
             [
              0.5555555555555556,
              "#d8576b"
             ],
             [
              0.6666666666666666,
              "#ed7953"
             ],
             [
              0.7777777777777778,
              "#fb9f3a"
             ],
             [
              0.8888888888888888,
              "#fdca26"
             ],
             [
              1,
              "#f0f921"
             ]
            ],
            "type": "histogram2dcontour"
           }
          ],
          "mesh3d": [
           {
            "colorbar": {
             "outlinewidth": 0,
             "ticks": ""
            },
            "type": "mesh3d"
           }
          ],
          "parcoords": [
           {
            "line": {
             "colorbar": {
              "outlinewidth": 0,
              "ticks": ""
             }
            },
            "type": "parcoords"
           }
          ],
          "pie": [
           {
            "automargin": true,
            "type": "pie"
           }
          ],
          "scatter": [
           {
            "fillpattern": {
             "fillmode": "overlay",
             "size": 10,
             "solidity": 0.2
            },
            "type": "scatter"
           }
          ],
          "scatter3d": [
           {
            "line": {
             "colorbar": {
              "outlinewidth": 0,
              "ticks": ""
             }
            },
            "marker": {
             "colorbar": {
              "outlinewidth": 0,
              "ticks": ""
             }
            },
            "type": "scatter3d"
           }
          ],
          "scattercarpet": [
           {
            "marker": {
             "colorbar": {
              "outlinewidth": 0,
              "ticks": ""
             }
            },
            "type": "scattercarpet"
           }
          ],
          "scattergeo": [
           {
            "marker": {
             "colorbar": {
              "outlinewidth": 0,
              "ticks": ""
             }
            },
            "type": "scattergeo"
           }
          ],
          "scattergl": [
           {
            "marker": {
             "colorbar": {
              "outlinewidth": 0,
              "ticks": ""
             }
            },
            "type": "scattergl"
           }
          ],
          "scattermapbox": [
           {
            "marker": {
             "colorbar": {
              "outlinewidth": 0,
              "ticks": ""
             }
            },
            "type": "scattermapbox"
           }
          ],
          "scatterpolar": [
           {
            "marker": {
             "colorbar": {
              "outlinewidth": 0,
              "ticks": ""
             }
            },
            "type": "scatterpolar"
           }
          ],
          "scatterpolargl": [
           {
            "marker": {
             "colorbar": {
              "outlinewidth": 0,
              "ticks": ""
             }
            },
            "type": "scatterpolargl"
           }
          ],
          "scatterternary": [
           {
            "marker": {
             "colorbar": {
              "outlinewidth": 0,
              "ticks": ""
             }
            },
            "type": "scatterternary"
           }
          ],
          "surface": [
           {
            "colorbar": {
             "outlinewidth": 0,
             "ticks": ""
            },
            "colorscale": [
             [
              0,
              "#0d0887"
             ],
             [
              0.1111111111111111,
              "#46039f"
             ],
             [
              0.2222222222222222,
              "#7201a8"
             ],
             [
              0.3333333333333333,
              "#9c179e"
             ],
             [
              0.4444444444444444,
              "#bd3786"
             ],
             [
              0.5555555555555556,
              "#d8576b"
             ],
             [
              0.6666666666666666,
              "#ed7953"
             ],
             [
              0.7777777777777778,
              "#fb9f3a"
             ],
             [
              0.8888888888888888,
              "#fdca26"
             ],
             [
              1,
              "#f0f921"
             ]
            ],
            "type": "surface"
           }
          ],
          "table": [
           {
            "cells": {
             "fill": {
              "color": "#EBF0F8"
             },
             "line": {
              "color": "white"
             }
            },
            "header": {
             "fill": {
              "color": "#C8D4E3"
             },
             "line": {
              "color": "white"
             }
            },
            "type": "table"
           }
          ]
         },
         "layout": {
          "annotationdefaults": {
           "arrowcolor": "#2a3f5f",
           "arrowhead": 0,
           "arrowwidth": 1
          },
          "autotypenumbers": "strict",
          "coloraxis": {
           "colorbar": {
            "outlinewidth": 0,
            "ticks": ""
           }
          },
          "colorscale": {
           "diverging": [
            [
             0,
             "#8e0152"
            ],
            [
             0.1,
             "#c51b7d"
            ],
            [
             0.2,
             "#de77ae"
            ],
            [
             0.3,
             "#f1b6da"
            ],
            [
             0.4,
             "#fde0ef"
            ],
            [
             0.5,
             "#f7f7f7"
            ],
            [
             0.6,
             "#e6f5d0"
            ],
            [
             0.7,
             "#b8e186"
            ],
            [
             0.8,
             "#7fbc41"
            ],
            [
             0.9,
             "#4d9221"
            ],
            [
             1,
             "#276419"
            ]
           ],
           "sequential": [
            [
             0,
             "#0d0887"
            ],
            [
             0.1111111111111111,
             "#46039f"
            ],
            [
             0.2222222222222222,
             "#7201a8"
            ],
            [
             0.3333333333333333,
             "#9c179e"
            ],
            [
             0.4444444444444444,
             "#bd3786"
            ],
            [
             0.5555555555555556,
             "#d8576b"
            ],
            [
             0.6666666666666666,
             "#ed7953"
            ],
            [
             0.7777777777777778,
             "#fb9f3a"
            ],
            [
             0.8888888888888888,
             "#fdca26"
            ],
            [
             1,
             "#f0f921"
            ]
           ],
           "sequentialminus": [
            [
             0,
             "#0d0887"
            ],
            [
             0.1111111111111111,
             "#46039f"
            ],
            [
             0.2222222222222222,
             "#7201a8"
            ],
            [
             0.3333333333333333,
             "#9c179e"
            ],
            [
             0.4444444444444444,
             "#bd3786"
            ],
            [
             0.5555555555555556,
             "#d8576b"
            ],
            [
             0.6666666666666666,
             "#ed7953"
            ],
            [
             0.7777777777777778,
             "#fb9f3a"
            ],
            [
             0.8888888888888888,
             "#fdca26"
            ],
            [
             1,
             "#f0f921"
            ]
           ]
          },
          "colorway": [
           "#636efa",
           "#EF553B",
           "#00cc96",
           "#ab63fa",
           "#FFA15A",
           "#19d3f3",
           "#FF6692",
           "#B6E880",
           "#FF97FF",
           "#FECB52"
          ],
          "font": {
           "color": "#2a3f5f"
          },
          "geo": {
           "bgcolor": "white",
           "lakecolor": "white",
           "landcolor": "white",
           "showlakes": true,
           "showland": true,
           "subunitcolor": "#C8D4E3"
          },
          "hoverlabel": {
           "align": "left"
          },
          "hovermode": "closest",
          "mapbox": {
           "style": "light"
          },
          "paper_bgcolor": "white",
          "plot_bgcolor": "white",
          "polar": {
           "angularaxis": {
            "gridcolor": "#EBF0F8",
            "linecolor": "#EBF0F8",
            "ticks": ""
           },
           "bgcolor": "white",
           "radialaxis": {
            "gridcolor": "#EBF0F8",
            "linecolor": "#EBF0F8",
            "ticks": ""
           }
          },
          "scene": {
           "xaxis": {
            "backgroundcolor": "white",
            "gridcolor": "#DFE8F3",
            "gridwidth": 2,
            "linecolor": "#EBF0F8",
            "showbackground": true,
            "ticks": "",
            "zerolinecolor": "#EBF0F8"
           },
           "yaxis": {
            "backgroundcolor": "white",
            "gridcolor": "#DFE8F3",
            "gridwidth": 2,
            "linecolor": "#EBF0F8",
            "showbackground": true,
            "ticks": "",
            "zerolinecolor": "#EBF0F8"
           },
           "zaxis": {
            "backgroundcolor": "white",
            "gridcolor": "#DFE8F3",
            "gridwidth": 2,
            "linecolor": "#EBF0F8",
            "showbackground": true,
            "ticks": "",
            "zerolinecolor": "#EBF0F8"
           }
          },
          "shapedefaults": {
           "line": {
            "color": "#2a3f5f"
           }
          },
          "ternary": {
           "aaxis": {
            "gridcolor": "#DFE8F3",
            "linecolor": "#A2B1C6",
            "ticks": ""
           },
           "baxis": {
            "gridcolor": "#DFE8F3",
            "linecolor": "#A2B1C6",
            "ticks": ""
           },
           "bgcolor": "white",
           "caxis": {
            "gridcolor": "#DFE8F3",
            "linecolor": "#A2B1C6",
            "ticks": ""
           }
          },
          "title": {
           "x": 0.05
          },
          "xaxis": {
           "automargin": true,
           "gridcolor": "#EBF0F8",
           "linecolor": "#EBF0F8",
           "ticks": "",
           "title": {
            "standoff": 15
           },
           "zerolinecolor": "#EBF0F8",
           "zerolinewidth": 2
          },
          "yaxis": {
           "automargin": true,
           "gridcolor": "#EBF0F8",
           "linecolor": "#EBF0F8",
           "ticks": "",
           "title": {
            "standoff": 15
           },
           "zerolinecolor": "#EBF0F8",
           "zerolinewidth": 2
          }
         }
        },
        "title": {
         "text": "Scatter Plot of cross cases and deaths"
        },
        "xaxis": {
         "anchor": "y",
         "domain": [
          0,
          1
         ],
         "title": {
          "text": "Cases"
         }
        },
        "yaxis": {
         "anchor": "x",
         "domain": [
          0,
          1
         ],
         "title": {
          "text": "Deaths"
         }
        }
       }
      },
      "text/html": [
       "<div>                            <div id=\"f745966b-bc43-4d9e-9a7f-8541322940f5\" class=\"plotly-graph-div\" style=\"height:525px; width:100%;\"></div>            <script type=\"text/javascript\">                require([\"plotly\"], function(Plotly) {                    window.PLOTLYENV=window.PLOTLYENV || {};                                    if (document.getElementById(\"f745966b-bc43-4d9e-9a7f-8541322940f5\")) {                    Plotly.newPlot(                        \"f745966b-bc43-4d9e-9a7f-8541322940f5\",                        [{\"customdata\":[[\"Peru\"],[\"Bulgaria\"],[\"Bosnia and Herzegovina\"],[\"Hungary\"],[\"Georgia\"],[\"North Macedonia\"],[\"Montenegro\"],[\"Croatia\"],[\"Czech Republic\"],[\"Moldova\"],[\"Slovakia\"],[\"San Marino\"],[\"Romania\"],[\"Lithuania\"],[\"Gibraltar\"],[\"Brazil\"],[\"Slovenia\"],[\"Latvia\"],[\"Armenia\"],[\"Poland\"],[\"United States\"],[\"Chile\"],[\"Greece\"],[\"Italy\"],[\"Argentina\"],[\"Paraguay\"],[\"Belgium\"],[\"Colombia\"],[\"United Kingdom\"],[\"Ukraine\"],[\"Trinidad and Tobago\"],[\"Russia\"],[\"Mexico\"],[\"European Union[b]\"],[\"Portugal\"],[\"Serbia\"],[\"Tunisia\"],[\"Spain\"],[\"Austria\"],[\"Suriname\"],[\"France\"],[\"Bermuda\"],[\"Liechtenstein\"],[\"Uruguay\"],[\"Saint Lucia\"],[\"French Polynesia\"],[\"Aruba\"],[\"British Virgin Islands\"],[\"Bahamas\"],[\"Ecuador\"],[\"Estonia\"],[\"Andorra\"],[\"Panama\"],[\"Lebanon\"],[\"Grenada\"],[\"Sweden\"],[\"Bolivia\"],[\"Montserrat\"],[\"Kosovo\"],[\"Luxembourg\"],[\"South Africa\"],[\"Germany\"],[\"Barbados\"],[\"Belize\"],[\"Costa Rica\"],[\"Monaco\"],[\"Iran\"],[\"Namibia\"],[\"Switzerland\"],[\"Guyana\"],[\"Seychelles\"],[\"Antigua and Barbuda\"],[\"Republic of Ireland\"],[\"Cura\\u00e7ao\"],[\"Malta\"],[\"Caribbean Netherlands\"],[\"Isle of Man\"],[\"Netherlands\"],[\"Jordan\"],[\"Hong Kong\"],[\"Albania\"],[\"Cyprus\"],[\"Israel\"],[\"Eswatini\"],[\"Turkey\"],[\"Canada\"],[\"Jamaica\"],[\"Denmark\"],[\"Palestine\"],[\"Saint Vincent and the Grenadines\"],[\"New Caledonia\"],[\"Malaysia\"],[\"Guatemala\"],[\"Botswana\"],[\"Honduras\"],[\"Bahrain\"],[\"Oman\"],[\"Kazakhstan\"],[\"Libya\"],[\"Saint Kitts and Nevis\"],[\"Azerbaijan\"],[\"Fiji\"],[\"Dominica\"],[\"Finland\"],[\"Turks and Caicos Islands\"],[\"Mauritius\"],[\"Sri Lanka\"],[\"Cuba\"],[\"Belarus\"],[\"Cabo Verde\"],[\"El Salvador\"],[\"Norway\"],[\"Mongolia\"],[\"Wallis and Futuna\"],[\"Kuwait\"],[\"Maldives\"],[\"Iraq\"],[\"Indonesia\"],[\"Anguilla\"],[\"Philippines\"],[\"Faroe Islands\"],[\"Brunei\"],[\"Iceland\"],[\"South Korea\"],[\"Kyrgyzstan\"],[\"Vietnam\"],[\"Morocco\"],[\"Thailand\"],[\"Cayman Islands\"],[\"Australia\"],[\"Nepal\"],[\"Dominican Republic\"],[\"India\"],[\"Greenland\"],[\"Myanmar\"],[\"Zimbabwe\"],[\"New Zealand\"],[\"Taiwan\"],[\"Palau\"],[\"Sao Tome and Principe\"],[\"Lesotho\"],[\"Singapore\"],[\"Saudi Arabia\"],[\"Japan\"],[\"Qatar\"],[\"United Arab Emirates\"],[\"Egypt\"],[\"Solomon Islands\"],[\"Mauritania\"],[\"Zambia\"],[\"Venezuela\"],[\"Comoros\"],[\"Afghanistan\"],[\"Cambodia\"],[\"Bangladesh\"],[\"Djibouti\"],[\"Saint Pierre and Miquelon\"],[\"Algeria\"],[\"Syria\"],[\"Gambia\"],[\"Malawi\"],[\"Samoa\"],[\"Pakistan\"],[\"Gabon\"],[\"Senegal\"],[\"Tonga\"],[\"Equatorial Guinea\"],[\"Rwanda\"],[\"Sudan\"],[\"Kenya\"],[\"Laos\"],[\"Kiribati\"],[\"Timor-Leste\"],[\"Guinea-Bissau\"],[\"Somalia\"],[\"Uganda\"],[\"Haiti\"],[\"Cameroon\"],[\"Mozambique\"],[\"Papua New Guinea\"],[\"Republic of the Congo\"],[\"Yemen\"],[\"Ethiopia\"],[\"Cook Islands\"],[\"Liberia\"],[\"Angola\"],[\"Madagascar\"],[\"Uzbekistan\"],[\"Ghana\"],[\"Vanuatu\"],[\"Nicaragua\"],[\"Mali\"],[\"Guinea\"],[\"Togo\"],[\"Ivory Coast\"],[\"Eritrea\"],[\"Bhutan\"],[\"Central African Republic\"],[\"Burkina Faso\"],[\"Sierra Leone\"],[\"Nigeria\"],[\"Democratic Republic of the Congo\"],[\"Tanzania\"],[\"South Sudan\"],[\"Tajikistan\"],[\"Benin\"],[\"Niger\"],[\"Chad\"],[\"Macau\"],[\"China[c]\"],[\"Burundi\"],[\"North Korea\"],[\"Vatican City\"],[\"Falkland Islands\"],[\"Saint Helena, Ascension and Tristan da Cunha\"],[\"Federated States of Micronesia\"],[\"Marshall Islands\"]],\"hovertemplate\":\"Cases=%{x}<br>Deaths=%{marker.color}<br>Country=%{customdata[0]}<extra></extra>\",\"legendgroup\":\"\",\"marker\":{\"color\":[213769,37289,15817,46696,16847,9339,2730,16143,40350,11584,20169,116,65805,9188,105,675090,6666,5875,8629,116470,1023736,58990,30476,169735,129145,19083,32051,140365,181761,116422,4036,374062,326420,1110232,24381,16166,28823,109348,20163,1377,150483,141,85,7373,385,649,224,63,822,35769,2608,153,8386,10485,233,19203,21979,8,3146,1103,101895,142533,479,680,8525,60,141477,4068,13857,1264,167,143,7571,280,768,37,110,22509,14069,9432,3517,1086,11101,1417,99088,43510,3166,6551,5662,115,314,35844,18782,2760,10912,1505,4628,19020,6430,45,9717,869,68,5012,36,1008,16527,8529,7118,409,4171,3504,2119,7,2556,307,25263,156833,9,60641,28,225,179,24728,2991,43090,16173,30958,29,10659,11952,4383,525660,21,19434,5566,1741,8031,6,74,702,1447,9229,31561,680,2325,24725,153,986,4009,5745,160,7729,3056,29225,189,1,6875,3150,365,2652,29,30438,306,1968,12,183,1462,4955,5668,757,13,133,171,1361,3627,837,1931,2215,662,386,2149,7561,1,294,1909,1403,1637,1456,14,244,737,445,275,806,103,21,113,387,125,3144,1376,841,138,125,163,311,193,5,5226,38,6,0,0,0,0,0],\"coloraxis\":\"coloraxis\",\"size\":[213769,37289,15817,46696,16847,9339,2730,16143,40350,11584,20169,116,65805,9188,105,675090,6666,5875,8629,116470,1023736,58990,30476,169735,129145,19083,32051,140365,181761,116422,4036,374062,326420,1110232,24381,16166,28823,109348,20163,1377,150483,141,85,7373,385,649,224,63,822,35769,2608,153,8386,10485,233,19203,21979,8,3146,1103,101895,142533,479,680,8525,60,141477,4068,13857,1264,167,143,7571,280,768,37,110,22509,14069,9432,3517,1086,11101,1417,99088,43510,3166,6551,5662,115,314,35844,18782,2760,10912,1505,4628,19020,6430,45,9717,869,68,5012,36,1008,16527,8529,7118,409,4171,3504,2119,7,2556,307,25263,156833,9,60641,28,225,179,24728,2991,43090,16173,30958,29,10659,11952,4383,525660,21,19434,5566,1741,8031,6,74,702,1447,9229,31561,680,2325,24725,153,986,4009,5745,160,7729,3056,29225,189,1,6875,3150,365,2652,29,30438,306,1968,12,183,1462,4955,5668,757,13,133,171,1361,3627,837,1931,2215,662,386,2149,7561,1,294,1909,1403,1637,1456,14,244,737,445,275,806,103,21,113,387,125,3144,1376,841,138,125,163,311,193,5,5226,38,6,0,0,0,0,0],\"sizemode\":\"area\",\"sizeref\":2775.58,\"symbol\":\"circle\"},\"mode\":\"markers\",\"name\":\"\",\"orientation\":\"v\",\"showlegend\":false,\"x\":[3729879,1183877,380749,1940824,1667453,318138,245896,1165478,3951803,523034,2562431,19132,2958051,1168585,19862,33250117,1057817,844980,423771,6029947,89453076,4122401,3843142,19985479,9426171,688820,4349050,6223497,23160756,5289732,169028,18211383,6408443,154788776,5273845,2052116,1087030,13090476,4618853,80919,32737629,16722,18335,965370,27464,74022,41787,7131,36354,927700,585143,44671,938791,1135565,18640,2528166,960779,1025,234880,275512,3998466,29692989,87219,65994,904934,13739,7270023,169253,3861756,68730,45185,8704,1628745,44782,110501,10567,37239,8284784,1702661,1287088,293917,545896,4498027,73235,15297539,4024060,144489,3203739,662588,9183,66732,4613998,977539,324841,430672,646695,391641,1402871,502289,6367,793388,66713,14852,1171034,6255,233082,664389,1106666,994037,61776,180970,1452521,930677,456,648216,183491,2399795,6127084,3496,3727970,34658,182950,199611,18721415,201414,10759145,1248856,4554976,28389,8734573,981142,621047,43730071,11971,613798,256083,1494272,4215200,5308,6079,34040,1579946,802586,10102454,392916,970586,515645,21544,61763,327994,529384,8209,183407,136421,1994433,15690,2970,266392,55973,12009,86900,15155,1545647,48289,86679,12382,16584,131832,62795,336578,210462,3236,22976,8400,26900,168629,32070,120068,228972,44761,24604,11832,490925,5831,7504,101901,66098,242043,167215,11722,14751,31196,37358,37745,84451,9852,59940,14712,21128,7721,258934,91737,37510,17733,17786,27216,9096,7427,711,894689,43222,1,29,1831,4,38,49],\"xaxis\":\"x\",\"y\":[213769,37289,15817,46696,16847,9339,2730,16143,40350,11584,20169,116,65805,9188,105,675090,6666,5875,8629,116470,1023736,58990,30476,169735,129145,19083,32051,140365,181761,116422,4036,374062,326420,1110232,24381,16166,28823,109348,20163,1377,150483,141,85,7373,385,649,224,63,822,35769,2608,153,8386,10485,233,19203,21979,8,3146,1103,101895,142533,479,680,8525,60,141477,4068,13857,1264,167,143,7571,280,768,37,110,22509,14069,9432,3517,1086,11101,1417,99088,43510,3166,6551,5662,115,314,35844,18782,2760,10912,1505,4628,19020,6430,45,9717,869,68,5012,36,1008,16527,8529,7118,409,4171,3504,2119,7,2556,307,25263,156833,9,60641,28,225,179,24728,2991,43090,16173,30958,29,10659,11952,4383,525660,21,19434,5566,1741,8031,6,74,702,1447,9229,31561,680,2325,24725,153,986,4009,5745,160,7729,3056,29225,189,1,6875,3150,365,2652,29,30438,306,1968,12,183,1462,4955,5668,757,13,133,171,1361,3627,837,1931,2215,662,386,2149,7561,1,294,1909,1403,1637,1456,14,244,737,445,275,806,103,21,113,387,125,3144,1376,841,138,125,163,311,193,5,5226,38,6,0,0,0,0,0],\"yaxis\":\"y\",\"type\":\"scatter\"}],                        {\"template\":{\"data\":{\"barpolar\":[{\"marker\":{\"line\":{\"color\":\"white\",\"width\":0.5},\"pattern\":{\"fillmode\":\"overlay\",\"size\":10,\"solidity\":0.2}},\"type\":\"barpolar\"}],\"bar\":[{\"error_x\":{\"color\":\"#2a3f5f\"},\"error_y\":{\"color\":\"#2a3f5f\"},\"marker\":{\"line\":{\"color\":\"white\",\"width\":0.5},\"pattern\":{\"fillmode\":\"overlay\",\"size\":10,\"solidity\":0.2}},\"type\":\"bar\"}],\"carpet\":[{\"aaxis\":{\"endlinecolor\":\"#2a3f5f\",\"gridcolor\":\"#C8D4E3\",\"linecolor\":\"#C8D4E3\",\"minorgridcolor\":\"#C8D4E3\",\"startlinecolor\":\"#2a3f5f\"},\"baxis\":{\"endlinecolor\":\"#2a3f5f\",\"gridcolor\":\"#C8D4E3\",\"linecolor\":\"#C8D4E3\",\"minorgridcolor\":\"#C8D4E3\",\"startlinecolor\":\"#2a3f5f\"},\"type\":\"carpet\"}],\"choropleth\":[{\"colorbar\":{\"outlinewidth\":0,\"ticks\":\"\"},\"type\":\"choropleth\"}],\"contourcarpet\":[{\"colorbar\":{\"outlinewidth\":0,\"ticks\":\"\"},\"type\":\"contourcarpet\"}],\"contour\":[{\"colorbar\":{\"outlinewidth\":0,\"ticks\":\"\"},\"colorscale\":[[0.0,\"#0d0887\"],[0.1111111111111111,\"#46039f\"],[0.2222222222222222,\"#7201a8\"],[0.3333333333333333,\"#9c179e\"],[0.4444444444444444,\"#bd3786\"],[0.5555555555555556,\"#d8576b\"],[0.6666666666666666,\"#ed7953\"],[0.7777777777777778,\"#fb9f3a\"],[0.8888888888888888,\"#fdca26\"],[1.0,\"#f0f921\"]],\"type\":\"contour\"}],\"heatmapgl\":[{\"colorbar\":{\"outlinewidth\":0,\"ticks\":\"\"},\"colorscale\":[[0.0,\"#0d0887\"],[0.1111111111111111,\"#46039f\"],[0.2222222222222222,\"#7201a8\"],[0.3333333333333333,\"#9c179e\"],[0.4444444444444444,\"#bd3786\"],[0.5555555555555556,\"#d8576b\"],[0.6666666666666666,\"#ed7953\"],[0.7777777777777778,\"#fb9f3a\"],[0.8888888888888888,\"#fdca26\"],[1.0,\"#f0f921\"]],\"type\":\"heatmapgl\"}],\"heatmap\":[{\"colorbar\":{\"outlinewidth\":0,\"ticks\":\"\"},\"colorscale\":[[0.0,\"#0d0887\"],[0.1111111111111111,\"#46039f\"],[0.2222222222222222,\"#7201a8\"],[0.3333333333333333,\"#9c179e\"],[0.4444444444444444,\"#bd3786\"],[0.5555555555555556,\"#d8576b\"],[0.6666666666666666,\"#ed7953\"],[0.7777777777777778,\"#fb9f3a\"],[0.8888888888888888,\"#fdca26\"],[1.0,\"#f0f921\"]],\"type\":\"heatmap\"}],\"histogram2dcontour\":[{\"colorbar\":{\"outlinewidth\":0,\"ticks\":\"\"},\"colorscale\":[[0.0,\"#0d0887\"],[0.1111111111111111,\"#46039f\"],[0.2222222222222222,\"#7201a8\"],[0.3333333333333333,\"#9c179e\"],[0.4444444444444444,\"#bd3786\"],[0.5555555555555556,\"#d8576b\"],[0.6666666666666666,\"#ed7953\"],[0.7777777777777778,\"#fb9f3a\"],[0.8888888888888888,\"#fdca26\"],[1.0,\"#f0f921\"]],\"type\":\"histogram2dcontour\"}],\"histogram2d\":[{\"colorbar\":{\"outlinewidth\":0,\"ticks\":\"\"},\"colorscale\":[[0.0,\"#0d0887\"],[0.1111111111111111,\"#46039f\"],[0.2222222222222222,\"#7201a8\"],[0.3333333333333333,\"#9c179e\"],[0.4444444444444444,\"#bd3786\"],[0.5555555555555556,\"#d8576b\"],[0.6666666666666666,\"#ed7953\"],[0.7777777777777778,\"#fb9f3a\"],[0.8888888888888888,\"#fdca26\"],[1.0,\"#f0f921\"]],\"type\":\"histogram2d\"}],\"histogram\":[{\"marker\":{\"pattern\":{\"fillmode\":\"overlay\",\"size\":10,\"solidity\":0.2}},\"type\":\"histogram\"}],\"mesh3d\":[{\"colorbar\":{\"outlinewidth\":0,\"ticks\":\"\"},\"type\":\"mesh3d\"}],\"parcoords\":[{\"line\":{\"colorbar\":{\"outlinewidth\":0,\"ticks\":\"\"}},\"type\":\"parcoords\"}],\"pie\":[{\"automargin\":true,\"type\":\"pie\"}],\"scatter3d\":[{\"line\":{\"colorbar\":{\"outlinewidth\":0,\"ticks\":\"\"}},\"marker\":{\"colorbar\":{\"outlinewidth\":0,\"ticks\":\"\"}},\"type\":\"scatter3d\"}],\"scattercarpet\":[{\"marker\":{\"colorbar\":{\"outlinewidth\":0,\"ticks\":\"\"}},\"type\":\"scattercarpet\"}],\"scattergeo\":[{\"marker\":{\"colorbar\":{\"outlinewidth\":0,\"ticks\":\"\"}},\"type\":\"scattergeo\"}],\"scattergl\":[{\"marker\":{\"colorbar\":{\"outlinewidth\":0,\"ticks\":\"\"}},\"type\":\"scattergl\"}],\"scattermapbox\":[{\"marker\":{\"colorbar\":{\"outlinewidth\":0,\"ticks\":\"\"}},\"type\":\"scattermapbox\"}],\"scatterpolargl\":[{\"marker\":{\"colorbar\":{\"outlinewidth\":0,\"ticks\":\"\"}},\"type\":\"scatterpolargl\"}],\"scatterpolar\":[{\"marker\":{\"colorbar\":{\"outlinewidth\":0,\"ticks\":\"\"}},\"type\":\"scatterpolar\"}],\"scatter\":[{\"fillpattern\":{\"fillmode\":\"overlay\",\"size\":10,\"solidity\":0.2},\"type\":\"scatter\"}],\"scatterternary\":[{\"marker\":{\"colorbar\":{\"outlinewidth\":0,\"ticks\":\"\"}},\"type\":\"scatterternary\"}],\"surface\":[{\"colorbar\":{\"outlinewidth\":0,\"ticks\":\"\"},\"colorscale\":[[0.0,\"#0d0887\"],[0.1111111111111111,\"#46039f\"],[0.2222222222222222,\"#7201a8\"],[0.3333333333333333,\"#9c179e\"],[0.4444444444444444,\"#bd3786\"],[0.5555555555555556,\"#d8576b\"],[0.6666666666666666,\"#ed7953\"],[0.7777777777777778,\"#fb9f3a\"],[0.8888888888888888,\"#fdca26\"],[1.0,\"#f0f921\"]],\"type\":\"surface\"}],\"table\":[{\"cells\":{\"fill\":{\"color\":\"#EBF0F8\"},\"line\":{\"color\":\"white\"}},\"header\":{\"fill\":{\"color\":\"#C8D4E3\"},\"line\":{\"color\":\"white\"}},\"type\":\"table\"}]},\"layout\":{\"annotationdefaults\":{\"arrowcolor\":\"#2a3f5f\",\"arrowhead\":0,\"arrowwidth\":1},\"autotypenumbers\":\"strict\",\"coloraxis\":{\"colorbar\":{\"outlinewidth\":0,\"ticks\":\"\"}},\"colorscale\":{\"diverging\":[[0,\"#8e0152\"],[0.1,\"#c51b7d\"],[0.2,\"#de77ae\"],[0.3,\"#f1b6da\"],[0.4,\"#fde0ef\"],[0.5,\"#f7f7f7\"],[0.6,\"#e6f5d0\"],[0.7,\"#b8e186\"],[0.8,\"#7fbc41\"],[0.9,\"#4d9221\"],[1,\"#276419\"]],\"sequential\":[[0.0,\"#0d0887\"],[0.1111111111111111,\"#46039f\"],[0.2222222222222222,\"#7201a8\"],[0.3333333333333333,\"#9c179e\"],[0.4444444444444444,\"#bd3786\"],[0.5555555555555556,\"#d8576b\"],[0.6666666666666666,\"#ed7953\"],[0.7777777777777778,\"#fb9f3a\"],[0.8888888888888888,\"#fdca26\"],[1.0,\"#f0f921\"]],\"sequentialminus\":[[0.0,\"#0d0887\"],[0.1111111111111111,\"#46039f\"],[0.2222222222222222,\"#7201a8\"],[0.3333333333333333,\"#9c179e\"],[0.4444444444444444,\"#bd3786\"],[0.5555555555555556,\"#d8576b\"],[0.6666666666666666,\"#ed7953\"],[0.7777777777777778,\"#fb9f3a\"],[0.8888888888888888,\"#fdca26\"],[1.0,\"#f0f921\"]]},\"colorway\":[\"#636efa\",\"#EF553B\",\"#00cc96\",\"#ab63fa\",\"#FFA15A\",\"#19d3f3\",\"#FF6692\",\"#B6E880\",\"#FF97FF\",\"#FECB52\"],\"font\":{\"color\":\"#2a3f5f\"},\"geo\":{\"bgcolor\":\"white\",\"lakecolor\":\"white\",\"landcolor\":\"white\",\"showlakes\":true,\"showland\":true,\"subunitcolor\":\"#C8D4E3\"},\"hoverlabel\":{\"align\":\"left\"},\"hovermode\":\"closest\",\"mapbox\":{\"style\":\"light\"},\"paper_bgcolor\":\"white\",\"plot_bgcolor\":\"white\",\"polar\":{\"angularaxis\":{\"gridcolor\":\"#EBF0F8\",\"linecolor\":\"#EBF0F8\",\"ticks\":\"\"},\"bgcolor\":\"white\",\"radialaxis\":{\"gridcolor\":\"#EBF0F8\",\"linecolor\":\"#EBF0F8\",\"ticks\":\"\"}},\"scene\":{\"xaxis\":{\"backgroundcolor\":\"white\",\"gridcolor\":\"#DFE8F3\",\"gridwidth\":2,\"linecolor\":\"#EBF0F8\",\"showbackground\":true,\"ticks\":\"\",\"zerolinecolor\":\"#EBF0F8\"},\"yaxis\":{\"backgroundcolor\":\"white\",\"gridcolor\":\"#DFE8F3\",\"gridwidth\":2,\"linecolor\":\"#EBF0F8\",\"showbackground\":true,\"ticks\":\"\",\"zerolinecolor\":\"#EBF0F8\"},\"zaxis\":{\"backgroundcolor\":\"white\",\"gridcolor\":\"#DFE8F3\",\"gridwidth\":2,\"linecolor\":\"#EBF0F8\",\"showbackground\":true,\"ticks\":\"\",\"zerolinecolor\":\"#EBF0F8\"}},\"shapedefaults\":{\"line\":{\"color\":\"#2a3f5f\"}},\"ternary\":{\"aaxis\":{\"gridcolor\":\"#DFE8F3\",\"linecolor\":\"#A2B1C6\",\"ticks\":\"\"},\"baxis\":{\"gridcolor\":\"#DFE8F3\",\"linecolor\":\"#A2B1C6\",\"ticks\":\"\"},\"bgcolor\":\"white\",\"caxis\":{\"gridcolor\":\"#DFE8F3\",\"linecolor\":\"#A2B1C6\",\"ticks\":\"\"}},\"title\":{\"x\":0.05},\"xaxis\":{\"automargin\":true,\"gridcolor\":\"#EBF0F8\",\"linecolor\":\"#EBF0F8\",\"ticks\":\"\",\"title\":{\"standoff\":15},\"zerolinecolor\":\"#EBF0F8\",\"zerolinewidth\":2},\"yaxis\":{\"automargin\":true,\"gridcolor\":\"#EBF0F8\",\"linecolor\":\"#EBF0F8\",\"ticks\":\"\",\"title\":{\"standoff\":15},\"zerolinecolor\":\"#EBF0F8\",\"zerolinewidth\":2}}},\"xaxis\":{\"anchor\":\"y\",\"domain\":[0.0,1.0],\"title\":{\"text\":\"Cases\"}},\"yaxis\":{\"anchor\":\"x\",\"domain\":[0.0,1.0],\"title\":{\"text\":\"Deaths\"}},\"coloraxis\":{\"colorbar\":{\"title\":{\"text\":\"Deaths\"}},\"colorscale\":[[0.0,\"#0d0887\"],[0.1111111111111111,\"#46039f\"],[0.2222222222222222,\"#7201a8\"],[0.3333333333333333,\"#9c179e\"],[0.4444444444444444,\"#bd3786\"],[0.5555555555555556,\"#d8576b\"],[0.6666666666666666,\"#ed7953\"],[0.7777777777777778,\"#fb9f3a\"],[0.8888888888888888,\"#fdca26\"],[1.0,\"#f0f921\"]]},\"legend\":{\"tracegroupgap\":0,\"itemsizing\":\"constant\"},\"title\":{\"text\":\"Scatter Plot of cross cases and deaths\"}},                        {\"responsive\": true}                    ).then(function(){\n",
       "                            \n",
       "var gd = document.getElementById('f745966b-bc43-4d9e-9a7f-8541322940f5');\n",
       "var x = new MutationObserver(function (mutations, observer) {{\n",
       "        var display = window.getComputedStyle(gd).display;\n",
       "        if (!display || display === 'none') {{\n",
       "            console.log([gd, 'removed!']);\n",
       "            Plotly.purge(gd);\n",
       "            observer.disconnect();\n",
       "        }}\n",
       "}});\n",
       "\n",
       "// Listen for the removal of the full notebook cells\n",
       "var notebookContainer = gd.closest('#notebook-container');\n",
       "if (notebookContainer) {{\n",
       "    x.observe(notebookContainer, {childList: true});\n",
       "}}\n",
       "\n",
       "// Listen for the clearing of the current output cell\n",
       "var outputEl = gd.closest('.output');\n",
       "if (outputEl) {{\n",
       "    x.observe(outputEl, {childList: true});\n",
       "}}\n",
       "\n",
       "                        })                };                });            </script>        </div>"
      ]
     },
     "metadata": {},
     "output_type": "display_data"
    }
   ],
   "source": [
    "fig = px.scatter(mydata, x=\"Cases\", y=\"Deaths\", color=\"Deaths\",\n",
    "                 size='Deaths', hover_data=['Country', 'Cases', 'Deaths'], template = 'plotly_white', \n",
    "                 title='Scatter Plot of cross cases and deaths')\n",
    "fig.show()"
   ]
  },
  {
   "cell_type": "markdown",
   "id": "27dc54d8",
   "metadata": {},
   "source": [
    "### Global map(Cases)"
   ]
  },
  {
   "cell_type": "code",
   "execution_count": 36,
   "id": "83aa3d2e",
   "metadata": {},
   "outputs": [
    {
     "data": {
      "application/vnd.plotly.v1+json": {
       "config": {
        "plotlyServerURL": "https://plot.ly"
       },
       "data": [
        {
         "customdata": [
          [
           "Peru",
           3729879,
           213769
          ],
          [
           "Bulgaria",
           1183877,
           37289
          ],
          [
           "Bosnia and Herzegovina",
           380749,
           15817
          ],
          [
           "Hungary",
           1940824,
           46696
          ],
          [
           "Georgia",
           1667453,
           16847
          ],
          [
           "North Macedonia",
           318138,
           9339
          ],
          [
           "Montenegro",
           245896,
           2730
          ],
          [
           "Croatia",
           1165478,
           16143
          ],
          [
           "Czech Republic",
           3951803,
           40350
          ],
          [
           "Moldova",
           523034,
           11584
          ],
          [
           "Slovakia",
           2562431,
           20169
          ],
          [
           "San Marino",
           19132,
           116
          ],
          [
           "Romania",
           2958051,
           65805
          ],
          [
           "Lithuania",
           1168585,
           9188
          ],
          [
           "Gibraltar",
           19862,
           105
          ],
          [
           "Brazil",
           33250117,
           675090
          ],
          [
           "Slovenia",
           1057817,
           6666
          ],
          [
           "Latvia",
           844980,
           5875
          ],
          [
           "Armenia",
           423771,
           8629
          ],
          [
           "Poland",
           6029947,
           116470
          ],
          [
           "United States",
           89453076,
           1023736
          ],
          [
           "Chile",
           4122401,
           58990
          ],
          [
           "Greece",
           3843142,
           30476
          ],
          [
           "Italy",
           19985479,
           169735
          ],
          [
           "Argentina",
           9426171,
           129145
          ],
          [
           "Paraguay",
           688820,
           19083
          ],
          [
           "Belgium",
           4349050,
           32051
          ],
          [
           "Colombia",
           6223497,
           140365
          ],
          [
           "United Kingdom",
           23160756,
           181761
          ],
          [
           "Ukraine",
           5289732,
           116422
          ],
          [
           "Trinidad and Tobago",
           169028,
           4036
          ],
          [
           "Russia",
           18211383,
           374062
          ],
          [
           "Mexico",
           6408443,
           326420
          ],
          [
           "European Union[b]",
           154788776,
           1110232
          ],
          [
           "Portugal",
           5273845,
           24381
          ],
          [
           "Serbia",
           2052116,
           16166
          ],
          [
           "Tunisia",
           1087030,
           28823
          ],
          [
           "Spain",
           13090476,
           109348
          ],
          [
           "Austria",
           4618853,
           20163
          ],
          [
           "Suriname",
           80919,
           1377
          ],
          [
           "France",
           32737629,
           150483
          ],
          [
           "Bermuda",
           16722,
           141
          ],
          [
           "Liechtenstein",
           18335,
           85
          ],
          [
           "Uruguay",
           965370,
           7373
          ],
          [
           "Saint Lucia",
           27464,
           385
          ],
          [
           "French Polynesia",
           74022,
           649
          ],
          [
           "Aruba",
           41787,
           224
          ],
          [
           "British Virgin Islands",
           7131,
           63
          ],
          [
           "Bahamas",
           36354,
           822
          ],
          [
           "Ecuador",
           927700,
           35769
          ],
          [
           "Estonia",
           585143,
           2608
          ],
          [
           "Andorra",
           44671,
           153
          ],
          [
           "Panama",
           938791,
           8386
          ],
          [
           "Lebanon",
           1135565,
           10485
          ],
          [
           "Grenada",
           18640,
           233
          ],
          [
           "Sweden",
           2528166,
           19203
          ],
          [
           "Bolivia",
           960779,
           21979
          ],
          [
           "Montserrat",
           1025,
           8
          ],
          [
           "Kosovo",
           234880,
           3146
          ],
          [
           "Luxembourg",
           275512,
           1103
          ],
          [
           "South Africa",
           3998466,
           101895
          ],
          [
           "Germany",
           29692989,
           142533
          ],
          [
           "Barbados",
           87219,
           479
          ],
          [
           "Belize",
           65994,
           680
          ],
          [
           "Costa Rica",
           904934,
           8525
          ],
          [
           "Monaco",
           13739,
           60
          ],
          [
           "Iran",
           7270023,
           141477
          ],
          [
           "Namibia",
           169253,
           4068
          ],
          [
           "Switzerland",
           3861756,
           13857
          ],
          [
           "Guyana",
           68730,
           1264
          ],
          [
           "Seychelles",
           45185,
           167
          ],
          [
           "Antigua and Barbuda",
           8704,
           143
          ],
          [
           "Republic of Ireland",
           1628745,
           7571
          ],
          [
           "Curaçao",
           44782,
           280
          ],
          [
           "Malta",
           110501,
           768
          ],
          [
           "Caribbean Netherlands",
           10567,
           37
          ],
          [
           "Isle of Man",
           37239,
           110
          ],
          [
           "Netherlands",
           8284784,
           22509
          ],
          [
           "Jordan",
           1702661,
           14069
          ],
          [
           "Hong Kong",
           1287088,
           9432
          ],
          [
           "Albania",
           293917,
           3517
          ],
          [
           "Cyprus",
           545896,
           1086
          ],
          [
           "Israel",
           4498027,
           11101
          ],
          [
           "Eswatini",
           73235,
           1417
          ],
          [
           "Turkey",
           15297539,
           99088
          ],
          [
           "Canada",
           4024060,
           43510
          ],
          [
           "Jamaica",
           144489,
           3166
          ],
          [
           "Denmark",
           3203739,
           6551
          ],
          [
           "Palestine",
           662588,
           5662
          ],
          [
           "Saint Vincent and the Grenadines",
           9183,
           115
          ],
          [
           "New Caledonia",
           66732,
           314
          ],
          [
           "Malaysia",
           4613998,
           35844
          ],
          [
           "Guatemala",
           977539,
           18782
          ],
          [
           "Botswana",
           324841,
           2760
          ],
          [
           "Honduras",
           430672,
           10912
          ],
          [
           "Bahrain",
           646695,
           1505
          ],
          [
           "Oman",
           391641,
           4628
          ],
          [
           "Kazakhstan",
           1402871,
           19020
          ],
          [
           "Libya",
           502289,
           6430
          ],
          [
           "Saint Kitts and Nevis",
           6367,
           45
          ],
          [
           "Azerbaijan",
           793388,
           9717
          ],
          [
           "Fiji",
           66713,
           869
          ],
          [
           "Dominica",
           14852,
           68
          ],
          [
           "Finland",
           1171034,
           5012
          ],
          [
           "Turks and Caicos Islands",
           6255,
           36
          ],
          [
           "Mauritius",
           233082,
           1008
          ],
          [
           "Sri Lanka",
           664389,
           16527
          ],
          [
           "Cuba",
           1106666,
           8529
          ],
          [
           "Belarus",
           994037,
           7118
          ],
          [
           "Cabo Verde",
           61776,
           409
          ],
          [
           "El Salvador",
           180970,
           4171
          ],
          [
           "Norway",
           1452521,
           3504
          ],
          [
           "Mongolia",
           930677,
           2119
          ],
          [
           "Wallis and Futuna",
           456,
           7
          ],
          [
           "Kuwait",
           648216,
           2556
          ],
          [
           "Maldives",
           183491,
           307
          ],
          [
           "Iraq",
           2399795,
           25263
          ],
          [
           "Indonesia",
           6127084,
           156833
          ],
          [
           "Anguilla",
           3496,
           9
          ],
          [
           "Philippines",
           3727970,
           60641
          ],
          [
           "Faroe Islands",
           34658,
           28
          ],
          [
           "Brunei",
           182950,
           225
          ],
          [
           "Iceland",
           199611,
           179
          ],
          [
           "South Korea",
           18721415,
           24728
          ],
          [
           "Kyrgyzstan",
           201414,
           2991
          ],
          [
           "Vietnam",
           10759145,
           43090
          ],
          [
           "Morocco",
           1248856,
           16173
          ],
          [
           "Thailand",
           4554976,
           30958
          ],
          [
           "Cayman Islands",
           28389,
           29
          ],
          [
           "Australia",
           8734573,
           10659
          ],
          [
           "Nepal",
           981142,
           11952
          ],
          [
           "Dominican Republic",
           621047,
           4383
          ],
          [
           "India",
           43730071,
           525660
          ],
          [
           "Greenland",
           11971,
           21
          ],
          [
           "Myanmar",
           613798,
           19434
          ],
          [
           "Zimbabwe",
           256083,
           5566
          ],
          [
           "New Zealand",
           1494272,
           1741
          ],
          [
           "Taiwan",
           4215200,
           8031
          ],
          [
           "Palau",
           5308,
           6
          ],
          [
           "Sao Tome and Principe",
           6079,
           74
          ],
          [
           "Lesotho",
           34040,
           702
          ],
          [
           "Singapore",
           1579946,
           1447
          ],
          [
           "Saudi Arabia",
           802586,
           9229
          ],
          [
           "Japan",
           10102454,
           31561
          ],
          [
           "Qatar",
           392916,
           680
          ],
          [
           "United Arab Emirates",
           970586,
           2325
          ],
          [
           "Egypt",
           515645,
           24725
          ],
          [
           "Solomon Islands",
           21544,
           153
          ],
          [
           "Mauritania",
           61763,
           986
          ],
          [
           "Zambia",
           327994,
           4009
          ],
          [
           "Venezuela",
           529384,
           5745
          ],
          [
           "Comoros",
           8209,
           160
          ],
          [
           "Afghanistan",
           183407,
           7729
          ],
          [
           "Cambodia",
           136421,
           3056
          ],
          [
           "Bangladesh",
           1994433,
           29225
          ],
          [
           "Djibouti",
           15690,
           189
          ],
          [
           "Saint Pierre and Miquelon",
           2970,
           1
          ],
          [
           "Algeria",
           266392,
           6875
          ],
          [
           "Syria",
           55973,
           3150
          ],
          [
           "Gambia",
           12009,
           365
          ],
          [
           "Malawi",
           86900,
           2652
          ],
          [
           "Samoa",
           15155,
           29
          ],
          [
           "Pakistan",
           1545647,
           30438
          ],
          [
           "Gabon",
           48289,
           306
          ],
          [
           "Senegal",
           86679,
           1968
          ],
          [
           "Tonga",
           12382,
           12
          ],
          [
           "Equatorial Guinea",
           16584,
           183
          ],
          [
           "Rwanda",
           131832,
           1462
          ],
          [
           "Sudan",
           62795,
           4955
          ],
          [
           "Kenya",
           336578,
           5668
          ],
          [
           "Laos",
           210462,
           757
          ],
          [
           "Kiribati",
           3236,
           13
          ],
          [
           "Timor-Leste",
           22976,
           133
          ],
          [
           "Guinea-Bissau",
           8400,
           171
          ],
          [
           "Somalia",
           26900,
           1361
          ],
          [
           "Uganda",
           168629,
           3627
          ],
          [
           "Haiti",
           32070,
           837
          ],
          [
           "Cameroon",
           120068,
           1931
          ],
          [
           "Mozambique",
           228972,
           2215
          ],
          [
           "Papua New Guinea",
           44761,
           662
          ],
          [
           "Republic of the Congo",
           24604,
           386
          ],
          [
           "Yemen",
           11832,
           2149
          ],
          [
           "Ethiopia",
           490925,
           7561
          ],
          [
           "Cook Islands",
           5831,
           1
          ],
          [
           "Liberia",
           7504,
           294
          ],
          [
           "Angola",
           101901,
           1909
          ],
          [
           "Madagascar",
           66098,
           1403
          ],
          [
           "Uzbekistan",
           242043,
           1637
          ],
          [
           "Ghana",
           167215,
           1456
          ],
          [
           "Vanuatu",
           11722,
           14
          ],
          [
           "Nicaragua",
           14751,
           244
          ],
          [
           "Mali",
           31196,
           737
          ],
          [
           "Guinea",
           37358,
           445
          ],
          [
           "Togo",
           37745,
           275
          ],
          [
           "Ivory Coast",
           84451,
           806
          ],
          [
           "Eritrea",
           9852,
           103
          ],
          [
           "Bhutan",
           59940,
           21
          ],
          [
           "Central African Republic",
           14712,
           113
          ],
          [
           "Burkina Faso",
           21128,
           387
          ],
          [
           "Sierra Leone",
           7721,
           125
          ],
          [
           "Nigeria",
           258934,
           3144
          ],
          [
           "Democratic Republic of the Congo",
           91737,
           1376
          ],
          [
           "Tanzania",
           37510,
           841
          ],
          [
           "South Sudan",
           17733,
           138
          ],
          [
           "Tajikistan",
           17786,
           125
          ],
          [
           "Benin",
           27216,
           163
          ],
          [
           "Niger",
           9096,
           311
          ],
          [
           "Chad",
           7427,
           193
          ],
          [
           "Macau",
           711,
           5
          ],
          [
           "China[c]",
           894689,
           5226
          ],
          [
           "Burundi",
           43222,
           38
          ],
          [
           "North Korea",
           1,
           6
          ],
          [
           "Vatican City",
           29,
           0
          ],
          [
           "Falkland Islands",
           1831,
           0
          ],
          [
           "Saint Helena, Ascension and Tristan da Cunha",
           4,
           0
          ],
          [
           "Federated States of Micronesia",
           38,
           0
          ],
          [
           "Marshall Islands",
           49,
           0
          ]
         ],
         "geo": "geo",
         "hovertemplate": "Deaths=%{marker.color}<br>Country=%{customdata[0]}<br>Cases=%{customdata[1]}<extra></extra>",
         "legendgroup": "",
         "locationmode": "country names",
         "locations": [
          "Peru",
          "Bulgaria",
          "Bosnia and Herzegovina",
          "Hungary",
          "Georgia",
          "North Macedonia",
          "Montenegro",
          "Croatia",
          "Czech Republic",
          "Moldova",
          "Slovakia",
          "San Marino",
          "Romania",
          "Lithuania",
          "Gibraltar",
          "Brazil",
          "Slovenia",
          "Latvia",
          "Armenia",
          "Poland",
          "United States",
          "Chile",
          "Greece",
          "Italy",
          "Argentina",
          "Paraguay",
          "Belgium",
          "Colombia",
          "United Kingdom",
          "Ukraine",
          "Trinidad and Tobago",
          "Russia",
          "Mexico",
          "European Union[b]",
          "Portugal",
          "Serbia",
          "Tunisia",
          "Spain",
          "Austria",
          "Suriname",
          "France",
          "Bermuda",
          "Liechtenstein",
          "Uruguay",
          "Saint Lucia",
          "French Polynesia",
          "Aruba",
          "British Virgin Islands",
          "Bahamas",
          "Ecuador",
          "Estonia",
          "Andorra",
          "Panama",
          "Lebanon",
          "Grenada",
          "Sweden",
          "Bolivia",
          "Montserrat",
          "Kosovo",
          "Luxembourg",
          "South Africa",
          "Germany",
          "Barbados",
          "Belize",
          "Costa Rica",
          "Monaco",
          "Iran",
          "Namibia",
          "Switzerland",
          "Guyana",
          "Seychelles",
          "Antigua and Barbuda",
          "Republic of Ireland",
          "Curaçao",
          "Malta",
          "Caribbean Netherlands",
          "Isle of Man",
          "Netherlands",
          "Jordan",
          "Hong Kong",
          "Albania",
          "Cyprus",
          "Israel",
          "Eswatini",
          "Turkey",
          "Canada",
          "Jamaica",
          "Denmark",
          "Palestine",
          "Saint Vincent and the Grenadines",
          "New Caledonia",
          "Malaysia",
          "Guatemala",
          "Botswana",
          "Honduras",
          "Bahrain",
          "Oman",
          "Kazakhstan",
          "Libya",
          "Saint Kitts and Nevis",
          "Azerbaijan",
          "Fiji",
          "Dominica",
          "Finland",
          "Turks and Caicos Islands",
          "Mauritius",
          "Sri Lanka",
          "Cuba",
          "Belarus",
          "Cabo Verde",
          "El Salvador",
          "Norway",
          "Mongolia",
          "Wallis and Futuna",
          "Kuwait",
          "Maldives",
          "Iraq",
          "Indonesia",
          "Anguilla",
          "Philippines",
          "Faroe Islands",
          "Brunei",
          "Iceland",
          "South Korea",
          "Kyrgyzstan",
          "Vietnam",
          "Morocco",
          "Thailand",
          "Cayman Islands",
          "Australia",
          "Nepal",
          "Dominican Republic",
          "India",
          "Greenland",
          "Myanmar",
          "Zimbabwe",
          "New Zealand",
          "Taiwan",
          "Palau",
          "Sao Tome and Principe",
          "Lesotho",
          "Singapore",
          "Saudi Arabia",
          "Japan",
          "Qatar",
          "United Arab Emirates",
          "Egypt",
          "Solomon Islands",
          "Mauritania",
          "Zambia",
          "Venezuela",
          "Comoros",
          "Afghanistan",
          "Cambodia",
          "Bangladesh",
          "Djibouti",
          "Saint Pierre and Miquelon",
          "Algeria",
          "Syria",
          "Gambia",
          "Malawi",
          "Samoa",
          "Pakistan",
          "Gabon",
          "Senegal",
          "Tonga",
          "Equatorial Guinea",
          "Rwanda",
          "Sudan",
          "Kenya",
          "Laos",
          "Kiribati",
          "Timor-Leste",
          "Guinea-Bissau",
          "Somalia",
          "Uganda",
          "Haiti",
          "Cameroon",
          "Mozambique",
          "Papua New Guinea",
          "Republic of the Congo",
          "Yemen",
          "Ethiopia",
          "Cook Islands",
          "Liberia",
          "Angola",
          "Madagascar",
          "Uzbekistan",
          "Ghana",
          "Vanuatu",
          "Nicaragua",
          "Mali",
          "Guinea",
          "Togo",
          "Ivory Coast",
          "Eritrea",
          "Bhutan",
          "Central African Republic",
          "Burkina Faso",
          "Sierra Leone",
          "Nigeria",
          "Democratic Republic of the Congo",
          "Tanzania",
          "South Sudan",
          "Tajikistan",
          "Benin",
          "Niger",
          "Chad",
          "Macau",
          "China[c]",
          "Burundi",
          "North Korea",
          "Vatican City",
          "Falkland Islands",
          "Saint Helena, Ascension and Tristan da Cunha",
          "Federated States of Micronesia",
          "Marshall Islands"
         ],
         "marker": {
          "color": [
           213769,
           37289,
           15817,
           46696,
           16847,
           9339,
           2730,
           16143,
           40350,
           11584,
           20169,
           116,
           65805,
           9188,
           105,
           675090,
           6666,
           5875,
           8629,
           116470,
           1023736,
           58990,
           30476,
           169735,
           129145,
           19083,
           32051,
           140365,
           181761,
           116422,
           4036,
           374062,
           326420,
           1110232,
           24381,
           16166,
           28823,
           109348,
           20163,
           1377,
           150483,
           141,
           85,
           7373,
           385,
           649,
           224,
           63,
           822,
           35769,
           2608,
           153,
           8386,
           10485,
           233,
           19203,
           21979,
           8,
           3146,
           1103,
           101895,
           142533,
           479,
           680,
           8525,
           60,
           141477,
           4068,
           13857,
           1264,
           167,
           143,
           7571,
           280,
           768,
           37,
           110,
           22509,
           14069,
           9432,
           3517,
           1086,
           11101,
           1417,
           99088,
           43510,
           3166,
           6551,
           5662,
           115,
           314,
           35844,
           18782,
           2760,
           10912,
           1505,
           4628,
           19020,
           6430,
           45,
           9717,
           869,
           68,
           5012,
           36,
           1008,
           16527,
           8529,
           7118,
           409,
           4171,
           3504,
           2119,
           7,
           2556,
           307,
           25263,
           156833,
           9,
           60641,
           28,
           225,
           179,
           24728,
           2991,
           43090,
           16173,
           30958,
           29,
           10659,
           11952,
           4383,
           525660,
           21,
           19434,
           5566,
           1741,
           8031,
           6,
           74,
           702,
           1447,
           9229,
           31561,
           680,
           2325,
           24725,
           153,
           986,
           4009,
           5745,
           160,
           7729,
           3056,
           29225,
           189,
           1,
           6875,
           3150,
           365,
           2652,
           29,
           30438,
           306,
           1968,
           12,
           183,
           1462,
           4955,
           5668,
           757,
           13,
           133,
           171,
           1361,
           3627,
           837,
           1931,
           2215,
           662,
           386,
           2149,
           7561,
           1,
           294,
           1909,
           1403,
           1637,
           1456,
           14,
           244,
           737,
           445,
           275,
           806,
           103,
           21,
           113,
           387,
           125,
           3144,
           1376,
           841,
           138,
           125,
           163,
           311,
           193,
           5,
           5226,
           38,
           6,
           0,
           0,
           0,
           0,
           0
          ],
          "coloraxis": "coloraxis",
          "size": [
           213769,
           37289,
           15817,
           46696,
           16847,
           9339,
           2730,
           16143,
           40350,
           11584,
           20169,
           116,
           65805,
           9188,
           105,
           675090,
           6666,
           5875,
           8629,
           116470,
           1023736,
           58990,
           30476,
           169735,
           129145,
           19083,
           32051,
           140365,
           181761,
           116422,
           4036,
           374062,
           326420,
           1110232,
           24381,
           16166,
           28823,
           109348,
           20163,
           1377,
           150483,
           141,
           85,
           7373,
           385,
           649,
           224,
           63,
           822,
           35769,
           2608,
           153,
           8386,
           10485,
           233,
           19203,
           21979,
           8,
           3146,
           1103,
           101895,
           142533,
           479,
           680,
           8525,
           60,
           141477,
           4068,
           13857,
           1264,
           167,
           143,
           7571,
           280,
           768,
           37,
           110,
           22509,
           14069,
           9432,
           3517,
           1086,
           11101,
           1417,
           99088,
           43510,
           3166,
           6551,
           5662,
           115,
           314,
           35844,
           18782,
           2760,
           10912,
           1505,
           4628,
           19020,
           6430,
           45,
           9717,
           869,
           68,
           5012,
           36,
           1008,
           16527,
           8529,
           7118,
           409,
           4171,
           3504,
           2119,
           7,
           2556,
           307,
           25263,
           156833,
           9,
           60641,
           28,
           225,
           179,
           24728,
           2991,
           43090,
           16173,
           30958,
           29,
           10659,
           11952,
           4383,
           525660,
           21,
           19434,
           5566,
           1741,
           8031,
           6,
           74,
           702,
           1447,
           9229,
           31561,
           680,
           2325,
           24725,
           153,
           986,
           4009,
           5745,
           160,
           7729,
           3056,
           29225,
           189,
           1,
           6875,
           3150,
           365,
           2652,
           29,
           30438,
           306,
           1968,
           12,
           183,
           1462,
           4955,
           5668,
           757,
           13,
           133,
           171,
           1361,
           3627,
           837,
           1931,
           2215,
           662,
           386,
           2149,
           7561,
           1,
           294,
           1909,
           1403,
           1637,
           1456,
           14,
           244,
           737,
           445,
           275,
           806,
           103,
           21,
           113,
           387,
           125,
           3144,
           1376,
           841,
           138,
           125,
           163,
           311,
           193,
           5,
           5226,
           38,
           6,
           0,
           0,
           0,
           0,
           0
          ],
          "sizemode": "area",
          "sizeref": 906.3118367346939,
          "symbol": "circle"
         },
         "mode": "markers",
         "name": "",
         "showlegend": false,
         "type": "scattergeo"
        }
       ],
       "layout": {
        "coloraxis": {
         "colorbar": {
          "title": {
           "text": "Deaths"
          }
         },
         "colorscale": [
          [
           0,
           "#0d0887"
          ],
          [
           0.1111111111111111,
           "#46039f"
          ],
          [
           0.2222222222222222,
           "#7201a8"
          ],
          [
           0.3333333333333333,
           "#9c179e"
          ],
          [
           0.4444444444444444,
           "#bd3786"
          ],
          [
           0.5555555555555556,
           "#d8576b"
          ],
          [
           0.6666666666666666,
           "#ed7953"
          ],
          [
           0.7777777777777778,
           "#fb9f3a"
          ],
          [
           0.8888888888888888,
           "#fdca26"
          ],
          [
           1,
           "#f0f921"
          ]
         ]
        },
        "geo": {
         "center": {},
         "domain": {
          "x": [
           0,
           1
          ],
          "y": [
           0,
           1
          ]
         },
         "projection": {
          "type": "natural earth"
         }
        },
        "legend": {
         "itemsizing": "constant",
         "tracegroupgap": 0
        },
        "margin": {
         "t": 60
        },
        "template": {
         "data": {
          "bar": [
           {
            "error_x": {
             "color": "#f2f5fa"
            },
            "error_y": {
             "color": "#f2f5fa"
            },
            "marker": {
             "line": {
              "color": "rgb(17,17,17)",
              "width": 0.5
             },
             "pattern": {
              "fillmode": "overlay",
              "size": 10,
              "solidity": 0.2
             }
            },
            "type": "bar"
           }
          ],
          "barpolar": [
           {
            "marker": {
             "line": {
              "color": "rgb(17,17,17)",
              "width": 0.5
             },
             "pattern": {
              "fillmode": "overlay",
              "size": 10,
              "solidity": 0.2
             }
            },
            "type": "barpolar"
           }
          ],
          "carpet": [
           {
            "aaxis": {
             "endlinecolor": "#A2B1C6",
             "gridcolor": "#506784",
             "linecolor": "#506784",
             "minorgridcolor": "#506784",
             "startlinecolor": "#A2B1C6"
            },
            "baxis": {
             "endlinecolor": "#A2B1C6",
             "gridcolor": "#506784",
             "linecolor": "#506784",
             "minorgridcolor": "#506784",
             "startlinecolor": "#A2B1C6"
            },
            "type": "carpet"
           }
          ],
          "choropleth": [
           {
            "colorbar": {
             "outlinewidth": 0,
             "ticks": ""
            },
            "type": "choropleth"
           }
          ],
          "contour": [
           {
            "colorbar": {
             "outlinewidth": 0,
             "ticks": ""
            },
            "colorscale": [
             [
              0,
              "#0d0887"
             ],
             [
              0.1111111111111111,
              "#46039f"
             ],
             [
              0.2222222222222222,
              "#7201a8"
             ],
             [
              0.3333333333333333,
              "#9c179e"
             ],
             [
              0.4444444444444444,
              "#bd3786"
             ],
             [
              0.5555555555555556,
              "#d8576b"
             ],
             [
              0.6666666666666666,
              "#ed7953"
             ],
             [
              0.7777777777777778,
              "#fb9f3a"
             ],
             [
              0.8888888888888888,
              "#fdca26"
             ],
             [
              1,
              "#f0f921"
             ]
            ],
            "type": "contour"
           }
          ],
          "contourcarpet": [
           {
            "colorbar": {
             "outlinewidth": 0,
             "ticks": ""
            },
            "type": "contourcarpet"
           }
          ],
          "heatmap": [
           {
            "colorbar": {
             "outlinewidth": 0,
             "ticks": ""
            },
            "colorscale": [
             [
              0,
              "#0d0887"
             ],
             [
              0.1111111111111111,
              "#46039f"
             ],
             [
              0.2222222222222222,
              "#7201a8"
             ],
             [
              0.3333333333333333,
              "#9c179e"
             ],
             [
              0.4444444444444444,
              "#bd3786"
             ],
             [
              0.5555555555555556,
              "#d8576b"
             ],
             [
              0.6666666666666666,
              "#ed7953"
             ],
             [
              0.7777777777777778,
              "#fb9f3a"
             ],
             [
              0.8888888888888888,
              "#fdca26"
             ],
             [
              1,
              "#f0f921"
             ]
            ],
            "type": "heatmap"
           }
          ],
          "heatmapgl": [
           {
            "colorbar": {
             "outlinewidth": 0,
             "ticks": ""
            },
            "colorscale": [
             [
              0,
              "#0d0887"
             ],
             [
              0.1111111111111111,
              "#46039f"
             ],
             [
              0.2222222222222222,
              "#7201a8"
             ],
             [
              0.3333333333333333,
              "#9c179e"
             ],
             [
              0.4444444444444444,
              "#bd3786"
             ],
             [
              0.5555555555555556,
              "#d8576b"
             ],
             [
              0.6666666666666666,
              "#ed7953"
             ],
             [
              0.7777777777777778,
              "#fb9f3a"
             ],
             [
              0.8888888888888888,
              "#fdca26"
             ],
             [
              1,
              "#f0f921"
             ]
            ],
            "type": "heatmapgl"
           }
          ],
          "histogram": [
           {
            "marker": {
             "pattern": {
              "fillmode": "overlay",
              "size": 10,
              "solidity": 0.2
             }
            },
            "type": "histogram"
           }
          ],
          "histogram2d": [
           {
            "colorbar": {
             "outlinewidth": 0,
             "ticks": ""
            },
            "colorscale": [
             [
              0,
              "#0d0887"
             ],
             [
              0.1111111111111111,
              "#46039f"
             ],
             [
              0.2222222222222222,
              "#7201a8"
             ],
             [
              0.3333333333333333,
              "#9c179e"
             ],
             [
              0.4444444444444444,
              "#bd3786"
             ],
             [
              0.5555555555555556,
              "#d8576b"
             ],
             [
              0.6666666666666666,
              "#ed7953"
             ],
             [
              0.7777777777777778,
              "#fb9f3a"
             ],
             [
              0.8888888888888888,
              "#fdca26"
             ],
             [
              1,
              "#f0f921"
             ]
            ],
            "type": "histogram2d"
           }
          ],
          "histogram2dcontour": [
           {
            "colorbar": {
             "outlinewidth": 0,
             "ticks": ""
            },
            "colorscale": [
             [
              0,
              "#0d0887"
             ],
             [
              0.1111111111111111,
              "#46039f"
             ],
             [
              0.2222222222222222,
              "#7201a8"
             ],
             [
              0.3333333333333333,
              "#9c179e"
             ],
             [
              0.4444444444444444,
              "#bd3786"
             ],
             [
              0.5555555555555556,
              "#d8576b"
             ],
             [
              0.6666666666666666,
              "#ed7953"
             ],
             [
              0.7777777777777778,
              "#fb9f3a"
             ],
             [
              0.8888888888888888,
              "#fdca26"
             ],
             [
              1,
              "#f0f921"
             ]
            ],
            "type": "histogram2dcontour"
           }
          ],
          "mesh3d": [
           {
            "colorbar": {
             "outlinewidth": 0,
             "ticks": ""
            },
            "type": "mesh3d"
           }
          ],
          "parcoords": [
           {
            "line": {
             "colorbar": {
              "outlinewidth": 0,
              "ticks": ""
             }
            },
            "type": "parcoords"
           }
          ],
          "pie": [
           {
            "automargin": true,
            "type": "pie"
           }
          ],
          "scatter": [
           {
            "marker": {
             "line": {
              "color": "#283442"
             }
            },
            "type": "scatter"
           }
          ],
          "scatter3d": [
           {
            "line": {
             "colorbar": {
              "outlinewidth": 0,
              "ticks": ""
             }
            },
            "marker": {
             "colorbar": {
              "outlinewidth": 0,
              "ticks": ""
             }
            },
            "type": "scatter3d"
           }
          ],
          "scattercarpet": [
           {
            "marker": {
             "colorbar": {
              "outlinewidth": 0,
              "ticks": ""
             }
            },
            "type": "scattercarpet"
           }
          ],
          "scattergeo": [
           {
            "marker": {
             "colorbar": {
              "outlinewidth": 0,
              "ticks": ""
             }
            },
            "type": "scattergeo"
           }
          ],
          "scattergl": [
           {
            "marker": {
             "line": {
              "color": "#283442"
             }
            },
            "type": "scattergl"
           }
          ],
          "scattermapbox": [
           {
            "marker": {
             "colorbar": {
              "outlinewidth": 0,
              "ticks": ""
             }
            },
            "type": "scattermapbox"
           }
          ],
          "scatterpolar": [
           {
            "marker": {
             "colorbar": {
              "outlinewidth": 0,
              "ticks": ""
             }
            },
            "type": "scatterpolar"
           }
          ],
          "scatterpolargl": [
           {
            "marker": {
             "colorbar": {
              "outlinewidth": 0,
              "ticks": ""
             }
            },
            "type": "scatterpolargl"
           }
          ],
          "scatterternary": [
           {
            "marker": {
             "colorbar": {
              "outlinewidth": 0,
              "ticks": ""
             }
            },
            "type": "scatterternary"
           }
          ],
          "surface": [
           {
            "colorbar": {
             "outlinewidth": 0,
             "ticks": ""
            },
            "colorscale": [
             [
              0,
              "#0d0887"
             ],
             [
              0.1111111111111111,
              "#46039f"
             ],
             [
              0.2222222222222222,
              "#7201a8"
             ],
             [
              0.3333333333333333,
              "#9c179e"
             ],
             [
              0.4444444444444444,
              "#bd3786"
             ],
             [
              0.5555555555555556,
              "#d8576b"
             ],
             [
              0.6666666666666666,
              "#ed7953"
             ],
             [
              0.7777777777777778,
              "#fb9f3a"
             ],
             [
              0.8888888888888888,
              "#fdca26"
             ],
             [
              1,
              "#f0f921"
             ]
            ],
            "type": "surface"
           }
          ],
          "table": [
           {
            "cells": {
             "fill": {
              "color": "#506784"
             },
             "line": {
              "color": "rgb(17,17,17)"
             }
            },
            "header": {
             "fill": {
              "color": "#2a3f5f"
             },
             "line": {
              "color": "rgb(17,17,17)"
             }
            },
            "type": "table"
           }
          ]
         },
         "layout": {
          "annotationdefaults": {
           "arrowcolor": "#f2f5fa",
           "arrowhead": 0,
           "arrowwidth": 1
          },
          "autotypenumbers": "strict",
          "coloraxis": {
           "colorbar": {
            "outlinewidth": 0,
            "ticks": ""
           }
          },
          "colorscale": {
           "diverging": [
            [
             0,
             "#8e0152"
            ],
            [
             0.1,
             "#c51b7d"
            ],
            [
             0.2,
             "#de77ae"
            ],
            [
             0.3,
             "#f1b6da"
            ],
            [
             0.4,
             "#fde0ef"
            ],
            [
             0.5,
             "#f7f7f7"
            ],
            [
             0.6,
             "#e6f5d0"
            ],
            [
             0.7,
             "#b8e186"
            ],
            [
             0.8,
             "#7fbc41"
            ],
            [
             0.9,
             "#4d9221"
            ],
            [
             1,
             "#276419"
            ]
           ],
           "sequential": [
            [
             0,
             "#0d0887"
            ],
            [
             0.1111111111111111,
             "#46039f"
            ],
            [
             0.2222222222222222,
             "#7201a8"
            ],
            [
             0.3333333333333333,
             "#9c179e"
            ],
            [
             0.4444444444444444,
             "#bd3786"
            ],
            [
             0.5555555555555556,
             "#d8576b"
            ],
            [
             0.6666666666666666,
             "#ed7953"
            ],
            [
             0.7777777777777778,
             "#fb9f3a"
            ],
            [
             0.8888888888888888,
             "#fdca26"
            ],
            [
             1,
             "#f0f921"
            ]
           ],
           "sequentialminus": [
            [
             0,
             "#0d0887"
            ],
            [
             0.1111111111111111,
             "#46039f"
            ],
            [
             0.2222222222222222,
             "#7201a8"
            ],
            [
             0.3333333333333333,
             "#9c179e"
            ],
            [
             0.4444444444444444,
             "#bd3786"
            ],
            [
             0.5555555555555556,
             "#d8576b"
            ],
            [
             0.6666666666666666,
             "#ed7953"
            ],
            [
             0.7777777777777778,
             "#fb9f3a"
            ],
            [
             0.8888888888888888,
             "#fdca26"
            ],
            [
             1,
             "#f0f921"
            ]
           ]
          },
          "colorway": [
           "#636efa",
           "#EF553B",
           "#00cc96",
           "#ab63fa",
           "#FFA15A",
           "#19d3f3",
           "#FF6692",
           "#B6E880",
           "#FF97FF",
           "#FECB52"
          ],
          "font": {
           "color": "#f2f5fa"
          },
          "geo": {
           "bgcolor": "rgb(17,17,17)",
           "lakecolor": "rgb(17,17,17)",
           "landcolor": "rgb(17,17,17)",
           "showlakes": true,
           "showland": true,
           "subunitcolor": "#506784"
          },
          "hoverlabel": {
           "align": "left"
          },
          "hovermode": "closest",
          "mapbox": {
           "style": "dark"
          },
          "paper_bgcolor": "rgb(17,17,17)",
          "plot_bgcolor": "rgb(17,17,17)",
          "polar": {
           "angularaxis": {
            "gridcolor": "#506784",
            "linecolor": "#506784",
            "ticks": ""
           },
           "bgcolor": "rgb(17,17,17)",
           "radialaxis": {
            "gridcolor": "#506784",
            "linecolor": "#506784",
            "ticks": ""
           }
          },
          "scene": {
           "xaxis": {
            "backgroundcolor": "rgb(17,17,17)",
            "gridcolor": "#506784",
            "gridwidth": 2,
            "linecolor": "#506784",
            "showbackground": true,
            "ticks": "",
            "zerolinecolor": "#C8D4E3"
           },
           "yaxis": {
            "backgroundcolor": "rgb(17,17,17)",
            "gridcolor": "#506784",
            "gridwidth": 2,
            "linecolor": "#506784",
            "showbackground": true,
            "ticks": "",
            "zerolinecolor": "#C8D4E3"
           },
           "zaxis": {
            "backgroundcolor": "rgb(17,17,17)",
            "gridcolor": "#506784",
            "gridwidth": 2,
            "linecolor": "#506784",
            "showbackground": true,
            "ticks": "",
            "zerolinecolor": "#C8D4E3"
           }
          },
          "shapedefaults": {
           "line": {
            "color": "#f2f5fa"
           }
          },
          "sliderdefaults": {
           "bgcolor": "#C8D4E3",
           "bordercolor": "rgb(17,17,17)",
           "borderwidth": 1,
           "tickwidth": 0
          },
          "ternary": {
           "aaxis": {
            "gridcolor": "#506784",
            "linecolor": "#506784",
            "ticks": ""
           },
           "baxis": {
            "gridcolor": "#506784",
            "linecolor": "#506784",
            "ticks": ""
           },
           "bgcolor": "rgb(17,17,17)",
           "caxis": {
            "gridcolor": "#506784",
            "linecolor": "#506784",
            "ticks": ""
           }
          },
          "title": {
           "x": 0.05
          },
          "updatemenudefaults": {
           "bgcolor": "#506784",
           "borderwidth": 0
          },
          "xaxis": {
           "automargin": true,
           "gridcolor": "#283442",
           "linecolor": "#506784",
           "ticks": "",
           "title": {
            "standoff": 15
           },
           "zerolinecolor": "#283442",
           "zerolinewidth": 2
          },
          "yaxis": {
           "automargin": true,
           "gridcolor": "#283442",
           "linecolor": "#506784",
           "ticks": "",
           "title": {
            "standoff": 15
           },
           "zerolinecolor": "#283442",
           "zerolinewidth": 2
          }
         }
        }
       }
      },
      "text/html": [
       "<div>                            <div id=\"2ea144c5-f66e-487e-85c6-027dfc7ee7c3\" class=\"plotly-graph-div\" style=\"height:525px; width:100%;\"></div>            <script type=\"text/javascript\">                require([\"plotly\"], function(Plotly) {                    window.PLOTLYENV=window.PLOTLYENV || {};                                    if (document.getElementById(\"2ea144c5-f66e-487e-85c6-027dfc7ee7c3\")) {                    Plotly.newPlot(                        \"2ea144c5-f66e-487e-85c6-027dfc7ee7c3\",                        [{\"customdata\":[[\"Peru\",3729879,213769],[\"Bulgaria\",1183877,37289],[\"Bosnia and Herzegovina\",380749,15817],[\"Hungary\",1940824,46696],[\"Georgia\",1667453,16847],[\"North Macedonia\",318138,9339],[\"Montenegro\",245896,2730],[\"Croatia\",1165478,16143],[\"Czech Republic\",3951803,40350],[\"Moldova\",523034,11584],[\"Slovakia\",2562431,20169],[\"San Marino\",19132,116],[\"Romania\",2958051,65805],[\"Lithuania\",1168585,9188],[\"Gibraltar\",19862,105],[\"Brazil\",33250117,675090],[\"Slovenia\",1057817,6666],[\"Latvia\",844980,5875],[\"Armenia\",423771,8629],[\"Poland\",6029947,116470],[\"United States\",89453076,1023736],[\"Chile\",4122401,58990],[\"Greece\",3843142,30476],[\"Italy\",19985479,169735],[\"Argentina\",9426171,129145],[\"Paraguay\",688820,19083],[\"Belgium\",4349050,32051],[\"Colombia\",6223497,140365],[\"United Kingdom\",23160756,181761],[\"Ukraine\",5289732,116422],[\"Trinidad and Tobago\",169028,4036],[\"Russia\",18211383,374062],[\"Mexico\",6408443,326420],[\"European Union[b]\",154788776,1110232],[\"Portugal\",5273845,24381],[\"Serbia\",2052116,16166],[\"Tunisia\",1087030,28823],[\"Spain\",13090476,109348],[\"Austria\",4618853,20163],[\"Suriname\",80919,1377],[\"France\",32737629,150483],[\"Bermuda\",16722,141],[\"Liechtenstein\",18335,85],[\"Uruguay\",965370,7373],[\"Saint Lucia\",27464,385],[\"French Polynesia\",74022,649],[\"Aruba\",41787,224],[\"British Virgin Islands\",7131,63],[\"Bahamas\",36354,822],[\"Ecuador\",927700,35769],[\"Estonia\",585143,2608],[\"Andorra\",44671,153],[\"Panama\",938791,8386],[\"Lebanon\",1135565,10485],[\"Grenada\",18640,233],[\"Sweden\",2528166,19203],[\"Bolivia\",960779,21979],[\"Montserrat\",1025,8],[\"Kosovo\",234880,3146],[\"Luxembourg\",275512,1103],[\"South Africa\",3998466,101895],[\"Germany\",29692989,142533],[\"Barbados\",87219,479],[\"Belize\",65994,680],[\"Costa Rica\",904934,8525],[\"Monaco\",13739,60],[\"Iran\",7270023,141477],[\"Namibia\",169253,4068],[\"Switzerland\",3861756,13857],[\"Guyana\",68730,1264],[\"Seychelles\",45185,167],[\"Antigua and Barbuda\",8704,143],[\"Republic of Ireland\",1628745,7571],[\"Cura\\u00e7ao\",44782,280],[\"Malta\",110501,768],[\"Caribbean Netherlands\",10567,37],[\"Isle of Man\",37239,110],[\"Netherlands\",8284784,22509],[\"Jordan\",1702661,14069],[\"Hong Kong\",1287088,9432],[\"Albania\",293917,3517],[\"Cyprus\",545896,1086],[\"Israel\",4498027,11101],[\"Eswatini\",73235,1417],[\"Turkey\",15297539,99088],[\"Canada\",4024060,43510],[\"Jamaica\",144489,3166],[\"Denmark\",3203739,6551],[\"Palestine\",662588,5662],[\"Saint Vincent and the Grenadines\",9183,115],[\"New Caledonia\",66732,314],[\"Malaysia\",4613998,35844],[\"Guatemala\",977539,18782],[\"Botswana\",324841,2760],[\"Honduras\",430672,10912],[\"Bahrain\",646695,1505],[\"Oman\",391641,4628],[\"Kazakhstan\",1402871,19020],[\"Libya\",502289,6430],[\"Saint Kitts and Nevis\",6367,45],[\"Azerbaijan\",793388,9717],[\"Fiji\",66713,869],[\"Dominica\",14852,68],[\"Finland\",1171034,5012],[\"Turks and Caicos Islands\",6255,36],[\"Mauritius\",233082,1008],[\"Sri Lanka\",664389,16527],[\"Cuba\",1106666,8529],[\"Belarus\",994037,7118],[\"Cabo Verde\",61776,409],[\"El Salvador\",180970,4171],[\"Norway\",1452521,3504],[\"Mongolia\",930677,2119],[\"Wallis and Futuna\",456,7],[\"Kuwait\",648216,2556],[\"Maldives\",183491,307],[\"Iraq\",2399795,25263],[\"Indonesia\",6127084,156833],[\"Anguilla\",3496,9],[\"Philippines\",3727970,60641],[\"Faroe Islands\",34658,28],[\"Brunei\",182950,225],[\"Iceland\",199611,179],[\"South Korea\",18721415,24728],[\"Kyrgyzstan\",201414,2991],[\"Vietnam\",10759145,43090],[\"Morocco\",1248856,16173],[\"Thailand\",4554976,30958],[\"Cayman Islands\",28389,29],[\"Australia\",8734573,10659],[\"Nepal\",981142,11952],[\"Dominican Republic\",621047,4383],[\"India\",43730071,525660],[\"Greenland\",11971,21],[\"Myanmar\",613798,19434],[\"Zimbabwe\",256083,5566],[\"New Zealand\",1494272,1741],[\"Taiwan\",4215200,8031],[\"Palau\",5308,6],[\"Sao Tome and Principe\",6079,74],[\"Lesotho\",34040,702],[\"Singapore\",1579946,1447],[\"Saudi Arabia\",802586,9229],[\"Japan\",10102454,31561],[\"Qatar\",392916,680],[\"United Arab Emirates\",970586,2325],[\"Egypt\",515645,24725],[\"Solomon Islands\",21544,153],[\"Mauritania\",61763,986],[\"Zambia\",327994,4009],[\"Venezuela\",529384,5745],[\"Comoros\",8209,160],[\"Afghanistan\",183407,7729],[\"Cambodia\",136421,3056],[\"Bangladesh\",1994433,29225],[\"Djibouti\",15690,189],[\"Saint Pierre and Miquelon\",2970,1],[\"Algeria\",266392,6875],[\"Syria\",55973,3150],[\"Gambia\",12009,365],[\"Malawi\",86900,2652],[\"Samoa\",15155,29],[\"Pakistan\",1545647,30438],[\"Gabon\",48289,306],[\"Senegal\",86679,1968],[\"Tonga\",12382,12],[\"Equatorial Guinea\",16584,183],[\"Rwanda\",131832,1462],[\"Sudan\",62795,4955],[\"Kenya\",336578,5668],[\"Laos\",210462,757],[\"Kiribati\",3236,13],[\"Timor-Leste\",22976,133],[\"Guinea-Bissau\",8400,171],[\"Somalia\",26900,1361],[\"Uganda\",168629,3627],[\"Haiti\",32070,837],[\"Cameroon\",120068,1931],[\"Mozambique\",228972,2215],[\"Papua New Guinea\",44761,662],[\"Republic of the Congo\",24604,386],[\"Yemen\",11832,2149],[\"Ethiopia\",490925,7561],[\"Cook Islands\",5831,1],[\"Liberia\",7504,294],[\"Angola\",101901,1909],[\"Madagascar\",66098,1403],[\"Uzbekistan\",242043,1637],[\"Ghana\",167215,1456],[\"Vanuatu\",11722,14],[\"Nicaragua\",14751,244],[\"Mali\",31196,737],[\"Guinea\",37358,445],[\"Togo\",37745,275],[\"Ivory Coast\",84451,806],[\"Eritrea\",9852,103],[\"Bhutan\",59940,21],[\"Central African Republic\",14712,113],[\"Burkina Faso\",21128,387],[\"Sierra Leone\",7721,125],[\"Nigeria\",258934,3144],[\"Democratic Republic of the Congo\",91737,1376],[\"Tanzania\",37510,841],[\"South Sudan\",17733,138],[\"Tajikistan\",17786,125],[\"Benin\",27216,163],[\"Niger\",9096,311],[\"Chad\",7427,193],[\"Macau\",711,5],[\"China[c]\",894689,5226],[\"Burundi\",43222,38],[\"North Korea\",1,6],[\"Vatican City\",29,0],[\"Falkland Islands\",1831,0],[\"Saint Helena, Ascension and Tristan da Cunha\",4,0],[\"Federated States of Micronesia\",38,0],[\"Marshall Islands\",49,0]],\"geo\":\"geo\",\"hovertemplate\":\"Deaths=%{marker.color}<br>Country=%{customdata[0]}<br>Cases=%{customdata[1]}<extra></extra>\",\"legendgroup\":\"\",\"locationmode\":\"country names\",\"locations\":[\"Peru\",\"Bulgaria\",\"Bosnia and Herzegovina\",\"Hungary\",\"Georgia\",\"North Macedonia\",\"Montenegro\",\"Croatia\",\"Czech Republic\",\"Moldova\",\"Slovakia\",\"San Marino\",\"Romania\",\"Lithuania\",\"Gibraltar\",\"Brazil\",\"Slovenia\",\"Latvia\",\"Armenia\",\"Poland\",\"United States\",\"Chile\",\"Greece\",\"Italy\",\"Argentina\",\"Paraguay\",\"Belgium\",\"Colombia\",\"United Kingdom\",\"Ukraine\",\"Trinidad and Tobago\",\"Russia\",\"Mexico\",\"European Union[b]\",\"Portugal\",\"Serbia\",\"Tunisia\",\"Spain\",\"Austria\",\"Suriname\",\"France\",\"Bermuda\",\"Liechtenstein\",\"Uruguay\",\"Saint Lucia\",\"French Polynesia\",\"Aruba\",\"British Virgin Islands\",\"Bahamas\",\"Ecuador\",\"Estonia\",\"Andorra\",\"Panama\",\"Lebanon\",\"Grenada\",\"Sweden\",\"Bolivia\",\"Montserrat\",\"Kosovo\",\"Luxembourg\",\"South Africa\",\"Germany\",\"Barbados\",\"Belize\",\"Costa Rica\",\"Monaco\",\"Iran\",\"Namibia\",\"Switzerland\",\"Guyana\",\"Seychelles\",\"Antigua and Barbuda\",\"Republic of Ireland\",\"Cura\\u00e7ao\",\"Malta\",\"Caribbean Netherlands\",\"Isle of Man\",\"Netherlands\",\"Jordan\",\"Hong Kong\",\"Albania\",\"Cyprus\",\"Israel\",\"Eswatini\",\"Turkey\",\"Canada\",\"Jamaica\",\"Denmark\",\"Palestine\",\"Saint Vincent and the Grenadines\",\"New Caledonia\",\"Malaysia\",\"Guatemala\",\"Botswana\",\"Honduras\",\"Bahrain\",\"Oman\",\"Kazakhstan\",\"Libya\",\"Saint Kitts and Nevis\",\"Azerbaijan\",\"Fiji\",\"Dominica\",\"Finland\",\"Turks and Caicos Islands\",\"Mauritius\",\"Sri Lanka\",\"Cuba\",\"Belarus\",\"Cabo Verde\",\"El Salvador\",\"Norway\",\"Mongolia\",\"Wallis and Futuna\",\"Kuwait\",\"Maldives\",\"Iraq\",\"Indonesia\",\"Anguilla\",\"Philippines\",\"Faroe Islands\",\"Brunei\",\"Iceland\",\"South Korea\",\"Kyrgyzstan\",\"Vietnam\",\"Morocco\",\"Thailand\",\"Cayman Islands\",\"Australia\",\"Nepal\",\"Dominican Republic\",\"India\",\"Greenland\",\"Myanmar\",\"Zimbabwe\",\"New Zealand\",\"Taiwan\",\"Palau\",\"Sao Tome and Principe\",\"Lesotho\",\"Singapore\",\"Saudi Arabia\",\"Japan\",\"Qatar\",\"United Arab Emirates\",\"Egypt\",\"Solomon Islands\",\"Mauritania\",\"Zambia\",\"Venezuela\",\"Comoros\",\"Afghanistan\",\"Cambodia\",\"Bangladesh\",\"Djibouti\",\"Saint Pierre and Miquelon\",\"Algeria\",\"Syria\",\"Gambia\",\"Malawi\",\"Samoa\",\"Pakistan\",\"Gabon\",\"Senegal\",\"Tonga\",\"Equatorial Guinea\",\"Rwanda\",\"Sudan\",\"Kenya\",\"Laos\",\"Kiribati\",\"Timor-Leste\",\"Guinea-Bissau\",\"Somalia\",\"Uganda\",\"Haiti\",\"Cameroon\",\"Mozambique\",\"Papua New Guinea\",\"Republic of the Congo\",\"Yemen\",\"Ethiopia\",\"Cook Islands\",\"Liberia\",\"Angola\",\"Madagascar\",\"Uzbekistan\",\"Ghana\",\"Vanuatu\",\"Nicaragua\",\"Mali\",\"Guinea\",\"Togo\",\"Ivory Coast\",\"Eritrea\",\"Bhutan\",\"Central African Republic\",\"Burkina Faso\",\"Sierra Leone\",\"Nigeria\",\"Democratic Republic of the Congo\",\"Tanzania\",\"South Sudan\",\"Tajikistan\",\"Benin\",\"Niger\",\"Chad\",\"Macau\",\"China[c]\",\"Burundi\",\"North Korea\",\"Vatican City\",\"Falkland Islands\",\"Saint Helena, Ascension and Tristan da Cunha\",\"Federated States of Micronesia\",\"Marshall Islands\"],\"marker\":{\"color\":[213769,37289,15817,46696,16847,9339,2730,16143,40350,11584,20169,116,65805,9188,105,675090,6666,5875,8629,116470,1023736,58990,30476,169735,129145,19083,32051,140365,181761,116422,4036,374062,326420,1110232,24381,16166,28823,109348,20163,1377,150483,141,85,7373,385,649,224,63,822,35769,2608,153,8386,10485,233,19203,21979,8,3146,1103,101895,142533,479,680,8525,60,141477,4068,13857,1264,167,143,7571,280,768,37,110,22509,14069,9432,3517,1086,11101,1417,99088,43510,3166,6551,5662,115,314,35844,18782,2760,10912,1505,4628,19020,6430,45,9717,869,68,5012,36,1008,16527,8529,7118,409,4171,3504,2119,7,2556,307,25263,156833,9,60641,28,225,179,24728,2991,43090,16173,30958,29,10659,11952,4383,525660,21,19434,5566,1741,8031,6,74,702,1447,9229,31561,680,2325,24725,153,986,4009,5745,160,7729,3056,29225,189,1,6875,3150,365,2652,29,30438,306,1968,12,183,1462,4955,5668,757,13,133,171,1361,3627,837,1931,2215,662,386,2149,7561,1,294,1909,1403,1637,1456,14,244,737,445,275,806,103,21,113,387,125,3144,1376,841,138,125,163,311,193,5,5226,38,6,0,0,0,0,0],\"coloraxis\":\"coloraxis\",\"size\":[213769,37289,15817,46696,16847,9339,2730,16143,40350,11584,20169,116,65805,9188,105,675090,6666,5875,8629,116470,1023736,58990,30476,169735,129145,19083,32051,140365,181761,116422,4036,374062,326420,1110232,24381,16166,28823,109348,20163,1377,150483,141,85,7373,385,649,224,63,822,35769,2608,153,8386,10485,233,19203,21979,8,3146,1103,101895,142533,479,680,8525,60,141477,4068,13857,1264,167,143,7571,280,768,37,110,22509,14069,9432,3517,1086,11101,1417,99088,43510,3166,6551,5662,115,314,35844,18782,2760,10912,1505,4628,19020,6430,45,9717,869,68,5012,36,1008,16527,8529,7118,409,4171,3504,2119,7,2556,307,25263,156833,9,60641,28,225,179,24728,2991,43090,16173,30958,29,10659,11952,4383,525660,21,19434,5566,1741,8031,6,74,702,1447,9229,31561,680,2325,24725,153,986,4009,5745,160,7729,3056,29225,189,1,6875,3150,365,2652,29,30438,306,1968,12,183,1462,4955,5668,757,13,133,171,1361,3627,837,1931,2215,662,386,2149,7561,1,294,1909,1403,1637,1456,14,244,737,445,275,806,103,21,113,387,125,3144,1376,841,138,125,163,311,193,5,5226,38,6,0,0,0,0,0],\"sizemode\":\"area\",\"sizeref\":906.3118367346939,\"symbol\":\"circle\"},\"mode\":\"markers\",\"name\":\"\",\"showlegend\":false,\"type\":\"scattergeo\"}],                        {\"template\":{\"data\":{\"barpolar\":[{\"marker\":{\"line\":{\"color\":\"rgb(17,17,17)\",\"width\":0.5},\"pattern\":{\"fillmode\":\"overlay\",\"size\":10,\"solidity\":0.2}},\"type\":\"barpolar\"}],\"bar\":[{\"error_x\":{\"color\":\"#f2f5fa\"},\"error_y\":{\"color\":\"#f2f5fa\"},\"marker\":{\"line\":{\"color\":\"rgb(17,17,17)\",\"width\":0.5},\"pattern\":{\"fillmode\":\"overlay\",\"size\":10,\"solidity\":0.2}},\"type\":\"bar\"}],\"carpet\":[{\"aaxis\":{\"endlinecolor\":\"#A2B1C6\",\"gridcolor\":\"#506784\",\"linecolor\":\"#506784\",\"minorgridcolor\":\"#506784\",\"startlinecolor\":\"#A2B1C6\"},\"baxis\":{\"endlinecolor\":\"#A2B1C6\",\"gridcolor\":\"#506784\",\"linecolor\":\"#506784\",\"minorgridcolor\":\"#506784\",\"startlinecolor\":\"#A2B1C6\"},\"type\":\"carpet\"}],\"choropleth\":[{\"colorbar\":{\"outlinewidth\":0,\"ticks\":\"\"},\"type\":\"choropleth\"}],\"contourcarpet\":[{\"colorbar\":{\"outlinewidth\":0,\"ticks\":\"\"},\"type\":\"contourcarpet\"}],\"contour\":[{\"colorbar\":{\"outlinewidth\":0,\"ticks\":\"\"},\"colorscale\":[[0.0,\"#0d0887\"],[0.1111111111111111,\"#46039f\"],[0.2222222222222222,\"#7201a8\"],[0.3333333333333333,\"#9c179e\"],[0.4444444444444444,\"#bd3786\"],[0.5555555555555556,\"#d8576b\"],[0.6666666666666666,\"#ed7953\"],[0.7777777777777778,\"#fb9f3a\"],[0.8888888888888888,\"#fdca26\"],[1.0,\"#f0f921\"]],\"type\":\"contour\"}],\"heatmapgl\":[{\"colorbar\":{\"outlinewidth\":0,\"ticks\":\"\"},\"colorscale\":[[0.0,\"#0d0887\"],[0.1111111111111111,\"#46039f\"],[0.2222222222222222,\"#7201a8\"],[0.3333333333333333,\"#9c179e\"],[0.4444444444444444,\"#bd3786\"],[0.5555555555555556,\"#d8576b\"],[0.6666666666666666,\"#ed7953\"],[0.7777777777777778,\"#fb9f3a\"],[0.8888888888888888,\"#fdca26\"],[1.0,\"#f0f921\"]],\"type\":\"heatmapgl\"}],\"heatmap\":[{\"colorbar\":{\"outlinewidth\":0,\"ticks\":\"\"},\"colorscale\":[[0.0,\"#0d0887\"],[0.1111111111111111,\"#46039f\"],[0.2222222222222222,\"#7201a8\"],[0.3333333333333333,\"#9c179e\"],[0.4444444444444444,\"#bd3786\"],[0.5555555555555556,\"#d8576b\"],[0.6666666666666666,\"#ed7953\"],[0.7777777777777778,\"#fb9f3a\"],[0.8888888888888888,\"#fdca26\"],[1.0,\"#f0f921\"]],\"type\":\"heatmap\"}],\"histogram2dcontour\":[{\"colorbar\":{\"outlinewidth\":0,\"ticks\":\"\"},\"colorscale\":[[0.0,\"#0d0887\"],[0.1111111111111111,\"#46039f\"],[0.2222222222222222,\"#7201a8\"],[0.3333333333333333,\"#9c179e\"],[0.4444444444444444,\"#bd3786\"],[0.5555555555555556,\"#d8576b\"],[0.6666666666666666,\"#ed7953\"],[0.7777777777777778,\"#fb9f3a\"],[0.8888888888888888,\"#fdca26\"],[1.0,\"#f0f921\"]],\"type\":\"histogram2dcontour\"}],\"histogram2d\":[{\"colorbar\":{\"outlinewidth\":0,\"ticks\":\"\"},\"colorscale\":[[0.0,\"#0d0887\"],[0.1111111111111111,\"#46039f\"],[0.2222222222222222,\"#7201a8\"],[0.3333333333333333,\"#9c179e\"],[0.4444444444444444,\"#bd3786\"],[0.5555555555555556,\"#d8576b\"],[0.6666666666666666,\"#ed7953\"],[0.7777777777777778,\"#fb9f3a\"],[0.8888888888888888,\"#fdca26\"],[1.0,\"#f0f921\"]],\"type\":\"histogram2d\"}],\"histogram\":[{\"marker\":{\"pattern\":{\"fillmode\":\"overlay\",\"size\":10,\"solidity\":0.2}},\"type\":\"histogram\"}],\"mesh3d\":[{\"colorbar\":{\"outlinewidth\":0,\"ticks\":\"\"},\"type\":\"mesh3d\"}],\"parcoords\":[{\"line\":{\"colorbar\":{\"outlinewidth\":0,\"ticks\":\"\"}},\"type\":\"parcoords\"}],\"pie\":[{\"automargin\":true,\"type\":\"pie\"}],\"scatter3d\":[{\"line\":{\"colorbar\":{\"outlinewidth\":0,\"ticks\":\"\"}},\"marker\":{\"colorbar\":{\"outlinewidth\":0,\"ticks\":\"\"}},\"type\":\"scatter3d\"}],\"scattercarpet\":[{\"marker\":{\"colorbar\":{\"outlinewidth\":0,\"ticks\":\"\"}},\"type\":\"scattercarpet\"}],\"scattergeo\":[{\"marker\":{\"colorbar\":{\"outlinewidth\":0,\"ticks\":\"\"}},\"type\":\"scattergeo\"}],\"scattergl\":[{\"marker\":{\"line\":{\"color\":\"#283442\"}},\"type\":\"scattergl\"}],\"scattermapbox\":[{\"marker\":{\"colorbar\":{\"outlinewidth\":0,\"ticks\":\"\"}},\"type\":\"scattermapbox\"}],\"scatterpolargl\":[{\"marker\":{\"colorbar\":{\"outlinewidth\":0,\"ticks\":\"\"}},\"type\":\"scatterpolargl\"}],\"scatterpolar\":[{\"marker\":{\"colorbar\":{\"outlinewidth\":0,\"ticks\":\"\"}},\"type\":\"scatterpolar\"}],\"scatter\":[{\"marker\":{\"line\":{\"color\":\"#283442\"}},\"type\":\"scatter\"}],\"scatterternary\":[{\"marker\":{\"colorbar\":{\"outlinewidth\":0,\"ticks\":\"\"}},\"type\":\"scatterternary\"}],\"surface\":[{\"colorbar\":{\"outlinewidth\":0,\"ticks\":\"\"},\"colorscale\":[[0.0,\"#0d0887\"],[0.1111111111111111,\"#46039f\"],[0.2222222222222222,\"#7201a8\"],[0.3333333333333333,\"#9c179e\"],[0.4444444444444444,\"#bd3786\"],[0.5555555555555556,\"#d8576b\"],[0.6666666666666666,\"#ed7953\"],[0.7777777777777778,\"#fb9f3a\"],[0.8888888888888888,\"#fdca26\"],[1.0,\"#f0f921\"]],\"type\":\"surface\"}],\"table\":[{\"cells\":{\"fill\":{\"color\":\"#506784\"},\"line\":{\"color\":\"rgb(17,17,17)\"}},\"header\":{\"fill\":{\"color\":\"#2a3f5f\"},\"line\":{\"color\":\"rgb(17,17,17)\"}},\"type\":\"table\"}]},\"layout\":{\"annotationdefaults\":{\"arrowcolor\":\"#f2f5fa\",\"arrowhead\":0,\"arrowwidth\":1},\"autotypenumbers\":\"strict\",\"coloraxis\":{\"colorbar\":{\"outlinewidth\":0,\"ticks\":\"\"}},\"colorscale\":{\"diverging\":[[0,\"#8e0152\"],[0.1,\"#c51b7d\"],[0.2,\"#de77ae\"],[0.3,\"#f1b6da\"],[0.4,\"#fde0ef\"],[0.5,\"#f7f7f7\"],[0.6,\"#e6f5d0\"],[0.7,\"#b8e186\"],[0.8,\"#7fbc41\"],[0.9,\"#4d9221\"],[1,\"#276419\"]],\"sequential\":[[0.0,\"#0d0887\"],[0.1111111111111111,\"#46039f\"],[0.2222222222222222,\"#7201a8\"],[0.3333333333333333,\"#9c179e\"],[0.4444444444444444,\"#bd3786\"],[0.5555555555555556,\"#d8576b\"],[0.6666666666666666,\"#ed7953\"],[0.7777777777777778,\"#fb9f3a\"],[0.8888888888888888,\"#fdca26\"],[1.0,\"#f0f921\"]],\"sequentialminus\":[[0.0,\"#0d0887\"],[0.1111111111111111,\"#46039f\"],[0.2222222222222222,\"#7201a8\"],[0.3333333333333333,\"#9c179e\"],[0.4444444444444444,\"#bd3786\"],[0.5555555555555556,\"#d8576b\"],[0.6666666666666666,\"#ed7953\"],[0.7777777777777778,\"#fb9f3a\"],[0.8888888888888888,\"#fdca26\"],[1.0,\"#f0f921\"]]},\"colorway\":[\"#636efa\",\"#EF553B\",\"#00cc96\",\"#ab63fa\",\"#FFA15A\",\"#19d3f3\",\"#FF6692\",\"#B6E880\",\"#FF97FF\",\"#FECB52\"],\"font\":{\"color\":\"#f2f5fa\"},\"geo\":{\"bgcolor\":\"rgb(17,17,17)\",\"lakecolor\":\"rgb(17,17,17)\",\"landcolor\":\"rgb(17,17,17)\",\"showlakes\":true,\"showland\":true,\"subunitcolor\":\"#506784\"},\"hoverlabel\":{\"align\":\"left\"},\"hovermode\":\"closest\",\"mapbox\":{\"style\":\"dark\"},\"paper_bgcolor\":\"rgb(17,17,17)\",\"plot_bgcolor\":\"rgb(17,17,17)\",\"polar\":{\"angularaxis\":{\"gridcolor\":\"#506784\",\"linecolor\":\"#506784\",\"ticks\":\"\"},\"bgcolor\":\"rgb(17,17,17)\",\"radialaxis\":{\"gridcolor\":\"#506784\",\"linecolor\":\"#506784\",\"ticks\":\"\"}},\"scene\":{\"xaxis\":{\"backgroundcolor\":\"rgb(17,17,17)\",\"gridcolor\":\"#506784\",\"gridwidth\":2,\"linecolor\":\"#506784\",\"showbackground\":true,\"ticks\":\"\",\"zerolinecolor\":\"#C8D4E3\"},\"yaxis\":{\"backgroundcolor\":\"rgb(17,17,17)\",\"gridcolor\":\"#506784\",\"gridwidth\":2,\"linecolor\":\"#506784\",\"showbackground\":true,\"ticks\":\"\",\"zerolinecolor\":\"#C8D4E3\"},\"zaxis\":{\"backgroundcolor\":\"rgb(17,17,17)\",\"gridcolor\":\"#506784\",\"gridwidth\":2,\"linecolor\":\"#506784\",\"showbackground\":true,\"ticks\":\"\",\"zerolinecolor\":\"#C8D4E3\"}},\"shapedefaults\":{\"line\":{\"color\":\"#f2f5fa\"}},\"sliderdefaults\":{\"bgcolor\":\"#C8D4E3\",\"bordercolor\":\"rgb(17,17,17)\",\"borderwidth\":1,\"tickwidth\":0},\"ternary\":{\"aaxis\":{\"gridcolor\":\"#506784\",\"linecolor\":\"#506784\",\"ticks\":\"\"},\"baxis\":{\"gridcolor\":\"#506784\",\"linecolor\":\"#506784\",\"ticks\":\"\"},\"bgcolor\":\"rgb(17,17,17)\",\"caxis\":{\"gridcolor\":\"#506784\",\"linecolor\":\"#506784\",\"ticks\":\"\"}},\"title\":{\"x\":0.05},\"updatemenudefaults\":{\"bgcolor\":\"#506784\",\"borderwidth\":0},\"xaxis\":{\"automargin\":true,\"gridcolor\":\"#283442\",\"linecolor\":\"#506784\",\"ticks\":\"\",\"title\":{\"standoff\":15},\"zerolinecolor\":\"#283442\",\"zerolinewidth\":2},\"yaxis\":{\"automargin\":true,\"gridcolor\":\"#283442\",\"linecolor\":\"#506784\",\"ticks\":\"\",\"title\":{\"standoff\":15},\"zerolinecolor\":\"#283442\",\"zerolinewidth\":2}}},\"geo\":{\"domain\":{\"x\":[0.0,1.0],\"y\":[0.0,1.0]},\"projection\":{\"type\":\"natural earth\"},\"center\":{}},\"coloraxis\":{\"colorbar\":{\"title\":{\"text\":\"Deaths\"}},\"colorscale\":[[0.0,\"#0d0887\"],[0.1111111111111111,\"#46039f\"],[0.2222222222222222,\"#7201a8\"],[0.3333333333333333,\"#9c179e\"],[0.4444444444444444,\"#bd3786\"],[0.5555555555555556,\"#d8576b\"],[0.6666666666666666,\"#ed7953\"],[0.7777777777777778,\"#fb9f3a\"],[0.8888888888888888,\"#fdca26\"],[1.0,\"#f0f921\"]]},\"legend\":{\"tracegroupgap\":0,\"itemsizing\":\"constant\"},\"margin\":{\"t\":60}},                        {\"responsive\": true}                    ).then(function(){\n",
       "                            \n",
       "var gd = document.getElementById('2ea144c5-f66e-487e-85c6-027dfc7ee7c3');\n",
       "var x = new MutationObserver(function (mutations, observer) {{\n",
       "        var display = window.getComputedStyle(gd).display;\n",
       "        if (!display || display === 'none') {{\n",
       "            console.log([gd, 'removed!']);\n",
       "            Plotly.purge(gd);\n",
       "            observer.disconnect();\n",
       "        }}\n",
       "}});\n",
       "\n",
       "// Listen for the removal of the full notebook cells\n",
       "var notebookContainer = gd.closest('#notebook-container');\n",
       "if (notebookContainer) {{\n",
       "    x.observe(notebookContainer, {childList: true});\n",
       "}}\n",
       "\n",
       "// Listen for the clearing of the current output cell\n",
       "var outputEl = gd.closest('.output');\n",
       "if (outputEl) {{\n",
       "    x.observe(outputEl, {childList: true});\n",
       "}}\n",
       "\n",
       "                        })                };                });            </script>        </div>"
      ]
     },
     "metadata": {},
     "output_type": "display_data"
    }
   ],
   "source": [
    "fig = px.scatter_geo(mydata, locationmode = \"country names\", locations=\"Country\", color=\"Deaths\",\n",
    "                     hover_data=['Country', 'Cases', 'Deaths'], size=\"Deaths\",\n",
    "                     projection=\"natural earth\", size_max = 35, template = 'plotly_dark')\n",
    "fig.show()"
   ]
  },
  {
   "cell_type": "markdown",
   "id": "11a32f0e",
   "metadata": {},
   "source": [
    "### Global map(Death cases)"
   ]
  },
  {
   "cell_type": "code",
   "execution_count": 37,
   "id": "3410a1df",
   "metadata": {},
   "outputs": [
    {
     "data": {
      "application/vnd.plotly.v1+json": {
       "config": {
        "plotlyServerURL": "https://plot.ly"
       },
       "data": [
        {
         "customdata": [
          [
           "Peru",
           3729879,
           213769
          ],
          [
           "Bulgaria",
           1183877,
           37289
          ],
          [
           "Bosnia and Herzegovina",
           380749,
           15817
          ],
          [
           "Hungary",
           1940824,
           46696
          ],
          [
           "Georgia",
           1667453,
           16847
          ],
          [
           "North Macedonia",
           318138,
           9339
          ],
          [
           "Montenegro",
           245896,
           2730
          ],
          [
           "Croatia",
           1165478,
           16143
          ],
          [
           "Czech Republic",
           3951803,
           40350
          ],
          [
           "Moldova",
           523034,
           11584
          ],
          [
           "Slovakia",
           2562431,
           20169
          ],
          [
           "San Marino",
           19132,
           116
          ],
          [
           "Romania",
           2958051,
           65805
          ],
          [
           "Lithuania",
           1168585,
           9188
          ],
          [
           "Gibraltar",
           19862,
           105
          ],
          [
           "Brazil",
           33250117,
           675090
          ],
          [
           "Slovenia",
           1057817,
           6666
          ],
          [
           "Latvia",
           844980,
           5875
          ],
          [
           "Armenia",
           423771,
           8629
          ],
          [
           "Poland",
           6029947,
           116470
          ],
          [
           "United States",
           89453076,
           1023736
          ],
          [
           "Chile",
           4122401,
           58990
          ],
          [
           "Greece",
           3843142,
           30476
          ],
          [
           "Italy",
           19985479,
           169735
          ],
          [
           "Argentina",
           9426171,
           129145
          ],
          [
           "Paraguay",
           688820,
           19083
          ],
          [
           "Belgium",
           4349050,
           32051
          ],
          [
           "Colombia",
           6223497,
           140365
          ],
          [
           "United Kingdom",
           23160756,
           181761
          ],
          [
           "Ukraine",
           5289732,
           116422
          ],
          [
           "Trinidad and Tobago",
           169028,
           4036
          ],
          [
           "Russia",
           18211383,
           374062
          ],
          [
           "Mexico",
           6408443,
           326420
          ],
          [
           "European Union[b]",
           154788776,
           1110232
          ],
          [
           "Portugal",
           5273845,
           24381
          ],
          [
           "Serbia",
           2052116,
           16166
          ],
          [
           "Tunisia",
           1087030,
           28823
          ],
          [
           "Spain",
           13090476,
           109348
          ],
          [
           "Austria",
           4618853,
           20163
          ],
          [
           "Suriname",
           80919,
           1377
          ],
          [
           "France",
           32737629,
           150483
          ],
          [
           "Bermuda",
           16722,
           141
          ],
          [
           "Liechtenstein",
           18335,
           85
          ],
          [
           "Uruguay",
           965370,
           7373
          ],
          [
           "Saint Lucia",
           27464,
           385
          ],
          [
           "French Polynesia",
           74022,
           649
          ],
          [
           "Aruba",
           41787,
           224
          ],
          [
           "British Virgin Islands",
           7131,
           63
          ],
          [
           "Bahamas",
           36354,
           822
          ],
          [
           "Ecuador",
           927700,
           35769
          ],
          [
           "Estonia",
           585143,
           2608
          ],
          [
           "Andorra",
           44671,
           153
          ],
          [
           "Panama",
           938791,
           8386
          ],
          [
           "Lebanon",
           1135565,
           10485
          ],
          [
           "Grenada",
           18640,
           233
          ],
          [
           "Sweden",
           2528166,
           19203
          ],
          [
           "Bolivia",
           960779,
           21979
          ],
          [
           "Montserrat",
           1025,
           8
          ],
          [
           "Kosovo",
           234880,
           3146
          ],
          [
           "Luxembourg",
           275512,
           1103
          ],
          [
           "South Africa",
           3998466,
           101895
          ],
          [
           "Germany",
           29692989,
           142533
          ],
          [
           "Barbados",
           87219,
           479
          ],
          [
           "Belize",
           65994,
           680
          ],
          [
           "Costa Rica",
           904934,
           8525
          ],
          [
           "Monaco",
           13739,
           60
          ],
          [
           "Iran",
           7270023,
           141477
          ],
          [
           "Namibia",
           169253,
           4068
          ],
          [
           "Switzerland",
           3861756,
           13857
          ],
          [
           "Guyana",
           68730,
           1264
          ],
          [
           "Seychelles",
           45185,
           167
          ],
          [
           "Antigua and Barbuda",
           8704,
           143
          ],
          [
           "Republic of Ireland",
           1628745,
           7571
          ],
          [
           "Curaçao",
           44782,
           280
          ],
          [
           "Malta",
           110501,
           768
          ],
          [
           "Caribbean Netherlands",
           10567,
           37
          ],
          [
           "Isle of Man",
           37239,
           110
          ],
          [
           "Netherlands",
           8284784,
           22509
          ],
          [
           "Jordan",
           1702661,
           14069
          ],
          [
           "Hong Kong",
           1287088,
           9432
          ],
          [
           "Albania",
           293917,
           3517
          ],
          [
           "Cyprus",
           545896,
           1086
          ],
          [
           "Israel",
           4498027,
           11101
          ],
          [
           "Eswatini",
           73235,
           1417
          ],
          [
           "Turkey",
           15297539,
           99088
          ],
          [
           "Canada",
           4024060,
           43510
          ],
          [
           "Jamaica",
           144489,
           3166
          ],
          [
           "Denmark",
           3203739,
           6551
          ],
          [
           "Palestine",
           662588,
           5662
          ],
          [
           "Saint Vincent and the Grenadines",
           9183,
           115
          ],
          [
           "New Caledonia",
           66732,
           314
          ],
          [
           "Malaysia",
           4613998,
           35844
          ],
          [
           "Guatemala",
           977539,
           18782
          ],
          [
           "Botswana",
           324841,
           2760
          ],
          [
           "Honduras",
           430672,
           10912
          ],
          [
           "Bahrain",
           646695,
           1505
          ],
          [
           "Oman",
           391641,
           4628
          ],
          [
           "Kazakhstan",
           1402871,
           19020
          ],
          [
           "Libya",
           502289,
           6430
          ],
          [
           "Saint Kitts and Nevis",
           6367,
           45
          ],
          [
           "Azerbaijan",
           793388,
           9717
          ],
          [
           "Fiji",
           66713,
           869
          ],
          [
           "Dominica",
           14852,
           68
          ],
          [
           "Finland",
           1171034,
           5012
          ],
          [
           "Turks and Caicos Islands",
           6255,
           36
          ],
          [
           "Mauritius",
           233082,
           1008
          ],
          [
           "Sri Lanka",
           664389,
           16527
          ],
          [
           "Cuba",
           1106666,
           8529
          ],
          [
           "Belarus",
           994037,
           7118
          ],
          [
           "Cabo Verde",
           61776,
           409
          ],
          [
           "El Salvador",
           180970,
           4171
          ],
          [
           "Norway",
           1452521,
           3504
          ],
          [
           "Mongolia",
           930677,
           2119
          ],
          [
           "Wallis and Futuna",
           456,
           7
          ],
          [
           "Kuwait",
           648216,
           2556
          ],
          [
           "Maldives",
           183491,
           307
          ],
          [
           "Iraq",
           2399795,
           25263
          ],
          [
           "Indonesia",
           6127084,
           156833
          ],
          [
           "Anguilla",
           3496,
           9
          ],
          [
           "Philippines",
           3727970,
           60641
          ],
          [
           "Faroe Islands",
           34658,
           28
          ],
          [
           "Brunei",
           182950,
           225
          ],
          [
           "Iceland",
           199611,
           179
          ],
          [
           "South Korea",
           18721415,
           24728
          ],
          [
           "Kyrgyzstan",
           201414,
           2991
          ],
          [
           "Vietnam",
           10759145,
           43090
          ],
          [
           "Morocco",
           1248856,
           16173
          ],
          [
           "Thailand",
           4554976,
           30958
          ],
          [
           "Cayman Islands",
           28389,
           29
          ],
          [
           "Australia",
           8734573,
           10659
          ],
          [
           "Nepal",
           981142,
           11952
          ],
          [
           "Dominican Republic",
           621047,
           4383
          ],
          [
           "India",
           43730071,
           525660
          ],
          [
           "Greenland",
           11971,
           21
          ],
          [
           "Myanmar",
           613798,
           19434
          ],
          [
           "Zimbabwe",
           256083,
           5566
          ],
          [
           "New Zealand",
           1494272,
           1741
          ],
          [
           "Taiwan",
           4215200,
           8031
          ],
          [
           "Palau",
           5308,
           6
          ],
          [
           "Sao Tome and Principe",
           6079,
           74
          ],
          [
           "Lesotho",
           34040,
           702
          ],
          [
           "Singapore",
           1579946,
           1447
          ],
          [
           "Saudi Arabia",
           802586,
           9229
          ],
          [
           "Japan",
           10102454,
           31561
          ],
          [
           "Qatar",
           392916,
           680
          ],
          [
           "United Arab Emirates",
           970586,
           2325
          ],
          [
           "Egypt",
           515645,
           24725
          ],
          [
           "Solomon Islands",
           21544,
           153
          ],
          [
           "Mauritania",
           61763,
           986
          ],
          [
           "Zambia",
           327994,
           4009
          ],
          [
           "Venezuela",
           529384,
           5745
          ],
          [
           "Comoros",
           8209,
           160
          ],
          [
           "Afghanistan",
           183407,
           7729
          ],
          [
           "Cambodia",
           136421,
           3056
          ],
          [
           "Bangladesh",
           1994433,
           29225
          ],
          [
           "Djibouti",
           15690,
           189
          ],
          [
           "Saint Pierre and Miquelon",
           2970,
           1
          ],
          [
           "Algeria",
           266392,
           6875
          ],
          [
           "Syria",
           55973,
           3150
          ],
          [
           "Gambia",
           12009,
           365
          ],
          [
           "Malawi",
           86900,
           2652
          ],
          [
           "Samoa",
           15155,
           29
          ],
          [
           "Pakistan",
           1545647,
           30438
          ],
          [
           "Gabon",
           48289,
           306
          ],
          [
           "Senegal",
           86679,
           1968
          ],
          [
           "Tonga",
           12382,
           12
          ],
          [
           "Equatorial Guinea",
           16584,
           183
          ],
          [
           "Rwanda",
           131832,
           1462
          ],
          [
           "Sudan",
           62795,
           4955
          ],
          [
           "Kenya",
           336578,
           5668
          ],
          [
           "Laos",
           210462,
           757
          ],
          [
           "Kiribati",
           3236,
           13
          ],
          [
           "Timor-Leste",
           22976,
           133
          ],
          [
           "Guinea-Bissau",
           8400,
           171
          ],
          [
           "Somalia",
           26900,
           1361
          ],
          [
           "Uganda",
           168629,
           3627
          ],
          [
           "Haiti",
           32070,
           837
          ],
          [
           "Cameroon",
           120068,
           1931
          ],
          [
           "Mozambique",
           228972,
           2215
          ],
          [
           "Papua New Guinea",
           44761,
           662
          ],
          [
           "Republic of the Congo",
           24604,
           386
          ],
          [
           "Yemen",
           11832,
           2149
          ],
          [
           "Ethiopia",
           490925,
           7561
          ],
          [
           "Cook Islands",
           5831,
           1
          ],
          [
           "Liberia",
           7504,
           294
          ],
          [
           "Angola",
           101901,
           1909
          ],
          [
           "Madagascar",
           66098,
           1403
          ],
          [
           "Uzbekistan",
           242043,
           1637
          ],
          [
           "Ghana",
           167215,
           1456
          ],
          [
           "Vanuatu",
           11722,
           14
          ],
          [
           "Nicaragua",
           14751,
           244
          ],
          [
           "Mali",
           31196,
           737
          ],
          [
           "Guinea",
           37358,
           445
          ],
          [
           "Togo",
           37745,
           275
          ],
          [
           "Ivory Coast",
           84451,
           806
          ],
          [
           "Eritrea",
           9852,
           103
          ],
          [
           "Bhutan",
           59940,
           21
          ],
          [
           "Central African Republic",
           14712,
           113
          ],
          [
           "Burkina Faso",
           21128,
           387
          ],
          [
           "Sierra Leone",
           7721,
           125
          ],
          [
           "Nigeria",
           258934,
           3144
          ],
          [
           "Democratic Republic of the Congo",
           91737,
           1376
          ],
          [
           "Tanzania",
           37510,
           841
          ],
          [
           "South Sudan",
           17733,
           138
          ],
          [
           "Tajikistan",
           17786,
           125
          ],
          [
           "Benin",
           27216,
           163
          ],
          [
           "Niger",
           9096,
           311
          ],
          [
           "Chad",
           7427,
           193
          ],
          [
           "Macau",
           711,
           5
          ],
          [
           "China[c]",
           894689,
           5226
          ],
          [
           "Burundi",
           43222,
           38
          ],
          [
           "North Korea",
           1,
           6
          ],
          [
           "Vatican City",
           29,
           0
          ],
          [
           "Falkland Islands",
           1831,
           0
          ],
          [
           "Saint Helena, Ascension and Tristan da Cunha",
           4,
           0
          ],
          [
           "Federated States of Micronesia",
           38,
           0
          ],
          [
           "Marshall Islands",
           49,
           0
          ]
         ],
         "geo": "geo",
         "hovertemplate": "Cases=%{marker.color}<br>Country=%{customdata[0]}<br>Deaths=%{customdata[2]}<extra></extra>",
         "legendgroup": "",
         "locationmode": "country names",
         "locations": [
          "Peru",
          "Bulgaria",
          "Bosnia and Herzegovina",
          "Hungary",
          "Georgia",
          "North Macedonia",
          "Montenegro",
          "Croatia",
          "Czech Republic",
          "Moldova",
          "Slovakia",
          "San Marino",
          "Romania",
          "Lithuania",
          "Gibraltar",
          "Brazil",
          "Slovenia",
          "Latvia",
          "Armenia",
          "Poland",
          "United States",
          "Chile",
          "Greece",
          "Italy",
          "Argentina",
          "Paraguay",
          "Belgium",
          "Colombia",
          "United Kingdom",
          "Ukraine",
          "Trinidad and Tobago",
          "Russia",
          "Mexico",
          "European Union[b]",
          "Portugal",
          "Serbia",
          "Tunisia",
          "Spain",
          "Austria",
          "Suriname",
          "France",
          "Bermuda",
          "Liechtenstein",
          "Uruguay",
          "Saint Lucia",
          "French Polynesia",
          "Aruba",
          "British Virgin Islands",
          "Bahamas",
          "Ecuador",
          "Estonia",
          "Andorra",
          "Panama",
          "Lebanon",
          "Grenada",
          "Sweden",
          "Bolivia",
          "Montserrat",
          "Kosovo",
          "Luxembourg",
          "South Africa",
          "Germany",
          "Barbados",
          "Belize",
          "Costa Rica",
          "Monaco",
          "Iran",
          "Namibia",
          "Switzerland",
          "Guyana",
          "Seychelles",
          "Antigua and Barbuda",
          "Republic of Ireland",
          "Curaçao",
          "Malta",
          "Caribbean Netherlands",
          "Isle of Man",
          "Netherlands",
          "Jordan",
          "Hong Kong",
          "Albania",
          "Cyprus",
          "Israel",
          "Eswatini",
          "Turkey",
          "Canada",
          "Jamaica",
          "Denmark",
          "Palestine",
          "Saint Vincent and the Grenadines",
          "New Caledonia",
          "Malaysia",
          "Guatemala",
          "Botswana",
          "Honduras",
          "Bahrain",
          "Oman",
          "Kazakhstan",
          "Libya",
          "Saint Kitts and Nevis",
          "Azerbaijan",
          "Fiji",
          "Dominica",
          "Finland",
          "Turks and Caicos Islands",
          "Mauritius",
          "Sri Lanka",
          "Cuba",
          "Belarus",
          "Cabo Verde",
          "El Salvador",
          "Norway",
          "Mongolia",
          "Wallis and Futuna",
          "Kuwait",
          "Maldives",
          "Iraq",
          "Indonesia",
          "Anguilla",
          "Philippines",
          "Faroe Islands",
          "Brunei",
          "Iceland",
          "South Korea",
          "Kyrgyzstan",
          "Vietnam",
          "Morocco",
          "Thailand",
          "Cayman Islands",
          "Australia",
          "Nepal",
          "Dominican Republic",
          "India",
          "Greenland",
          "Myanmar",
          "Zimbabwe",
          "New Zealand",
          "Taiwan",
          "Palau",
          "Sao Tome and Principe",
          "Lesotho",
          "Singapore",
          "Saudi Arabia",
          "Japan",
          "Qatar",
          "United Arab Emirates",
          "Egypt",
          "Solomon Islands",
          "Mauritania",
          "Zambia",
          "Venezuela",
          "Comoros",
          "Afghanistan",
          "Cambodia",
          "Bangladesh",
          "Djibouti",
          "Saint Pierre and Miquelon",
          "Algeria",
          "Syria",
          "Gambia",
          "Malawi",
          "Samoa",
          "Pakistan",
          "Gabon",
          "Senegal",
          "Tonga",
          "Equatorial Guinea",
          "Rwanda",
          "Sudan",
          "Kenya",
          "Laos",
          "Kiribati",
          "Timor-Leste",
          "Guinea-Bissau",
          "Somalia",
          "Uganda",
          "Haiti",
          "Cameroon",
          "Mozambique",
          "Papua New Guinea",
          "Republic of the Congo",
          "Yemen",
          "Ethiopia",
          "Cook Islands",
          "Liberia",
          "Angola",
          "Madagascar",
          "Uzbekistan",
          "Ghana",
          "Vanuatu",
          "Nicaragua",
          "Mali",
          "Guinea",
          "Togo",
          "Ivory Coast",
          "Eritrea",
          "Bhutan",
          "Central African Republic",
          "Burkina Faso",
          "Sierra Leone",
          "Nigeria",
          "Democratic Republic of the Congo",
          "Tanzania",
          "South Sudan",
          "Tajikistan",
          "Benin",
          "Niger",
          "Chad",
          "Macau",
          "China[c]",
          "Burundi",
          "North Korea",
          "Vatican City",
          "Falkland Islands",
          "Saint Helena, Ascension and Tristan da Cunha",
          "Federated States of Micronesia",
          "Marshall Islands"
         ],
         "marker": {
          "color": [
           3729879,
           1183877,
           380749,
           1940824,
           1667453,
           318138,
           245896,
           1165478,
           3951803,
           523034,
           2562431,
           19132,
           2958051,
           1168585,
           19862,
           33250117,
           1057817,
           844980,
           423771,
           6029947,
           89453076,
           4122401,
           3843142,
           19985479,
           9426171,
           688820,
           4349050,
           6223497,
           23160756,
           5289732,
           169028,
           18211383,
           6408443,
           154788776,
           5273845,
           2052116,
           1087030,
           13090476,
           4618853,
           80919,
           32737629,
           16722,
           18335,
           965370,
           27464,
           74022,
           41787,
           7131,
           36354,
           927700,
           585143,
           44671,
           938791,
           1135565,
           18640,
           2528166,
           960779,
           1025,
           234880,
           275512,
           3998466,
           29692989,
           87219,
           65994,
           904934,
           13739,
           7270023,
           169253,
           3861756,
           68730,
           45185,
           8704,
           1628745,
           44782,
           110501,
           10567,
           37239,
           8284784,
           1702661,
           1287088,
           293917,
           545896,
           4498027,
           73235,
           15297539,
           4024060,
           144489,
           3203739,
           662588,
           9183,
           66732,
           4613998,
           977539,
           324841,
           430672,
           646695,
           391641,
           1402871,
           502289,
           6367,
           793388,
           66713,
           14852,
           1171034,
           6255,
           233082,
           664389,
           1106666,
           994037,
           61776,
           180970,
           1452521,
           930677,
           456,
           648216,
           183491,
           2399795,
           6127084,
           3496,
           3727970,
           34658,
           182950,
           199611,
           18721415,
           201414,
           10759145,
           1248856,
           4554976,
           28389,
           8734573,
           981142,
           621047,
           43730071,
           11971,
           613798,
           256083,
           1494272,
           4215200,
           5308,
           6079,
           34040,
           1579946,
           802586,
           10102454,
           392916,
           970586,
           515645,
           21544,
           61763,
           327994,
           529384,
           8209,
           183407,
           136421,
           1994433,
           15690,
           2970,
           266392,
           55973,
           12009,
           86900,
           15155,
           1545647,
           48289,
           86679,
           12382,
           16584,
           131832,
           62795,
           336578,
           210462,
           3236,
           22976,
           8400,
           26900,
           168629,
           32070,
           120068,
           228972,
           44761,
           24604,
           11832,
           490925,
           5831,
           7504,
           101901,
           66098,
           242043,
           167215,
           11722,
           14751,
           31196,
           37358,
           37745,
           84451,
           9852,
           59940,
           14712,
           21128,
           7721,
           258934,
           91737,
           37510,
           17733,
           17786,
           27216,
           9096,
           7427,
           711,
           894689,
           43222,
           1,
           29,
           1831,
           4,
           38,
           49
          ],
          "coloraxis": "coloraxis",
          "size": [
           3729879,
           1183877,
           380749,
           1940824,
           1667453,
           318138,
           245896,
           1165478,
           3951803,
           523034,
           2562431,
           19132,
           2958051,
           1168585,
           19862,
           33250117,
           1057817,
           844980,
           423771,
           6029947,
           89453076,
           4122401,
           3843142,
           19985479,
           9426171,
           688820,
           4349050,
           6223497,
           23160756,
           5289732,
           169028,
           18211383,
           6408443,
           154788776,
           5273845,
           2052116,
           1087030,
           13090476,
           4618853,
           80919,
           32737629,
           16722,
           18335,
           965370,
           27464,
           74022,
           41787,
           7131,
           36354,
           927700,
           585143,
           44671,
           938791,
           1135565,
           18640,
           2528166,
           960779,
           1025,
           234880,
           275512,
           3998466,
           29692989,
           87219,
           65994,
           904934,
           13739,
           7270023,
           169253,
           3861756,
           68730,
           45185,
           8704,
           1628745,
           44782,
           110501,
           10567,
           37239,
           8284784,
           1702661,
           1287088,
           293917,
           545896,
           4498027,
           73235,
           15297539,
           4024060,
           144489,
           3203739,
           662588,
           9183,
           66732,
           4613998,
           977539,
           324841,
           430672,
           646695,
           391641,
           1402871,
           502289,
           6367,
           793388,
           66713,
           14852,
           1171034,
           6255,
           233082,
           664389,
           1106666,
           994037,
           61776,
           180970,
           1452521,
           930677,
           456,
           648216,
           183491,
           2399795,
           6127084,
           3496,
           3727970,
           34658,
           182950,
           199611,
           18721415,
           201414,
           10759145,
           1248856,
           4554976,
           28389,
           8734573,
           981142,
           621047,
           43730071,
           11971,
           613798,
           256083,
           1494272,
           4215200,
           5308,
           6079,
           34040,
           1579946,
           802586,
           10102454,
           392916,
           970586,
           515645,
           21544,
           61763,
           327994,
           529384,
           8209,
           183407,
           136421,
           1994433,
           15690,
           2970,
           266392,
           55973,
           12009,
           86900,
           15155,
           1545647,
           48289,
           86679,
           12382,
           16584,
           131832,
           62795,
           336578,
           210462,
           3236,
           22976,
           8400,
           26900,
           168629,
           32070,
           120068,
           228972,
           44761,
           24604,
           11832,
           490925,
           5831,
           7504,
           101901,
           66098,
           242043,
           167215,
           11722,
           14751,
           31196,
           37358,
           37745,
           84451,
           9852,
           59940,
           14712,
           21128,
           7721,
           258934,
           91737,
           37510,
           17733,
           17786,
           27216,
           9096,
           7427,
           711,
           894689,
           43222,
           1,
           29,
           1831,
           4,
           38,
           49
          ],
          "sizemode": "area",
          "sizeref": 96742.985,
          "symbol": "circle"
         },
         "mode": "markers",
         "name": "",
         "showlegend": false,
         "type": "scattergeo"
        }
       ],
       "layout": {
        "coloraxis": {
         "colorbar": {
          "title": {
           "text": "Cases"
          }
         },
         "colorscale": [
          [
           0,
           "#0d0887"
          ],
          [
           0.1111111111111111,
           "#46039f"
          ],
          [
           0.2222222222222222,
           "#7201a8"
          ],
          [
           0.3333333333333333,
           "#9c179e"
          ],
          [
           0.4444444444444444,
           "#bd3786"
          ],
          [
           0.5555555555555556,
           "#d8576b"
          ],
          [
           0.6666666666666666,
           "#ed7953"
          ],
          [
           0.7777777777777778,
           "#fb9f3a"
          ],
          [
           0.8888888888888888,
           "#fdca26"
          ],
          [
           1,
           "#f0f921"
          ]
         ]
        },
        "geo": {
         "center": {},
         "domain": {
          "x": [
           0,
           1
          ],
          "y": [
           0,
           1
          ]
         },
         "projection": {
          "type": "natural earth"
         }
        },
        "legend": {
         "itemsizing": "constant",
         "tracegroupgap": 0
        },
        "margin": {
         "t": 60
        },
        "template": {
         "data": {
          "bar": [
           {
            "error_x": {
             "color": "#f2f5fa"
            },
            "error_y": {
             "color": "#f2f5fa"
            },
            "marker": {
             "line": {
              "color": "rgb(17,17,17)",
              "width": 0.5
             },
             "pattern": {
              "fillmode": "overlay",
              "size": 10,
              "solidity": 0.2
             }
            },
            "type": "bar"
           }
          ],
          "barpolar": [
           {
            "marker": {
             "line": {
              "color": "rgb(17,17,17)",
              "width": 0.5
             },
             "pattern": {
              "fillmode": "overlay",
              "size": 10,
              "solidity": 0.2
             }
            },
            "type": "barpolar"
           }
          ],
          "carpet": [
           {
            "aaxis": {
             "endlinecolor": "#A2B1C6",
             "gridcolor": "#506784",
             "linecolor": "#506784",
             "minorgridcolor": "#506784",
             "startlinecolor": "#A2B1C6"
            },
            "baxis": {
             "endlinecolor": "#A2B1C6",
             "gridcolor": "#506784",
             "linecolor": "#506784",
             "minorgridcolor": "#506784",
             "startlinecolor": "#A2B1C6"
            },
            "type": "carpet"
           }
          ],
          "choropleth": [
           {
            "colorbar": {
             "outlinewidth": 0,
             "ticks": ""
            },
            "type": "choropleth"
           }
          ],
          "contour": [
           {
            "colorbar": {
             "outlinewidth": 0,
             "ticks": ""
            },
            "colorscale": [
             [
              0,
              "#0d0887"
             ],
             [
              0.1111111111111111,
              "#46039f"
             ],
             [
              0.2222222222222222,
              "#7201a8"
             ],
             [
              0.3333333333333333,
              "#9c179e"
             ],
             [
              0.4444444444444444,
              "#bd3786"
             ],
             [
              0.5555555555555556,
              "#d8576b"
             ],
             [
              0.6666666666666666,
              "#ed7953"
             ],
             [
              0.7777777777777778,
              "#fb9f3a"
             ],
             [
              0.8888888888888888,
              "#fdca26"
             ],
             [
              1,
              "#f0f921"
             ]
            ],
            "type": "contour"
           }
          ],
          "contourcarpet": [
           {
            "colorbar": {
             "outlinewidth": 0,
             "ticks": ""
            },
            "type": "contourcarpet"
           }
          ],
          "heatmap": [
           {
            "colorbar": {
             "outlinewidth": 0,
             "ticks": ""
            },
            "colorscale": [
             [
              0,
              "#0d0887"
             ],
             [
              0.1111111111111111,
              "#46039f"
             ],
             [
              0.2222222222222222,
              "#7201a8"
             ],
             [
              0.3333333333333333,
              "#9c179e"
             ],
             [
              0.4444444444444444,
              "#bd3786"
             ],
             [
              0.5555555555555556,
              "#d8576b"
             ],
             [
              0.6666666666666666,
              "#ed7953"
             ],
             [
              0.7777777777777778,
              "#fb9f3a"
             ],
             [
              0.8888888888888888,
              "#fdca26"
             ],
             [
              1,
              "#f0f921"
             ]
            ],
            "type": "heatmap"
           }
          ],
          "heatmapgl": [
           {
            "colorbar": {
             "outlinewidth": 0,
             "ticks": ""
            },
            "colorscale": [
             [
              0,
              "#0d0887"
             ],
             [
              0.1111111111111111,
              "#46039f"
             ],
             [
              0.2222222222222222,
              "#7201a8"
             ],
             [
              0.3333333333333333,
              "#9c179e"
             ],
             [
              0.4444444444444444,
              "#bd3786"
             ],
             [
              0.5555555555555556,
              "#d8576b"
             ],
             [
              0.6666666666666666,
              "#ed7953"
             ],
             [
              0.7777777777777778,
              "#fb9f3a"
             ],
             [
              0.8888888888888888,
              "#fdca26"
             ],
             [
              1,
              "#f0f921"
             ]
            ],
            "type": "heatmapgl"
           }
          ],
          "histogram": [
           {
            "marker": {
             "pattern": {
              "fillmode": "overlay",
              "size": 10,
              "solidity": 0.2
             }
            },
            "type": "histogram"
           }
          ],
          "histogram2d": [
           {
            "colorbar": {
             "outlinewidth": 0,
             "ticks": ""
            },
            "colorscale": [
             [
              0,
              "#0d0887"
             ],
             [
              0.1111111111111111,
              "#46039f"
             ],
             [
              0.2222222222222222,
              "#7201a8"
             ],
             [
              0.3333333333333333,
              "#9c179e"
             ],
             [
              0.4444444444444444,
              "#bd3786"
             ],
             [
              0.5555555555555556,
              "#d8576b"
             ],
             [
              0.6666666666666666,
              "#ed7953"
             ],
             [
              0.7777777777777778,
              "#fb9f3a"
             ],
             [
              0.8888888888888888,
              "#fdca26"
             ],
             [
              1,
              "#f0f921"
             ]
            ],
            "type": "histogram2d"
           }
          ],
          "histogram2dcontour": [
           {
            "colorbar": {
             "outlinewidth": 0,
             "ticks": ""
            },
            "colorscale": [
             [
              0,
              "#0d0887"
             ],
             [
              0.1111111111111111,
              "#46039f"
             ],
             [
              0.2222222222222222,
              "#7201a8"
             ],
             [
              0.3333333333333333,
              "#9c179e"
             ],
             [
              0.4444444444444444,
              "#bd3786"
             ],
             [
              0.5555555555555556,
              "#d8576b"
             ],
             [
              0.6666666666666666,
              "#ed7953"
             ],
             [
              0.7777777777777778,
              "#fb9f3a"
             ],
             [
              0.8888888888888888,
              "#fdca26"
             ],
             [
              1,
              "#f0f921"
             ]
            ],
            "type": "histogram2dcontour"
           }
          ],
          "mesh3d": [
           {
            "colorbar": {
             "outlinewidth": 0,
             "ticks": ""
            },
            "type": "mesh3d"
           }
          ],
          "parcoords": [
           {
            "line": {
             "colorbar": {
              "outlinewidth": 0,
              "ticks": ""
             }
            },
            "type": "parcoords"
           }
          ],
          "pie": [
           {
            "automargin": true,
            "type": "pie"
           }
          ],
          "scatter": [
           {
            "marker": {
             "line": {
              "color": "#283442"
             }
            },
            "type": "scatter"
           }
          ],
          "scatter3d": [
           {
            "line": {
             "colorbar": {
              "outlinewidth": 0,
              "ticks": ""
             }
            },
            "marker": {
             "colorbar": {
              "outlinewidth": 0,
              "ticks": ""
             }
            },
            "type": "scatter3d"
           }
          ],
          "scattercarpet": [
           {
            "marker": {
             "colorbar": {
              "outlinewidth": 0,
              "ticks": ""
             }
            },
            "type": "scattercarpet"
           }
          ],
          "scattergeo": [
           {
            "marker": {
             "colorbar": {
              "outlinewidth": 0,
              "ticks": ""
             }
            },
            "type": "scattergeo"
           }
          ],
          "scattergl": [
           {
            "marker": {
             "line": {
              "color": "#283442"
             }
            },
            "type": "scattergl"
           }
          ],
          "scattermapbox": [
           {
            "marker": {
             "colorbar": {
              "outlinewidth": 0,
              "ticks": ""
             }
            },
            "type": "scattermapbox"
           }
          ],
          "scatterpolar": [
           {
            "marker": {
             "colorbar": {
              "outlinewidth": 0,
              "ticks": ""
             }
            },
            "type": "scatterpolar"
           }
          ],
          "scatterpolargl": [
           {
            "marker": {
             "colorbar": {
              "outlinewidth": 0,
              "ticks": ""
             }
            },
            "type": "scatterpolargl"
           }
          ],
          "scatterternary": [
           {
            "marker": {
             "colorbar": {
              "outlinewidth": 0,
              "ticks": ""
             }
            },
            "type": "scatterternary"
           }
          ],
          "surface": [
           {
            "colorbar": {
             "outlinewidth": 0,
             "ticks": ""
            },
            "colorscale": [
             [
              0,
              "#0d0887"
             ],
             [
              0.1111111111111111,
              "#46039f"
             ],
             [
              0.2222222222222222,
              "#7201a8"
             ],
             [
              0.3333333333333333,
              "#9c179e"
             ],
             [
              0.4444444444444444,
              "#bd3786"
             ],
             [
              0.5555555555555556,
              "#d8576b"
             ],
             [
              0.6666666666666666,
              "#ed7953"
             ],
             [
              0.7777777777777778,
              "#fb9f3a"
             ],
             [
              0.8888888888888888,
              "#fdca26"
             ],
             [
              1,
              "#f0f921"
             ]
            ],
            "type": "surface"
           }
          ],
          "table": [
           {
            "cells": {
             "fill": {
              "color": "#506784"
             },
             "line": {
              "color": "rgb(17,17,17)"
             }
            },
            "header": {
             "fill": {
              "color": "#2a3f5f"
             },
             "line": {
              "color": "rgb(17,17,17)"
             }
            },
            "type": "table"
           }
          ]
         },
         "layout": {
          "annotationdefaults": {
           "arrowcolor": "#f2f5fa",
           "arrowhead": 0,
           "arrowwidth": 1
          },
          "autotypenumbers": "strict",
          "coloraxis": {
           "colorbar": {
            "outlinewidth": 0,
            "ticks": ""
           }
          },
          "colorscale": {
           "diverging": [
            [
             0,
             "#8e0152"
            ],
            [
             0.1,
             "#c51b7d"
            ],
            [
             0.2,
             "#de77ae"
            ],
            [
             0.3,
             "#f1b6da"
            ],
            [
             0.4,
             "#fde0ef"
            ],
            [
             0.5,
             "#f7f7f7"
            ],
            [
             0.6,
             "#e6f5d0"
            ],
            [
             0.7,
             "#b8e186"
            ],
            [
             0.8,
             "#7fbc41"
            ],
            [
             0.9,
             "#4d9221"
            ],
            [
             1,
             "#276419"
            ]
           ],
           "sequential": [
            [
             0,
             "#0d0887"
            ],
            [
             0.1111111111111111,
             "#46039f"
            ],
            [
             0.2222222222222222,
             "#7201a8"
            ],
            [
             0.3333333333333333,
             "#9c179e"
            ],
            [
             0.4444444444444444,
             "#bd3786"
            ],
            [
             0.5555555555555556,
             "#d8576b"
            ],
            [
             0.6666666666666666,
             "#ed7953"
            ],
            [
             0.7777777777777778,
             "#fb9f3a"
            ],
            [
             0.8888888888888888,
             "#fdca26"
            ],
            [
             1,
             "#f0f921"
            ]
           ],
           "sequentialminus": [
            [
             0,
             "#0d0887"
            ],
            [
             0.1111111111111111,
             "#46039f"
            ],
            [
             0.2222222222222222,
             "#7201a8"
            ],
            [
             0.3333333333333333,
             "#9c179e"
            ],
            [
             0.4444444444444444,
             "#bd3786"
            ],
            [
             0.5555555555555556,
             "#d8576b"
            ],
            [
             0.6666666666666666,
             "#ed7953"
            ],
            [
             0.7777777777777778,
             "#fb9f3a"
            ],
            [
             0.8888888888888888,
             "#fdca26"
            ],
            [
             1,
             "#f0f921"
            ]
           ]
          },
          "colorway": [
           "#636efa",
           "#EF553B",
           "#00cc96",
           "#ab63fa",
           "#FFA15A",
           "#19d3f3",
           "#FF6692",
           "#B6E880",
           "#FF97FF",
           "#FECB52"
          ],
          "font": {
           "color": "#f2f5fa"
          },
          "geo": {
           "bgcolor": "rgb(17,17,17)",
           "lakecolor": "rgb(17,17,17)",
           "landcolor": "rgb(17,17,17)",
           "showlakes": true,
           "showland": true,
           "subunitcolor": "#506784"
          },
          "hoverlabel": {
           "align": "left"
          },
          "hovermode": "closest",
          "mapbox": {
           "style": "dark"
          },
          "paper_bgcolor": "rgb(17,17,17)",
          "plot_bgcolor": "rgb(17,17,17)",
          "polar": {
           "angularaxis": {
            "gridcolor": "#506784",
            "linecolor": "#506784",
            "ticks": ""
           },
           "bgcolor": "rgb(17,17,17)",
           "radialaxis": {
            "gridcolor": "#506784",
            "linecolor": "#506784",
            "ticks": ""
           }
          },
          "scene": {
           "xaxis": {
            "backgroundcolor": "rgb(17,17,17)",
            "gridcolor": "#506784",
            "gridwidth": 2,
            "linecolor": "#506784",
            "showbackground": true,
            "ticks": "",
            "zerolinecolor": "#C8D4E3"
           },
           "yaxis": {
            "backgroundcolor": "rgb(17,17,17)",
            "gridcolor": "#506784",
            "gridwidth": 2,
            "linecolor": "#506784",
            "showbackground": true,
            "ticks": "",
            "zerolinecolor": "#C8D4E3"
           },
           "zaxis": {
            "backgroundcolor": "rgb(17,17,17)",
            "gridcolor": "#506784",
            "gridwidth": 2,
            "linecolor": "#506784",
            "showbackground": true,
            "ticks": "",
            "zerolinecolor": "#C8D4E3"
           }
          },
          "shapedefaults": {
           "line": {
            "color": "#f2f5fa"
           }
          },
          "sliderdefaults": {
           "bgcolor": "#C8D4E3",
           "bordercolor": "rgb(17,17,17)",
           "borderwidth": 1,
           "tickwidth": 0
          },
          "ternary": {
           "aaxis": {
            "gridcolor": "#506784",
            "linecolor": "#506784",
            "ticks": ""
           },
           "baxis": {
            "gridcolor": "#506784",
            "linecolor": "#506784",
            "ticks": ""
           },
           "bgcolor": "rgb(17,17,17)",
           "caxis": {
            "gridcolor": "#506784",
            "linecolor": "#506784",
            "ticks": ""
           }
          },
          "title": {
           "x": 0.05
          },
          "updatemenudefaults": {
           "bgcolor": "#506784",
           "borderwidth": 0
          },
          "xaxis": {
           "automargin": true,
           "gridcolor": "#283442",
           "linecolor": "#506784",
           "ticks": "",
           "title": {
            "standoff": 15
           },
           "zerolinecolor": "#283442",
           "zerolinewidth": 2
          },
          "yaxis": {
           "automargin": true,
           "gridcolor": "#283442",
           "linecolor": "#506784",
           "ticks": "",
           "title": {
            "standoff": 15
           },
           "zerolinecolor": "#283442",
           "zerolinewidth": 2
          }
         }
        }
       }
      },
      "text/html": [
       "<div>                            <div id=\"de2bd69e-37d6-4f40-b6a6-03c884be2ff3\" class=\"plotly-graph-div\" style=\"height:525px; width:100%;\"></div>            <script type=\"text/javascript\">                require([\"plotly\"], function(Plotly) {                    window.PLOTLYENV=window.PLOTLYENV || {};                                    if (document.getElementById(\"de2bd69e-37d6-4f40-b6a6-03c884be2ff3\")) {                    Plotly.newPlot(                        \"de2bd69e-37d6-4f40-b6a6-03c884be2ff3\",                        [{\"customdata\":[[\"Peru\",3729879,213769],[\"Bulgaria\",1183877,37289],[\"Bosnia and Herzegovina\",380749,15817],[\"Hungary\",1940824,46696],[\"Georgia\",1667453,16847],[\"North Macedonia\",318138,9339],[\"Montenegro\",245896,2730],[\"Croatia\",1165478,16143],[\"Czech Republic\",3951803,40350],[\"Moldova\",523034,11584],[\"Slovakia\",2562431,20169],[\"San Marino\",19132,116],[\"Romania\",2958051,65805],[\"Lithuania\",1168585,9188],[\"Gibraltar\",19862,105],[\"Brazil\",33250117,675090],[\"Slovenia\",1057817,6666],[\"Latvia\",844980,5875],[\"Armenia\",423771,8629],[\"Poland\",6029947,116470],[\"United States\",89453076,1023736],[\"Chile\",4122401,58990],[\"Greece\",3843142,30476],[\"Italy\",19985479,169735],[\"Argentina\",9426171,129145],[\"Paraguay\",688820,19083],[\"Belgium\",4349050,32051],[\"Colombia\",6223497,140365],[\"United Kingdom\",23160756,181761],[\"Ukraine\",5289732,116422],[\"Trinidad and Tobago\",169028,4036],[\"Russia\",18211383,374062],[\"Mexico\",6408443,326420],[\"European Union[b]\",154788776,1110232],[\"Portugal\",5273845,24381],[\"Serbia\",2052116,16166],[\"Tunisia\",1087030,28823],[\"Spain\",13090476,109348],[\"Austria\",4618853,20163],[\"Suriname\",80919,1377],[\"France\",32737629,150483],[\"Bermuda\",16722,141],[\"Liechtenstein\",18335,85],[\"Uruguay\",965370,7373],[\"Saint Lucia\",27464,385],[\"French Polynesia\",74022,649],[\"Aruba\",41787,224],[\"British Virgin Islands\",7131,63],[\"Bahamas\",36354,822],[\"Ecuador\",927700,35769],[\"Estonia\",585143,2608],[\"Andorra\",44671,153],[\"Panama\",938791,8386],[\"Lebanon\",1135565,10485],[\"Grenada\",18640,233],[\"Sweden\",2528166,19203],[\"Bolivia\",960779,21979],[\"Montserrat\",1025,8],[\"Kosovo\",234880,3146],[\"Luxembourg\",275512,1103],[\"South Africa\",3998466,101895],[\"Germany\",29692989,142533],[\"Barbados\",87219,479],[\"Belize\",65994,680],[\"Costa Rica\",904934,8525],[\"Monaco\",13739,60],[\"Iran\",7270023,141477],[\"Namibia\",169253,4068],[\"Switzerland\",3861756,13857],[\"Guyana\",68730,1264],[\"Seychelles\",45185,167],[\"Antigua and Barbuda\",8704,143],[\"Republic of Ireland\",1628745,7571],[\"Cura\\u00e7ao\",44782,280],[\"Malta\",110501,768],[\"Caribbean Netherlands\",10567,37],[\"Isle of Man\",37239,110],[\"Netherlands\",8284784,22509],[\"Jordan\",1702661,14069],[\"Hong Kong\",1287088,9432],[\"Albania\",293917,3517],[\"Cyprus\",545896,1086],[\"Israel\",4498027,11101],[\"Eswatini\",73235,1417],[\"Turkey\",15297539,99088],[\"Canada\",4024060,43510],[\"Jamaica\",144489,3166],[\"Denmark\",3203739,6551],[\"Palestine\",662588,5662],[\"Saint Vincent and the Grenadines\",9183,115],[\"New Caledonia\",66732,314],[\"Malaysia\",4613998,35844],[\"Guatemala\",977539,18782],[\"Botswana\",324841,2760],[\"Honduras\",430672,10912],[\"Bahrain\",646695,1505],[\"Oman\",391641,4628],[\"Kazakhstan\",1402871,19020],[\"Libya\",502289,6430],[\"Saint Kitts and Nevis\",6367,45],[\"Azerbaijan\",793388,9717],[\"Fiji\",66713,869],[\"Dominica\",14852,68],[\"Finland\",1171034,5012],[\"Turks and Caicos Islands\",6255,36],[\"Mauritius\",233082,1008],[\"Sri Lanka\",664389,16527],[\"Cuba\",1106666,8529],[\"Belarus\",994037,7118],[\"Cabo Verde\",61776,409],[\"El Salvador\",180970,4171],[\"Norway\",1452521,3504],[\"Mongolia\",930677,2119],[\"Wallis and Futuna\",456,7],[\"Kuwait\",648216,2556],[\"Maldives\",183491,307],[\"Iraq\",2399795,25263],[\"Indonesia\",6127084,156833],[\"Anguilla\",3496,9],[\"Philippines\",3727970,60641],[\"Faroe Islands\",34658,28],[\"Brunei\",182950,225],[\"Iceland\",199611,179],[\"South Korea\",18721415,24728],[\"Kyrgyzstan\",201414,2991],[\"Vietnam\",10759145,43090],[\"Morocco\",1248856,16173],[\"Thailand\",4554976,30958],[\"Cayman Islands\",28389,29],[\"Australia\",8734573,10659],[\"Nepal\",981142,11952],[\"Dominican Republic\",621047,4383],[\"India\",43730071,525660],[\"Greenland\",11971,21],[\"Myanmar\",613798,19434],[\"Zimbabwe\",256083,5566],[\"New Zealand\",1494272,1741],[\"Taiwan\",4215200,8031],[\"Palau\",5308,6],[\"Sao Tome and Principe\",6079,74],[\"Lesotho\",34040,702],[\"Singapore\",1579946,1447],[\"Saudi Arabia\",802586,9229],[\"Japan\",10102454,31561],[\"Qatar\",392916,680],[\"United Arab Emirates\",970586,2325],[\"Egypt\",515645,24725],[\"Solomon Islands\",21544,153],[\"Mauritania\",61763,986],[\"Zambia\",327994,4009],[\"Venezuela\",529384,5745],[\"Comoros\",8209,160],[\"Afghanistan\",183407,7729],[\"Cambodia\",136421,3056],[\"Bangladesh\",1994433,29225],[\"Djibouti\",15690,189],[\"Saint Pierre and Miquelon\",2970,1],[\"Algeria\",266392,6875],[\"Syria\",55973,3150],[\"Gambia\",12009,365],[\"Malawi\",86900,2652],[\"Samoa\",15155,29],[\"Pakistan\",1545647,30438],[\"Gabon\",48289,306],[\"Senegal\",86679,1968],[\"Tonga\",12382,12],[\"Equatorial Guinea\",16584,183],[\"Rwanda\",131832,1462],[\"Sudan\",62795,4955],[\"Kenya\",336578,5668],[\"Laos\",210462,757],[\"Kiribati\",3236,13],[\"Timor-Leste\",22976,133],[\"Guinea-Bissau\",8400,171],[\"Somalia\",26900,1361],[\"Uganda\",168629,3627],[\"Haiti\",32070,837],[\"Cameroon\",120068,1931],[\"Mozambique\",228972,2215],[\"Papua New Guinea\",44761,662],[\"Republic of the Congo\",24604,386],[\"Yemen\",11832,2149],[\"Ethiopia\",490925,7561],[\"Cook Islands\",5831,1],[\"Liberia\",7504,294],[\"Angola\",101901,1909],[\"Madagascar\",66098,1403],[\"Uzbekistan\",242043,1637],[\"Ghana\",167215,1456],[\"Vanuatu\",11722,14],[\"Nicaragua\",14751,244],[\"Mali\",31196,737],[\"Guinea\",37358,445],[\"Togo\",37745,275],[\"Ivory Coast\",84451,806],[\"Eritrea\",9852,103],[\"Bhutan\",59940,21],[\"Central African Republic\",14712,113],[\"Burkina Faso\",21128,387],[\"Sierra Leone\",7721,125],[\"Nigeria\",258934,3144],[\"Democratic Republic of the Congo\",91737,1376],[\"Tanzania\",37510,841],[\"South Sudan\",17733,138],[\"Tajikistan\",17786,125],[\"Benin\",27216,163],[\"Niger\",9096,311],[\"Chad\",7427,193],[\"Macau\",711,5],[\"China[c]\",894689,5226],[\"Burundi\",43222,38],[\"North Korea\",1,6],[\"Vatican City\",29,0],[\"Falkland Islands\",1831,0],[\"Saint Helena, Ascension and Tristan da Cunha\",4,0],[\"Federated States of Micronesia\",38,0],[\"Marshall Islands\",49,0]],\"geo\":\"geo\",\"hovertemplate\":\"Cases=%{marker.color}<br>Country=%{customdata[0]}<br>Deaths=%{customdata[2]}<extra></extra>\",\"legendgroup\":\"\",\"locationmode\":\"country names\",\"locations\":[\"Peru\",\"Bulgaria\",\"Bosnia and Herzegovina\",\"Hungary\",\"Georgia\",\"North Macedonia\",\"Montenegro\",\"Croatia\",\"Czech Republic\",\"Moldova\",\"Slovakia\",\"San Marino\",\"Romania\",\"Lithuania\",\"Gibraltar\",\"Brazil\",\"Slovenia\",\"Latvia\",\"Armenia\",\"Poland\",\"United States\",\"Chile\",\"Greece\",\"Italy\",\"Argentina\",\"Paraguay\",\"Belgium\",\"Colombia\",\"United Kingdom\",\"Ukraine\",\"Trinidad and Tobago\",\"Russia\",\"Mexico\",\"European Union[b]\",\"Portugal\",\"Serbia\",\"Tunisia\",\"Spain\",\"Austria\",\"Suriname\",\"France\",\"Bermuda\",\"Liechtenstein\",\"Uruguay\",\"Saint Lucia\",\"French Polynesia\",\"Aruba\",\"British Virgin Islands\",\"Bahamas\",\"Ecuador\",\"Estonia\",\"Andorra\",\"Panama\",\"Lebanon\",\"Grenada\",\"Sweden\",\"Bolivia\",\"Montserrat\",\"Kosovo\",\"Luxembourg\",\"South Africa\",\"Germany\",\"Barbados\",\"Belize\",\"Costa Rica\",\"Monaco\",\"Iran\",\"Namibia\",\"Switzerland\",\"Guyana\",\"Seychelles\",\"Antigua and Barbuda\",\"Republic of Ireland\",\"Cura\\u00e7ao\",\"Malta\",\"Caribbean Netherlands\",\"Isle of Man\",\"Netherlands\",\"Jordan\",\"Hong Kong\",\"Albania\",\"Cyprus\",\"Israel\",\"Eswatini\",\"Turkey\",\"Canada\",\"Jamaica\",\"Denmark\",\"Palestine\",\"Saint Vincent and the Grenadines\",\"New Caledonia\",\"Malaysia\",\"Guatemala\",\"Botswana\",\"Honduras\",\"Bahrain\",\"Oman\",\"Kazakhstan\",\"Libya\",\"Saint Kitts and Nevis\",\"Azerbaijan\",\"Fiji\",\"Dominica\",\"Finland\",\"Turks and Caicos Islands\",\"Mauritius\",\"Sri Lanka\",\"Cuba\",\"Belarus\",\"Cabo Verde\",\"El Salvador\",\"Norway\",\"Mongolia\",\"Wallis and Futuna\",\"Kuwait\",\"Maldives\",\"Iraq\",\"Indonesia\",\"Anguilla\",\"Philippines\",\"Faroe Islands\",\"Brunei\",\"Iceland\",\"South Korea\",\"Kyrgyzstan\",\"Vietnam\",\"Morocco\",\"Thailand\",\"Cayman Islands\",\"Australia\",\"Nepal\",\"Dominican Republic\",\"India\",\"Greenland\",\"Myanmar\",\"Zimbabwe\",\"New Zealand\",\"Taiwan\",\"Palau\",\"Sao Tome and Principe\",\"Lesotho\",\"Singapore\",\"Saudi Arabia\",\"Japan\",\"Qatar\",\"United Arab Emirates\",\"Egypt\",\"Solomon Islands\",\"Mauritania\",\"Zambia\",\"Venezuela\",\"Comoros\",\"Afghanistan\",\"Cambodia\",\"Bangladesh\",\"Djibouti\",\"Saint Pierre and Miquelon\",\"Algeria\",\"Syria\",\"Gambia\",\"Malawi\",\"Samoa\",\"Pakistan\",\"Gabon\",\"Senegal\",\"Tonga\",\"Equatorial Guinea\",\"Rwanda\",\"Sudan\",\"Kenya\",\"Laos\",\"Kiribati\",\"Timor-Leste\",\"Guinea-Bissau\",\"Somalia\",\"Uganda\",\"Haiti\",\"Cameroon\",\"Mozambique\",\"Papua New Guinea\",\"Republic of the Congo\",\"Yemen\",\"Ethiopia\",\"Cook Islands\",\"Liberia\",\"Angola\",\"Madagascar\",\"Uzbekistan\",\"Ghana\",\"Vanuatu\",\"Nicaragua\",\"Mali\",\"Guinea\",\"Togo\",\"Ivory Coast\",\"Eritrea\",\"Bhutan\",\"Central African Republic\",\"Burkina Faso\",\"Sierra Leone\",\"Nigeria\",\"Democratic Republic of the Congo\",\"Tanzania\",\"South Sudan\",\"Tajikistan\",\"Benin\",\"Niger\",\"Chad\",\"Macau\",\"China[c]\",\"Burundi\",\"North Korea\",\"Vatican City\",\"Falkland Islands\",\"Saint Helena, Ascension and Tristan da Cunha\",\"Federated States of Micronesia\",\"Marshall Islands\"],\"marker\":{\"color\":[3729879,1183877,380749,1940824,1667453,318138,245896,1165478,3951803,523034,2562431,19132,2958051,1168585,19862,33250117,1057817,844980,423771,6029947,89453076,4122401,3843142,19985479,9426171,688820,4349050,6223497,23160756,5289732,169028,18211383,6408443,154788776,5273845,2052116,1087030,13090476,4618853,80919,32737629,16722,18335,965370,27464,74022,41787,7131,36354,927700,585143,44671,938791,1135565,18640,2528166,960779,1025,234880,275512,3998466,29692989,87219,65994,904934,13739,7270023,169253,3861756,68730,45185,8704,1628745,44782,110501,10567,37239,8284784,1702661,1287088,293917,545896,4498027,73235,15297539,4024060,144489,3203739,662588,9183,66732,4613998,977539,324841,430672,646695,391641,1402871,502289,6367,793388,66713,14852,1171034,6255,233082,664389,1106666,994037,61776,180970,1452521,930677,456,648216,183491,2399795,6127084,3496,3727970,34658,182950,199611,18721415,201414,10759145,1248856,4554976,28389,8734573,981142,621047,43730071,11971,613798,256083,1494272,4215200,5308,6079,34040,1579946,802586,10102454,392916,970586,515645,21544,61763,327994,529384,8209,183407,136421,1994433,15690,2970,266392,55973,12009,86900,15155,1545647,48289,86679,12382,16584,131832,62795,336578,210462,3236,22976,8400,26900,168629,32070,120068,228972,44761,24604,11832,490925,5831,7504,101901,66098,242043,167215,11722,14751,31196,37358,37745,84451,9852,59940,14712,21128,7721,258934,91737,37510,17733,17786,27216,9096,7427,711,894689,43222,1,29,1831,4,38,49],\"coloraxis\":\"coloraxis\",\"size\":[3729879,1183877,380749,1940824,1667453,318138,245896,1165478,3951803,523034,2562431,19132,2958051,1168585,19862,33250117,1057817,844980,423771,6029947,89453076,4122401,3843142,19985479,9426171,688820,4349050,6223497,23160756,5289732,169028,18211383,6408443,154788776,5273845,2052116,1087030,13090476,4618853,80919,32737629,16722,18335,965370,27464,74022,41787,7131,36354,927700,585143,44671,938791,1135565,18640,2528166,960779,1025,234880,275512,3998466,29692989,87219,65994,904934,13739,7270023,169253,3861756,68730,45185,8704,1628745,44782,110501,10567,37239,8284784,1702661,1287088,293917,545896,4498027,73235,15297539,4024060,144489,3203739,662588,9183,66732,4613998,977539,324841,430672,646695,391641,1402871,502289,6367,793388,66713,14852,1171034,6255,233082,664389,1106666,994037,61776,180970,1452521,930677,456,648216,183491,2399795,6127084,3496,3727970,34658,182950,199611,18721415,201414,10759145,1248856,4554976,28389,8734573,981142,621047,43730071,11971,613798,256083,1494272,4215200,5308,6079,34040,1579946,802586,10102454,392916,970586,515645,21544,61763,327994,529384,8209,183407,136421,1994433,15690,2970,266392,55973,12009,86900,15155,1545647,48289,86679,12382,16584,131832,62795,336578,210462,3236,22976,8400,26900,168629,32070,120068,228972,44761,24604,11832,490925,5831,7504,101901,66098,242043,167215,11722,14751,31196,37358,37745,84451,9852,59940,14712,21128,7721,258934,91737,37510,17733,17786,27216,9096,7427,711,894689,43222,1,29,1831,4,38,49],\"sizemode\":\"area\",\"sizeref\":96742.985,\"symbol\":\"circle\"},\"mode\":\"markers\",\"name\":\"\",\"showlegend\":false,\"type\":\"scattergeo\"}],                        {\"template\":{\"data\":{\"barpolar\":[{\"marker\":{\"line\":{\"color\":\"rgb(17,17,17)\",\"width\":0.5},\"pattern\":{\"fillmode\":\"overlay\",\"size\":10,\"solidity\":0.2}},\"type\":\"barpolar\"}],\"bar\":[{\"error_x\":{\"color\":\"#f2f5fa\"},\"error_y\":{\"color\":\"#f2f5fa\"},\"marker\":{\"line\":{\"color\":\"rgb(17,17,17)\",\"width\":0.5},\"pattern\":{\"fillmode\":\"overlay\",\"size\":10,\"solidity\":0.2}},\"type\":\"bar\"}],\"carpet\":[{\"aaxis\":{\"endlinecolor\":\"#A2B1C6\",\"gridcolor\":\"#506784\",\"linecolor\":\"#506784\",\"minorgridcolor\":\"#506784\",\"startlinecolor\":\"#A2B1C6\"},\"baxis\":{\"endlinecolor\":\"#A2B1C6\",\"gridcolor\":\"#506784\",\"linecolor\":\"#506784\",\"minorgridcolor\":\"#506784\",\"startlinecolor\":\"#A2B1C6\"},\"type\":\"carpet\"}],\"choropleth\":[{\"colorbar\":{\"outlinewidth\":0,\"ticks\":\"\"},\"type\":\"choropleth\"}],\"contourcarpet\":[{\"colorbar\":{\"outlinewidth\":0,\"ticks\":\"\"},\"type\":\"contourcarpet\"}],\"contour\":[{\"colorbar\":{\"outlinewidth\":0,\"ticks\":\"\"},\"colorscale\":[[0.0,\"#0d0887\"],[0.1111111111111111,\"#46039f\"],[0.2222222222222222,\"#7201a8\"],[0.3333333333333333,\"#9c179e\"],[0.4444444444444444,\"#bd3786\"],[0.5555555555555556,\"#d8576b\"],[0.6666666666666666,\"#ed7953\"],[0.7777777777777778,\"#fb9f3a\"],[0.8888888888888888,\"#fdca26\"],[1.0,\"#f0f921\"]],\"type\":\"contour\"}],\"heatmapgl\":[{\"colorbar\":{\"outlinewidth\":0,\"ticks\":\"\"},\"colorscale\":[[0.0,\"#0d0887\"],[0.1111111111111111,\"#46039f\"],[0.2222222222222222,\"#7201a8\"],[0.3333333333333333,\"#9c179e\"],[0.4444444444444444,\"#bd3786\"],[0.5555555555555556,\"#d8576b\"],[0.6666666666666666,\"#ed7953\"],[0.7777777777777778,\"#fb9f3a\"],[0.8888888888888888,\"#fdca26\"],[1.0,\"#f0f921\"]],\"type\":\"heatmapgl\"}],\"heatmap\":[{\"colorbar\":{\"outlinewidth\":0,\"ticks\":\"\"},\"colorscale\":[[0.0,\"#0d0887\"],[0.1111111111111111,\"#46039f\"],[0.2222222222222222,\"#7201a8\"],[0.3333333333333333,\"#9c179e\"],[0.4444444444444444,\"#bd3786\"],[0.5555555555555556,\"#d8576b\"],[0.6666666666666666,\"#ed7953\"],[0.7777777777777778,\"#fb9f3a\"],[0.8888888888888888,\"#fdca26\"],[1.0,\"#f0f921\"]],\"type\":\"heatmap\"}],\"histogram2dcontour\":[{\"colorbar\":{\"outlinewidth\":0,\"ticks\":\"\"},\"colorscale\":[[0.0,\"#0d0887\"],[0.1111111111111111,\"#46039f\"],[0.2222222222222222,\"#7201a8\"],[0.3333333333333333,\"#9c179e\"],[0.4444444444444444,\"#bd3786\"],[0.5555555555555556,\"#d8576b\"],[0.6666666666666666,\"#ed7953\"],[0.7777777777777778,\"#fb9f3a\"],[0.8888888888888888,\"#fdca26\"],[1.0,\"#f0f921\"]],\"type\":\"histogram2dcontour\"}],\"histogram2d\":[{\"colorbar\":{\"outlinewidth\":0,\"ticks\":\"\"},\"colorscale\":[[0.0,\"#0d0887\"],[0.1111111111111111,\"#46039f\"],[0.2222222222222222,\"#7201a8\"],[0.3333333333333333,\"#9c179e\"],[0.4444444444444444,\"#bd3786\"],[0.5555555555555556,\"#d8576b\"],[0.6666666666666666,\"#ed7953\"],[0.7777777777777778,\"#fb9f3a\"],[0.8888888888888888,\"#fdca26\"],[1.0,\"#f0f921\"]],\"type\":\"histogram2d\"}],\"histogram\":[{\"marker\":{\"pattern\":{\"fillmode\":\"overlay\",\"size\":10,\"solidity\":0.2}},\"type\":\"histogram\"}],\"mesh3d\":[{\"colorbar\":{\"outlinewidth\":0,\"ticks\":\"\"},\"type\":\"mesh3d\"}],\"parcoords\":[{\"line\":{\"colorbar\":{\"outlinewidth\":0,\"ticks\":\"\"}},\"type\":\"parcoords\"}],\"pie\":[{\"automargin\":true,\"type\":\"pie\"}],\"scatter3d\":[{\"line\":{\"colorbar\":{\"outlinewidth\":0,\"ticks\":\"\"}},\"marker\":{\"colorbar\":{\"outlinewidth\":0,\"ticks\":\"\"}},\"type\":\"scatter3d\"}],\"scattercarpet\":[{\"marker\":{\"colorbar\":{\"outlinewidth\":0,\"ticks\":\"\"}},\"type\":\"scattercarpet\"}],\"scattergeo\":[{\"marker\":{\"colorbar\":{\"outlinewidth\":0,\"ticks\":\"\"}},\"type\":\"scattergeo\"}],\"scattergl\":[{\"marker\":{\"line\":{\"color\":\"#283442\"}},\"type\":\"scattergl\"}],\"scattermapbox\":[{\"marker\":{\"colorbar\":{\"outlinewidth\":0,\"ticks\":\"\"}},\"type\":\"scattermapbox\"}],\"scatterpolargl\":[{\"marker\":{\"colorbar\":{\"outlinewidth\":0,\"ticks\":\"\"}},\"type\":\"scatterpolargl\"}],\"scatterpolar\":[{\"marker\":{\"colorbar\":{\"outlinewidth\":0,\"ticks\":\"\"}},\"type\":\"scatterpolar\"}],\"scatter\":[{\"marker\":{\"line\":{\"color\":\"#283442\"}},\"type\":\"scatter\"}],\"scatterternary\":[{\"marker\":{\"colorbar\":{\"outlinewidth\":0,\"ticks\":\"\"}},\"type\":\"scatterternary\"}],\"surface\":[{\"colorbar\":{\"outlinewidth\":0,\"ticks\":\"\"},\"colorscale\":[[0.0,\"#0d0887\"],[0.1111111111111111,\"#46039f\"],[0.2222222222222222,\"#7201a8\"],[0.3333333333333333,\"#9c179e\"],[0.4444444444444444,\"#bd3786\"],[0.5555555555555556,\"#d8576b\"],[0.6666666666666666,\"#ed7953\"],[0.7777777777777778,\"#fb9f3a\"],[0.8888888888888888,\"#fdca26\"],[1.0,\"#f0f921\"]],\"type\":\"surface\"}],\"table\":[{\"cells\":{\"fill\":{\"color\":\"#506784\"},\"line\":{\"color\":\"rgb(17,17,17)\"}},\"header\":{\"fill\":{\"color\":\"#2a3f5f\"},\"line\":{\"color\":\"rgb(17,17,17)\"}},\"type\":\"table\"}]},\"layout\":{\"annotationdefaults\":{\"arrowcolor\":\"#f2f5fa\",\"arrowhead\":0,\"arrowwidth\":1},\"autotypenumbers\":\"strict\",\"coloraxis\":{\"colorbar\":{\"outlinewidth\":0,\"ticks\":\"\"}},\"colorscale\":{\"diverging\":[[0,\"#8e0152\"],[0.1,\"#c51b7d\"],[0.2,\"#de77ae\"],[0.3,\"#f1b6da\"],[0.4,\"#fde0ef\"],[0.5,\"#f7f7f7\"],[0.6,\"#e6f5d0\"],[0.7,\"#b8e186\"],[0.8,\"#7fbc41\"],[0.9,\"#4d9221\"],[1,\"#276419\"]],\"sequential\":[[0.0,\"#0d0887\"],[0.1111111111111111,\"#46039f\"],[0.2222222222222222,\"#7201a8\"],[0.3333333333333333,\"#9c179e\"],[0.4444444444444444,\"#bd3786\"],[0.5555555555555556,\"#d8576b\"],[0.6666666666666666,\"#ed7953\"],[0.7777777777777778,\"#fb9f3a\"],[0.8888888888888888,\"#fdca26\"],[1.0,\"#f0f921\"]],\"sequentialminus\":[[0.0,\"#0d0887\"],[0.1111111111111111,\"#46039f\"],[0.2222222222222222,\"#7201a8\"],[0.3333333333333333,\"#9c179e\"],[0.4444444444444444,\"#bd3786\"],[0.5555555555555556,\"#d8576b\"],[0.6666666666666666,\"#ed7953\"],[0.7777777777777778,\"#fb9f3a\"],[0.8888888888888888,\"#fdca26\"],[1.0,\"#f0f921\"]]},\"colorway\":[\"#636efa\",\"#EF553B\",\"#00cc96\",\"#ab63fa\",\"#FFA15A\",\"#19d3f3\",\"#FF6692\",\"#B6E880\",\"#FF97FF\",\"#FECB52\"],\"font\":{\"color\":\"#f2f5fa\"},\"geo\":{\"bgcolor\":\"rgb(17,17,17)\",\"lakecolor\":\"rgb(17,17,17)\",\"landcolor\":\"rgb(17,17,17)\",\"showlakes\":true,\"showland\":true,\"subunitcolor\":\"#506784\"},\"hoverlabel\":{\"align\":\"left\"},\"hovermode\":\"closest\",\"mapbox\":{\"style\":\"dark\"},\"paper_bgcolor\":\"rgb(17,17,17)\",\"plot_bgcolor\":\"rgb(17,17,17)\",\"polar\":{\"angularaxis\":{\"gridcolor\":\"#506784\",\"linecolor\":\"#506784\",\"ticks\":\"\"},\"bgcolor\":\"rgb(17,17,17)\",\"radialaxis\":{\"gridcolor\":\"#506784\",\"linecolor\":\"#506784\",\"ticks\":\"\"}},\"scene\":{\"xaxis\":{\"backgroundcolor\":\"rgb(17,17,17)\",\"gridcolor\":\"#506784\",\"gridwidth\":2,\"linecolor\":\"#506784\",\"showbackground\":true,\"ticks\":\"\",\"zerolinecolor\":\"#C8D4E3\"},\"yaxis\":{\"backgroundcolor\":\"rgb(17,17,17)\",\"gridcolor\":\"#506784\",\"gridwidth\":2,\"linecolor\":\"#506784\",\"showbackground\":true,\"ticks\":\"\",\"zerolinecolor\":\"#C8D4E3\"},\"zaxis\":{\"backgroundcolor\":\"rgb(17,17,17)\",\"gridcolor\":\"#506784\",\"gridwidth\":2,\"linecolor\":\"#506784\",\"showbackground\":true,\"ticks\":\"\",\"zerolinecolor\":\"#C8D4E3\"}},\"shapedefaults\":{\"line\":{\"color\":\"#f2f5fa\"}},\"sliderdefaults\":{\"bgcolor\":\"#C8D4E3\",\"bordercolor\":\"rgb(17,17,17)\",\"borderwidth\":1,\"tickwidth\":0},\"ternary\":{\"aaxis\":{\"gridcolor\":\"#506784\",\"linecolor\":\"#506784\",\"ticks\":\"\"},\"baxis\":{\"gridcolor\":\"#506784\",\"linecolor\":\"#506784\",\"ticks\":\"\"},\"bgcolor\":\"rgb(17,17,17)\",\"caxis\":{\"gridcolor\":\"#506784\",\"linecolor\":\"#506784\",\"ticks\":\"\"}},\"title\":{\"x\":0.05},\"updatemenudefaults\":{\"bgcolor\":\"#506784\",\"borderwidth\":0},\"xaxis\":{\"automargin\":true,\"gridcolor\":\"#283442\",\"linecolor\":\"#506784\",\"ticks\":\"\",\"title\":{\"standoff\":15},\"zerolinecolor\":\"#283442\",\"zerolinewidth\":2},\"yaxis\":{\"automargin\":true,\"gridcolor\":\"#283442\",\"linecolor\":\"#506784\",\"ticks\":\"\",\"title\":{\"standoff\":15},\"zerolinecolor\":\"#283442\",\"zerolinewidth\":2}}},\"geo\":{\"domain\":{\"x\":[0.0,1.0],\"y\":[0.0,1.0]},\"projection\":{\"type\":\"natural earth\"},\"center\":{}},\"coloraxis\":{\"colorbar\":{\"title\":{\"text\":\"Cases\"}},\"colorscale\":[[0.0,\"#0d0887\"],[0.1111111111111111,\"#46039f\"],[0.2222222222222222,\"#7201a8\"],[0.3333333333333333,\"#9c179e\"],[0.4444444444444444,\"#bd3786\"],[0.5555555555555556,\"#d8576b\"],[0.6666666666666666,\"#ed7953\"],[0.7777777777777778,\"#fb9f3a\"],[0.8888888888888888,\"#fdca26\"],[1.0,\"#f0f921\"]]},\"legend\":{\"tracegroupgap\":0,\"itemsizing\":\"constant\"},\"margin\":{\"t\":60}},                        {\"responsive\": true}                    ).then(function(){\n",
       "                            \n",
       "var gd = document.getElementById('de2bd69e-37d6-4f40-b6a6-03c884be2ff3');\n",
       "var x = new MutationObserver(function (mutations, observer) {{\n",
       "        var display = window.getComputedStyle(gd).display;\n",
       "        if (!display || display === 'none') {{\n",
       "            console.log([gd, 'removed!']);\n",
       "            Plotly.purge(gd);\n",
       "            observer.disconnect();\n",
       "        }}\n",
       "}});\n",
       "\n",
       "// Listen for the removal of the full notebook cells\n",
       "var notebookContainer = gd.closest('#notebook-container');\n",
       "if (notebookContainer) {{\n",
       "    x.observe(notebookContainer, {childList: true});\n",
       "}}\n",
       "\n",
       "// Listen for the clearing of the current output cell\n",
       "var outputEl = gd.closest('.output');\n",
       "if (outputEl) {{\n",
       "    x.observe(outputEl, {childList: true});\n",
       "}}\n",
       "\n",
       "                        })                };                });            </script>        </div>"
      ]
     },
     "metadata": {},
     "output_type": "display_data"
    }
   ],
   "source": [
    "fig = px.scatter_geo(mydata, locationmode = \"country names\", locations=\"Country\", color=\"Cases\",\n",
    "                     hover_data=['Country', 'Cases', 'Deaths'], size=\"Cases\",\n",
    "                     projection=\"natural earth\", size_max = 40, template = 'plotly_dark')\n",
    "fig.show()"
   ]
  },
  {
   "cell_type": "code",
   "execution_count": null,
   "id": "99696c3c",
   "metadata": {},
   "outputs": [],
   "source": []
  }
 ],
 "metadata": {
  "kernelspec": {
   "display_name": "Python 3 (ipykernel)",
   "language": "python",
   "name": "python3"
  },
  "language_info": {
   "codemirror_mode": {
    "name": "ipython",
    "version": 3
   },
   "file_extension": ".py",
   "mimetype": "text/x-python",
   "name": "python",
   "nbconvert_exporter": "python",
   "pygments_lexer": "ipython3",
   "version": "3.9.7"
  }
 },
 "nbformat": 4,
 "nbformat_minor": 5
}
